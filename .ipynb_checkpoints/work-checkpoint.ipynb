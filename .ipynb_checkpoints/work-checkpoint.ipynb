{
 "cells": [
  {
   "cell_type": "code",
   "execution_count": 127,
   "id": "fbf87109-810a-44a8-90ea-03cf7a94f9eb",
   "metadata": {},
   "outputs": [],
   "source": [
    "import pandas as pd\n",
    "import seaborn as sns\n",
    "import matplotlib.pyplot as plt\n",
    "import os\n",
    "import geopandas as gpd\n",
    "import numpy as np\n",
    "from sklearn.linear_model import LinearRegression\n",
    "from sklearn.metrics import mean_squared_error"
   ]
  },
  {
   "cell_type": "markdown",
   "id": "724b9bd6-d500-451e-92c6-a0da694dfdbf",
   "metadata": {
    "jp-MarkdownHeadingCollapsed": true,
    "tags": []
   },
   "source": [
    "# DATA 200 Midterm Project\n",
    "27th February 2024\n",
    "By Syed, Bone, Tharun, Cameron\n",
    "\n",
    "### Introduction\n",
    "This notebook contains the code for the data analysis and visualization of the Hansard dataset provided at https://www.lipad.ca/data/ and the greenhouse gas emissions dataset provided at https://www.kaggle.com/datasets/narimanissin94/greenhousegas-emissions-across-canada. The hansard dataset contains the transcripts of the Canadian Parliament from 1901 to 2019. The greenhouse gas emissions dataset contains the greenhouse gas emissions from 2004 to 2020. The goal of this project is to determine if the carbon tax policy in Canada has a significant impact on the reduction of greenhouse gas emissions.\n",
    "\n",
    "### Table of Contents\n",
    "1. [Data Cleaning](#Data-Cleaning)\n",
    "2. [Data Analysis](#Data-Analysis)\n",
    "3. [Data Visualization](#Data-Visualization)\n",
    "4. [Conclusion](#Conclusion)\n",
    "\n",
    "#### Does carbon tax policy in Canada have a significant impact on the reduction of greenhouse gas emissions?\n",
    "\n",
    "\n"
   ]
  },
  {
   "cell_type": "markdown",
   "id": "b10a918c-1b53-4eec-8d44-a7f8a3a3ed8a",
   "metadata": {},
   "source": [
    "<h1>CARBON DATASET</h1>"
   ]
  },
  {
   "cell_type": "code",
   "execution_count": 2,
   "id": "c737f95b-7ecd-41e4-b43e-eb0fa6b4dd5d",
   "metadata": {
    "tags": []
   },
   "outputs": [
    {
     "data": {
      "text/html": [
       "<div>\n",
       "<style scoped>\n",
       "    .dataframe tbody tr th:only-of-type {\n",
       "        vertical-align: middle;\n",
       "    }\n",
       "\n",
       "    .dataframe tbody tr th {\n",
       "        vertical-align: top;\n",
       "    }\n",
       "\n",
       "    .dataframe thead th {\n",
       "        text-align: right;\n",
       "    }\n",
       "</style>\n",
       "<table border=\"1\" class=\"dataframe\">\n",
       "  <thead>\n",
       "    <tr style=\"text-align: right;\">\n",
       "      <th></th>\n",
       "      <th>GHGRP ID / Numéro d'identification de PDGES</th>\n",
       "      <th>Reference Year / Année de référence</th>\n",
       "      <th>Facility Name / Nom de l'installation</th>\n",
       "      <th>Facility Location / Emplacement de l'installation</th>\n",
       "      <th>Facility City or District or Municipality / Ville ou District ou Municipalité de l'installation</th>\n",
       "      <th>Facility Province or Territory / Province ou territoire de l'installation</th>\n",
       "      <th>Facility Postal Code / Code postal de l'installation</th>\n",
       "      <th>Latitude</th>\n",
       "      <th>Longitude</th>\n",
       "      <th>Facility NPRI ID / Numéro d'identification de l'INRP</th>\n",
       "      <th>...</th>\n",
       "      <th>C4F8 (tonnes)</th>\n",
       "      <th>C4F8 (tonnes CO2e / tonnes éq. CO2)</th>\n",
       "      <th>C5F12 (tonnes)</th>\n",
       "      <th>C5F12 (tonnes CO2e / tonnes éq. CO2)</th>\n",
       "      <th>C6F14 (tonnes)</th>\n",
       "      <th>C6F14 (tonnes CO2e / tonnes éq. CO2)</th>\n",
       "      <th>PFC Total (tonnes CO2e / tonnes éq. CO2)</th>\n",
       "      <th>SF6 (tonnes)</th>\n",
       "      <th>SF6 (tonnes CO2e / tonnes éq. CO2)</th>\n",
       "      <th>Total Emissions (tonnes CO2e) / Émissions totales (tonnes éq. CO2)</th>\n",
       "    </tr>\n",
       "  </thead>\n",
       "  <tbody>\n",
       "    <tr>\n",
       "      <th>0</th>\n",
       "      <td>G10001</td>\n",
       "      <td>2020</td>\n",
       "      <td>Division Alma</td>\n",
       "      <td>1100 Melanion Street</td>\n",
       "      <td>Alma</td>\n",
       "      <td>Quebec</td>\n",
       "      <td>G8B 5W2</td>\n",
       "      <td>48.56500</td>\n",
       "      <td>-71.65556</td>\n",
       "      <td>983.0</td>\n",
       "      <td>...</td>\n",
       "      <td>0.0</td>\n",
       "      <td>0.0</td>\n",
       "      <td>0</td>\n",
       "      <td>0</td>\n",
       "      <td>0</td>\n",
       "      <td>0</td>\n",
       "      <td>0.0</td>\n",
       "      <td>NaN</td>\n",
       "      <td>NaN</td>\n",
       "      <td>7.779969e+04</td>\n",
       "    </tr>\n",
       "    <tr>\n",
       "      <th>1</th>\n",
       "      <td>G10003</td>\n",
       "      <td>2020</td>\n",
       "      <td>Foothills Pipeline, Alberta</td>\n",
       "      <td>NaN</td>\n",
       "      <td>Airdrie</td>\n",
       "      <td>Alberta</td>\n",
       "      <td>T4A 2G7</td>\n",
       "      <td>NaN</td>\n",
       "      <td>NaN</td>\n",
       "      <td>NaN</td>\n",
       "      <td>...</td>\n",
       "      <td>0.0</td>\n",
       "      <td>0.0</td>\n",
       "      <td>0</td>\n",
       "      <td>0</td>\n",
       "      <td>0</td>\n",
       "      <td>0</td>\n",
       "      <td>0.0</td>\n",
       "      <td>NaN</td>\n",
       "      <td>NaN</td>\n",
       "      <td>2.878482e+05</td>\n",
       "    </tr>\n",
       "    <tr>\n",
       "      <th>2</th>\n",
       "      <td>G10004</td>\n",
       "      <td>2020</td>\n",
       "      <td>Kingston CoGen</td>\n",
       "      <td>5146 Taylor-Kidd Boulevard</td>\n",
       "      <td>Bath</td>\n",
       "      <td>Ontario</td>\n",
       "      <td>K0H 1G0</td>\n",
       "      <td>44.20950</td>\n",
       "      <td>-76.72460</td>\n",
       "      <td>5765.0</td>\n",
       "      <td>...</td>\n",
       "      <td>0.0</td>\n",
       "      <td>0.0</td>\n",
       "      <td>0</td>\n",
       "      <td>0</td>\n",
       "      <td>0</td>\n",
       "      <td>0</td>\n",
       "      <td>0.0</td>\n",
       "      <td>NaN</td>\n",
       "      <td>NaN</td>\n",
       "      <td>3.237168e+02</td>\n",
       "    </tr>\n",
       "    <tr>\n",
       "      <th>3</th>\n",
       "      <td>G10006</td>\n",
       "      <td>2020</td>\n",
       "      <td>Redwater Fertilizer Operations</td>\n",
       "      <td>56225 SH643</td>\n",
       "      <td>Sturgeon County</td>\n",
       "      <td>Alberta</td>\n",
       "      <td>T0A 2W0</td>\n",
       "      <td>53.84200</td>\n",
       "      <td>-113.09300</td>\n",
       "      <td>2134.0</td>\n",
       "      <td>...</td>\n",
       "      <td>0.0</td>\n",
       "      <td>0.0</td>\n",
       "      <td>0</td>\n",
       "      <td>0</td>\n",
       "      <td>0</td>\n",
       "      <td>0</td>\n",
       "      <td>0.0</td>\n",
       "      <td>NaN</td>\n",
       "      <td>NaN</td>\n",
       "      <td>1.091022e+06</td>\n",
       "    </tr>\n",
       "    <tr>\n",
       "      <th>4</th>\n",
       "      <td>G10007</td>\n",
       "      <td>2020</td>\n",
       "      <td>Alberta Envirofuels</td>\n",
       "      <td>9511 17 Street Northwest</td>\n",
       "      <td>Edmonton</td>\n",
       "      <td>Alberta</td>\n",
       "      <td>T6P 1Y3</td>\n",
       "      <td>53.53199</td>\n",
       "      <td>-113.36492</td>\n",
       "      <td>3974.0</td>\n",
       "      <td>...</td>\n",
       "      <td>0.0</td>\n",
       "      <td>0.0</td>\n",
       "      <td>0</td>\n",
       "      <td>0</td>\n",
       "      <td>0</td>\n",
       "      <td>0</td>\n",
       "      <td>0.0</td>\n",
       "      <td>NaN</td>\n",
       "      <td>NaN</td>\n",
       "      <td>3.016439e+05</td>\n",
       "    </tr>\n",
       "  </tbody>\n",
       "</table>\n",
       "<p>5 rows × 77 columns</p>\n",
       "</div>"
      ],
      "text/plain": [
       "  GHGRP ID / Numéro d'identification de PDGES  \\\n",
       "0                                      G10001   \n",
       "1                                      G10003   \n",
       "2                                      G10004   \n",
       "3                                      G10006   \n",
       "4                                      G10007   \n",
       "\n",
       "   Reference Year / Année de référence Facility Name / Nom de l'installation  \\\n",
       "0                                 2020                         Division Alma   \n",
       "1                                 2020           Foothills Pipeline, Alberta   \n",
       "2                                 2020                        Kingston CoGen   \n",
       "3                                 2020        Redwater Fertilizer Operations   \n",
       "4                                 2020                   Alberta Envirofuels   \n",
       "\n",
       "  Facility Location / Emplacement de l'installation  \\\n",
       "0                              1100 Melanion Street   \n",
       "1                                               NaN   \n",
       "2                        5146 Taylor-Kidd Boulevard   \n",
       "3                                       56225 SH643   \n",
       "4                          9511 17 Street Northwest   \n",
       "\n",
       "  Facility City or District or Municipality / Ville ou District ou Municipalité de l'installation  \\\n",
       "0                                               Alma                                                \n",
       "1                                            Airdrie                                                \n",
       "2                                               Bath                                                \n",
       "3                                    Sturgeon County                                                \n",
       "4                                           Edmonton                                                \n",
       "\n",
       "  Facility Province or Territory / Province ou territoire de l'installation  \\\n",
       "0                                             Quebec                          \n",
       "1                                            Alberta                          \n",
       "2                                            Ontario                          \n",
       "3                                            Alberta                          \n",
       "4                                            Alberta                          \n",
       "\n",
       "  Facility Postal Code / Code postal de l'installation  Latitude  Longitude  \\\n",
       "0                                            G8B 5W2    48.56500  -71.65556   \n",
       "1                                            T4A 2G7         NaN        NaN   \n",
       "2                                            K0H 1G0    44.20950  -76.72460   \n",
       "3                                            T0A 2W0    53.84200 -113.09300   \n",
       "4                                            T6P 1Y3    53.53199 -113.36492   \n",
       "\n",
       "   Facility NPRI ID / Numéro d'identification de l'INRP  ...  C4F8 (tonnes)  \\\n",
       "0                                              983.0     ...            0.0   \n",
       "1                                                NaN     ...            0.0   \n",
       "2                                             5765.0     ...            0.0   \n",
       "3                                             2134.0     ...            0.0   \n",
       "4                                             3974.0     ...            0.0   \n",
       "\n",
       "  C4F8 (tonnes CO2e / tonnes éq. CO2) C5F12 (tonnes)  \\\n",
       "0                                 0.0              0   \n",
       "1                                 0.0              0   \n",
       "2                                 0.0              0   \n",
       "3                                 0.0              0   \n",
       "4                                 0.0              0   \n",
       "\n",
       "  C5F12 (tonnes CO2e / tonnes éq. CO2) C6F14 (tonnes)  \\\n",
       "0                                    0              0   \n",
       "1                                    0              0   \n",
       "2                                    0              0   \n",
       "3                                    0              0   \n",
       "4                                    0              0   \n",
       "\n",
       "   C6F14 (tonnes CO2e / tonnes éq. CO2)  \\\n",
       "0                                     0   \n",
       "1                                     0   \n",
       "2                                     0   \n",
       "3                                     0   \n",
       "4                                     0   \n",
       "\n",
       "   PFC Total (tonnes CO2e / tonnes éq. CO2) SF6 (tonnes)  \\\n",
       "0                                       0.0          NaN   \n",
       "1                                       0.0          NaN   \n",
       "2                                       0.0          NaN   \n",
       "3                                       0.0          NaN   \n",
       "4                                       0.0          NaN   \n",
       "\n",
       "  SF6 (tonnes CO2e / tonnes éq. CO2)  \\\n",
       "0                                NaN   \n",
       "1                                NaN   \n",
       "2                                NaN   \n",
       "3                                NaN   \n",
       "4                                NaN   \n",
       "\n",
       "   Total Emissions (tonnes CO2e) / Émissions totales (tonnes éq. CO2)  \n",
       "0                                       7.779969e+04                   \n",
       "1                                       2.878482e+05                   \n",
       "2                                       3.237168e+02                   \n",
       "3                                       1.091022e+06                   \n",
       "4                                       3.016439e+05                   \n",
       "\n",
       "[5 rows x 77 columns]"
      ]
     },
     "execution_count": 2,
     "metadata": {},
     "output_type": "execute_result"
    }
   ],
   "source": [
    "#load ghg dataset\n",
    "carbon_df = pd.read_csv('PDGES-GHGRP-GHGEmissionsGES-2004-Present (1).csv', encoding='latin-1')\n",
    "carbon_df.head()"
   ]
  },
  {
   "cell_type": "code",
   "execution_count": 3,
   "id": "75d23ed9-b2fe-4109-9f01-a6864c486916",
   "metadata": {
    "tags": []
   },
   "outputs": [
    {
     "name": "stdout",
     "output_type": "stream",
     "text": [
      "<class 'pandas.core.frame.DataFrame'>\n",
      "RangeIndex: 13093 entries, 0 to 13092\n",
      "Data columns (total 77 columns):\n",
      " #   Column                                                                                                                           Non-Null Count  Dtype  \n",
      "---  ------                                                                                                                           --------------  -----  \n",
      " 0   GHGRP ID / Numéro d'identification de PDGES                                                                                      13093 non-null  object \n",
      " 1   Reference Year / Année de référence                                                                                              13093 non-null  int64  \n",
      " 2   Facility Name / Nom de l'installation                                                                                            13093 non-null  object \n",
      " 3   Facility Location / Emplacement de l'installation                                                                                9770 non-null   object \n",
      " 4   Facility City or District or Municipality / Ville ou District ou Municipalité de l'installation                                  11841 non-null  object \n",
      " 5   Facility Province or Territory / Province ou territoire de l'installation                                                        13093 non-null  object \n",
      " 6   Facility Postal Code / Code postal de l'installation                                                                             10274 non-null  object \n",
      " 7   Latitude                                                                                                                         9679 non-null   float64\n",
      " 8   Longitude                                                                                                                        9680 non-null   float64\n",
      " 9   Facility NPRI ID / Numéro d'identification de l'INRP                                                                             11955 non-null  float64\n",
      " 10  Facility NAICS Code / Code SCIAN de l'installation                                                                               13093 non-null  int64  \n",
      " 11  English Facility NAICS Code Description / Description du code SCIAN de l'installation en anglais                                 13093 non-null  object \n",
      " 12  French Facility NAICS Code Description / Description du code SCIAN de l'installation en français                                 13090 non-null  object \n",
      " 13  Reporting Company Legal Name / Dénomination sociale de la société déclarante                                                     13093 non-null  object \n",
      " 14  Reporting Company Trade Name / Nom commercial de la société déclarante                                                           8043 non-null   object \n",
      " 15  Reporting Company Business Number / Numéro d'entreprise de la société déclarante                                                 11980 non-null  float64\n",
      " 16  DUNS Number / Numéro DUNS                                                                                                        9410 non-null   float64\n",
      " 17  Public Contact Name / Nom du responsable des renseignements au public                                                            13093 non-null  object \n",
      " 18  Public Contact Position / Poste ou Titre du responsable des renseignements au public                                             8097 non-null   object \n",
      " 19  Public Contact Telephone / Numéro de téléphone du responsable des renseignements au public                                       6978 non-null   float64\n",
      " 20  Public Contact Extension / Poste téléphonique du responsable des renseignements au public                                        1976 non-null   float64\n",
      " 21  Public Contact Email / Adresse électronique du responsable des renseignements au public                                          8169 non-null   object \n",
      " 22  Public Contact Mailing Address / Adresse postale du responsable des renseignements au public                                     7176 non-null   object \n",
      " 23  Public Contact City or District or Municipality / Ville ou District ou Municipalité du responsable des renseignements au public  7504 non-null   object \n",
      " 24  Public Contact Province or Territory / Province ou Territoire du responsable des renseignements au public                        8166 non-null   object \n",
      " 25  Public Contact Postal Code / Code postal du responsable des renseignement au public                                              7501 non-null   object \n",
      " 26  CO2 (tonnes)                                                                                                                     12871 non-null  float64\n",
      " 27  CO2 (tonnes CO2e / tonnes éq. CO2)                                                                                               12871 non-null  float64\n",
      " 28  CH4 (tonnes)                                                                                                                     12905 non-null  float64\n",
      " 29  CH4 (tonnes CO2e / tonnes éq. CO2)                                                                                               12905 non-null  float64\n",
      " 30  N2O (tonnes)                                                                                                                     12643 non-null  float64\n",
      " 31  N2O (tonnes CO2e / tonnes éq. CO2)                                                                                               12643 non-null  float64\n",
      " 32  HFC-23 (tonnes)                                                                                                                  13093 non-null  float64\n",
      " 33   HFC-23 (tonnes CO2e / tonnes éq. CO2)                                                                                           13093 non-null  float64\n",
      " 34  HFC-32 (tonnes)                                                                                                                  13093 non-null  float64\n",
      " 35  HFC-32 (tonnes CO2e / tonnes éq. CO2)                                                                                            13093 non-null  float64\n",
      " 36  HFC-125 (tonnes)                                                                                                                 13093 non-null  float64\n",
      " 37  HFC-125 (tonnes CO2e / tonnes éq. CO2)                                                                                           13093 non-null  float64\n",
      " 38  HFC-134a (tonnes)                                                                                                                13093 non-null  float64\n",
      " 39  HFC-134a (tonnes CO2e / tonnes éq. CO2)                                                                                          13093 non-null  float64\n",
      " 40  HFC-143a (tonnes)                                                                                                                13093 non-null  float64\n",
      " 41  HFC-143a (tonnes CO2e / tonnes éq. CO2)                                                                                          13093 non-null  float64\n",
      " 42  HFC-152a (tonnes)                                                                                                                13093 non-null  float64\n",
      " 43  HFC-152a (tonnes CO2e / tonnes éq. CO2)                                                                                          13093 non-null  float64\n",
      " 44  HFC-41 (tonnes)                                                                                                                  13093 non-null  float64\n",
      " 45  HFC-41 (tonnes CO2e / tonnes éq. CO2)                                                                                            13093 non-null  float64\n",
      " 46  HFC-43-10mee (tonnes)                                                                                                            13093 non-null  float64\n",
      " 47  HFC-43-10mee (tonnes CO2e / tonnes éq. CO2)                                                                                      13093 non-null  float64\n",
      " 48  HFC-134 (tonnes)                                                                                                                 13093 non-null  float64\n",
      " 49  HFC-134 (tonnes CO2e / tonnes éq. CO2)                                                                                           13093 non-null  float64\n",
      " 50  HFC-143 (tonnes)                                                                                                                 13093 non-null  float64\n",
      " 51  HFC-143 (tonnes CO2e / tonnes éq. CO2)                                                                                           13093 non-null  float64\n",
      " 52  HFC-227ea (tonnes)                                                                                                               13093 non-null  float64\n",
      " 53  HFC-227ea (tonnes CO2e / tonnes éq. CO2)                                                                                         13093 non-null  float64\n",
      " 54  HFC-236fa (tonnes)                                                                                                               13093 non-null  int64  \n",
      " 55  HFC-236fa (tonnes CO2e / tonnes éq. CO2)                                                                                         13093 non-null  int64  \n",
      " 56  HFC-245ca (tonnes)                                                                                                               13093 non-null  float64\n",
      " 57  HFC-245ca (tonnes CO2e / tonnes éq. CO2)                                                                                         13093 non-null  float64\n",
      " 58  HFC Total (tonnes CO2e / tonnes éq. CO2)                                                                                         13092 non-null  float64\n",
      " 59  CF4 (tonnes)                                                                                                                     13093 non-null  float64\n",
      " 60  CF4 (tonnes CO2e / tonnes éq. CO2)                                                                                               13093 non-null  float64\n",
      " 61  C2F6 (tonnes)                                                                                                                    13093 non-null  float64\n",
      " 62  C2F6 (tonnes CO2e / tonnes éq. CO2)                                                                                              13093 non-null  float64\n",
      " 63  C3F8 (tonnes)                                                                                                                    13093 non-null  int64  \n",
      " 64  C3F8 (tonnes CO2e / tonnes éq. CO2)                                                                                              13093 non-null  int64  \n",
      " 65  C4F10 (tonnes)                                                                                                                   13093 non-null  int64  \n",
      " 66  C4F10 (tonnes CO2e / tonnes éq. CO2)                                                                                             13093 non-null  int64  \n",
      " 67  C4F8 (tonnes)                                                                                                                    13093 non-null  float64\n",
      " 68  C4F8 (tonnes CO2e / tonnes éq. CO2)                                                                                              13093 non-null  float64\n",
      " 69  C5F12 (tonnes)                                                                                                                   13093 non-null  int64  \n",
      " 70  C5F12 (tonnes CO2e / tonnes éq. CO2)                                                                                             13093 non-null  int64  \n",
      " 71  C6F14 (tonnes)                                                                                                                   13093 non-null  int64  \n",
      " 72  C6F14 (tonnes CO2e / tonnes éq. CO2)                                                                                             13093 non-null  int64  \n",
      " 73  PFC Total (tonnes CO2e / tonnes éq. CO2)                                                                                         13092 non-null  float64\n",
      " 74  SF6 (tonnes)                                                                                                                     3433 non-null   float64\n",
      " 75  SF6 (tonnes CO2e / tonnes éq. CO2)                                                                                               3433 non-null   float64\n",
      " 76  Total Emissions (tonnes CO2e) / Émissions totales (tonnes éq. CO2)                                                               13093 non-null  float64\n",
      "dtypes: float64(48), int64(12), object(17)\n",
      "memory usage: 7.7+ MB\n"
     ]
    }
   ],
   "source": [
    "#get summarized info\n",
    "carbon_df.info()"
   ]
  },
  {
   "cell_type": "code",
   "execution_count": 4,
   "id": "353261db-00fb-4f14-9205-78780819314a",
   "metadata": {
    "tags": []
   },
   "outputs": [],
   "source": [
    "#only take years from 2014 to 2019 (inclusive)\n",
    "carbon_df = carbon_df[(carbon_df['Reference Year / Année de référence'] >= 2015) & (carbon_df['Reference Year / Année de référence'] <= 2019)]"
   ]
  },
  {
   "cell_type": "code",
   "execution_count": 5,
   "id": "535eb859-8b1c-4b2e-986d-5e01fc09481e",
   "metadata": {
    "tags": []
   },
   "outputs": [
    {
     "data": {
      "text/html": [
       "<div>\n",
       "<style scoped>\n",
       "    .dataframe tbody tr th:only-of-type {\n",
       "        vertical-align: middle;\n",
       "    }\n",
       "\n",
       "    .dataframe tbody tr th {\n",
       "        vertical-align: top;\n",
       "    }\n",
       "\n",
       "    .dataframe thead th {\n",
       "        text-align: right;\n",
       "    }\n",
       "</style>\n",
       "<table border=\"1\" class=\"dataframe\">\n",
       "  <thead>\n",
       "    <tr style=\"text-align: right;\">\n",
       "      <th></th>\n",
       "      <th>Reference Year / Année de référence</th>\n",
       "      <th>Facility Province or Territory / Province ou territoire de l'installation</th>\n",
       "      <th>CO2 (tonnes)</th>\n",
       "    </tr>\n",
       "  </thead>\n",
       "  <tbody>\n",
       "    <tr>\n",
       "      <th>1703</th>\n",
       "      <td>2019</td>\n",
       "      <td>Quebec</td>\n",
       "      <td>7.143435e+04</td>\n",
       "    </tr>\n",
       "    <tr>\n",
       "      <th>1704</th>\n",
       "      <td>2019</td>\n",
       "      <td>Alberta</td>\n",
       "      <td>3.740449e+05</td>\n",
       "    </tr>\n",
       "    <tr>\n",
       "      <th>1705</th>\n",
       "      <td>2019</td>\n",
       "      <td>Ontario</td>\n",
       "      <td>9.745530e+02</td>\n",
       "    </tr>\n",
       "    <tr>\n",
       "      <th>1706</th>\n",
       "      <td>2019</td>\n",
       "      <td>Alberta</td>\n",
       "      <td>1.143131e+06</td>\n",
       "    </tr>\n",
       "    <tr>\n",
       "      <th>1707</th>\n",
       "      <td>2019</td>\n",
       "      <td>Alberta</td>\n",
       "      <td>2.648890e+05</td>\n",
       "    </tr>\n",
       "  </tbody>\n",
       "</table>\n",
       "</div>"
      ],
      "text/plain": [
       "      Reference Year / Année de référence  \\\n",
       "1703                                 2019   \n",
       "1704                                 2019   \n",
       "1705                                 2019   \n",
       "1706                                 2019   \n",
       "1707                                 2019   \n",
       "\n",
       "     Facility Province or Territory / Province ou territoire de l'installation  \\\n",
       "1703                                             Quebec                          \n",
       "1704                                            Alberta                          \n",
       "1705                                            Ontario                          \n",
       "1706                                            Alberta                          \n",
       "1707                                            Alberta                          \n",
       "\n",
       "      CO2 (tonnes)  \n",
       "1703  7.143435e+04  \n",
       "1704  3.740449e+05  \n",
       "1705  9.745530e+02  \n",
       "1706  1.143131e+06  \n",
       "1707  2.648890e+05  "
      ]
     },
     "execution_count": 5,
     "metadata": {},
     "output_type": "execute_result"
    }
   ],
   "source": [
    "#select relevant columns\n",
    "carbon_df = carbon_df.iloc[:,[1,5,26]]\n",
    "carbon_df.head()"
   ]
  },
  {
   "cell_type": "code",
   "execution_count": 6,
   "id": "de8bee38-fb9f-4821-b326-76a104098a12",
   "metadata": {
    "tags": []
   },
   "outputs": [
    {
     "data": {
      "text/html": [
       "<div>\n",
       "<style scoped>\n",
       "    .dataframe tbody tr th:only-of-type {\n",
       "        vertical-align: middle;\n",
       "    }\n",
       "\n",
       "    .dataframe tbody tr th {\n",
       "        vertical-align: top;\n",
       "    }\n",
       "\n",
       "    .dataframe thead th {\n",
       "        text-align: right;\n",
       "    }\n",
       "</style>\n",
       "<table border=\"1\" class=\"dataframe\">\n",
       "  <thead>\n",
       "    <tr style=\"text-align: right;\">\n",
       "      <th></th>\n",
       "      <th>year</th>\n",
       "      <th>province</th>\n",
       "      <th>co2_tonnes</th>\n",
       "    </tr>\n",
       "  </thead>\n",
       "  <tbody>\n",
       "    <tr>\n",
       "      <th>1703</th>\n",
       "      <td>2019</td>\n",
       "      <td>Quebec</td>\n",
       "      <td>7.143435e+04</td>\n",
       "    </tr>\n",
       "    <tr>\n",
       "      <th>1704</th>\n",
       "      <td>2019</td>\n",
       "      <td>Alberta</td>\n",
       "      <td>3.740449e+05</td>\n",
       "    </tr>\n",
       "    <tr>\n",
       "      <th>1705</th>\n",
       "      <td>2019</td>\n",
       "      <td>Ontario</td>\n",
       "      <td>9.745530e+02</td>\n",
       "    </tr>\n",
       "    <tr>\n",
       "      <th>1706</th>\n",
       "      <td>2019</td>\n",
       "      <td>Alberta</td>\n",
       "      <td>1.143131e+06</td>\n",
       "    </tr>\n",
       "    <tr>\n",
       "      <th>1707</th>\n",
       "      <td>2019</td>\n",
       "      <td>Alberta</td>\n",
       "      <td>2.648890e+05</td>\n",
       "    </tr>\n",
       "  </tbody>\n",
       "</table>\n",
       "</div>"
      ],
      "text/plain": [
       "      year province    co2_tonnes\n",
       "1703  2019   Quebec  7.143435e+04\n",
       "1704  2019  Alberta  3.740449e+05\n",
       "1705  2019  Ontario  9.745530e+02\n",
       "1706  2019  Alberta  1.143131e+06\n",
       "1707  2019  Alberta  2.648890e+05"
      ]
     },
     "execution_count": 6,
     "metadata": {},
     "output_type": "execute_result"
    }
   ],
   "source": [
    "#rename columns for ease\n",
    "carbon_df = carbon_df.rename(columns={\"Reference Year / Année de référence\": \"year\",\n",
    "                                     \"Facility Province or Territory / Province ou territoire de l'installation\": \"province\",\n",
    "                                     \"CO2 (tonnes)\": \"co2_tonnes\"})\n",
    "carbon_df.head()"
   ]
  },
  {
   "cell_type": "code",
   "execution_count": 7,
   "id": "4a826620-f2a2-4b12-b245-897555d5e1f0",
   "metadata": {
    "tags": []
   },
   "outputs": [
    {
     "data": {
      "text/html": [
       "<div>\n",
       "<style scoped>\n",
       "    .dataframe tbody tr th:only-of-type {\n",
       "        vertical-align: middle;\n",
       "    }\n",
       "\n",
       "    .dataframe tbody tr th {\n",
       "        vertical-align: top;\n",
       "    }\n",
       "\n",
       "    .dataframe thead th {\n",
       "        text-align: right;\n",
       "    }\n",
       "</style>\n",
       "<table border=\"1\" class=\"dataframe\">\n",
       "  <thead>\n",
       "    <tr style=\"text-align: right;\">\n",
       "      <th></th>\n",
       "      <th>year</th>\n",
       "      <th>province</th>\n",
       "      <th>co2_tonnes</th>\n",
       "      <th>federal_party</th>\n",
       "    </tr>\n",
       "  </thead>\n",
       "  <tbody>\n",
       "    <tr>\n",
       "      <th>1703</th>\n",
       "      <td>2019</td>\n",
       "      <td>Quebec</td>\n",
       "      <td>7.143435e+04</td>\n",
       "      <td>Bloc</td>\n",
       "    </tr>\n",
       "    <tr>\n",
       "      <th>1704</th>\n",
       "      <td>2019</td>\n",
       "      <td>Alberta</td>\n",
       "      <td>3.740449e+05</td>\n",
       "      <td>Conservative</td>\n",
       "    </tr>\n",
       "    <tr>\n",
       "      <th>1705</th>\n",
       "      <td>2019</td>\n",
       "      <td>Ontario</td>\n",
       "      <td>9.745530e+02</td>\n",
       "      <td>Liberal</td>\n",
       "    </tr>\n",
       "    <tr>\n",
       "      <th>1706</th>\n",
       "      <td>2019</td>\n",
       "      <td>Alberta</td>\n",
       "      <td>1.143131e+06</td>\n",
       "      <td>Conservative</td>\n",
       "    </tr>\n",
       "    <tr>\n",
       "      <th>1707</th>\n",
       "      <td>2019</td>\n",
       "      <td>Alberta</td>\n",
       "      <td>2.648890e+05</td>\n",
       "      <td>Conservative</td>\n",
       "    </tr>\n",
       "  </tbody>\n",
       "</table>\n",
       "</div>"
      ],
      "text/plain": [
       "      year province    co2_tonnes federal_party\n",
       "1703  2019   Quebec  7.143435e+04          Bloc\n",
       "1704  2019  Alberta  3.740449e+05  Conservative\n",
       "1705  2019  Ontario  9.745530e+02       Liberal\n",
       "1706  2019  Alberta  1.143131e+06  Conservative\n",
       "1707  2019  Alberta  2.648890e+05  Conservative"
      ]
     },
     "execution_count": 7,
     "metadata": {},
     "output_type": "execute_result"
    }
   ],
   "source": [
    "#fill in which federal party ruled each province in different years\n",
    "carbon_df[\"federal_party\"] = [\"a\"]*len(carbon_df.year)\n",
    "\n",
    "carbon_df.loc[carbon_df.province == \"Alberta\", \"federal_party\"] = \"Conservative\"\n",
    "\n",
    "carbon_df.loc[carbon_df.province == \"Ontario\", \"federal_party\"] = \"Liberal\"\n",
    "\n",
    "carbon_df.loc[(carbon_df.province == \"Quebec\") & (carbon_df.year >= 2015), \"federal_party\"] = \"Liberal\"\n",
    "carbon_df.loc[(carbon_df.province == \"Quebec\") & (carbon_df.year == 2019), \"federal_party\"] = \"Bloc\"\n",
    "\n",
    "carbon_df.loc[carbon_df.province == \"British Columbia\", \"federal_party\"] = \"Liberal\"\n",
    "\n",
    "carbon_df.loc[(carbon_df.province == \"New Brunswick\") & (carbon_df.year >= 2015), \"federal_party\"] = \"Liberal\"\n",
    "carbon_df.loc[(carbon_df.province == \"New Brunswick\") & (carbon_df.year == 2019), \"federal_party\"] = \"Conservative\"\n",
    "\n",
    "carbon_df.loc[carbon_df.province == \"Saskatchewan\", \"federal_party\"] = \"Conservative\"\n",
    "\n",
    "carbon_df.loc[carbon_df.province == \"Manitoba\", \"federal_party\"] = \"Conservative\"\n",
    "\n",
    "carbon_df.loc[carbon_df.province == \"Nova Scotia\", \"federal_party\"] = \"Liberal\"\n",
    "\n",
    "carbon_df.loc[carbon_df.province == \"Newfoundland and Labrador\", \"federal_party\"] = \"Liberal\"\n",
    "\n",
    "carbon_df.loc[carbon_df.province == \"Prince Edward Island\", \"federal_party\"] = \"Liberal\"\n",
    "\n",
    "carbon_df.loc[carbon_df.province == \"Yukon\", \"federal_party\"] = \"Liberal\"\n",
    "\n",
    "carbon_df.loc[carbon_df.province == \"Northwest Territories\", \"federal_party\"] = \"Liberal\"\n",
    "\n",
    "carbon_df.loc[carbon_df.province == \"Nunavut\", \"federal_party\"] = \"NDP\"\n",
    "\n",
    "carbon_df.head()"
   ]
  },
  {
   "cell_type": "code",
   "execution_count": 8,
   "id": "972450f3-aba6-45bf-a5de-15a9dac9191c",
   "metadata": {
    "tags": []
   },
   "outputs": [
    {
     "data": {
      "text/html": [
       "<div>\n",
       "<style scoped>\n",
       "    .dataframe tbody tr th:only-of-type {\n",
       "        vertical-align: middle;\n",
       "    }\n",
       "\n",
       "    .dataframe tbody tr th {\n",
       "        vertical-align: top;\n",
       "    }\n",
       "\n",
       "    .dataframe thead th {\n",
       "        text-align: right;\n",
       "    }\n",
       "</style>\n",
       "<table border=\"1\" class=\"dataframe\">\n",
       "  <thead>\n",
       "    <tr style=\"text-align: right;\">\n",
       "      <th></th>\n",
       "      <th>year</th>\n",
       "      <th>province</th>\n",
       "      <th>federal_party</th>\n",
       "      <th>co2_tonnes</th>\n",
       "    </tr>\n",
       "  </thead>\n",
       "  <tbody>\n",
       "    <tr>\n",
       "      <th>0</th>\n",
       "      <td>2015</td>\n",
       "      <td>Alberta</td>\n",
       "      <td>Conservative</td>\n",
       "      <td>1.360464e+08</td>\n",
       "    </tr>\n",
       "    <tr>\n",
       "      <th>1</th>\n",
       "      <td>2015</td>\n",
       "      <td>British Columbia</td>\n",
       "      <td>Liberal</td>\n",
       "      <td>1.191452e+07</td>\n",
       "    </tr>\n",
       "    <tr>\n",
       "      <th>2</th>\n",
       "      <td>2015</td>\n",
       "      <td>Manitoba</td>\n",
       "      <td>Conservative</td>\n",
       "      <td>1.490384e+06</td>\n",
       "    </tr>\n",
       "    <tr>\n",
       "      <th>3</th>\n",
       "      <td>2015</td>\n",
       "      <td>New Brunswick</td>\n",
       "      <td>Liberal</td>\n",
       "      <td>7.146915e+06</td>\n",
       "    </tr>\n",
       "    <tr>\n",
       "      <th>4</th>\n",
       "      <td>2015</td>\n",
       "      <td>Newfoundland and Labrador</td>\n",
       "      <td>Liberal</td>\n",
       "      <td>4.673263e+06</td>\n",
       "    </tr>\n",
       "  </tbody>\n",
       "</table>\n",
       "</div>"
      ],
      "text/plain": [
       "   year                   province federal_party    co2_tonnes\n",
       "0  2015                    Alberta  Conservative  1.360464e+08\n",
       "1  2015           British Columbia       Liberal  1.191452e+07\n",
       "2  2015                   Manitoba  Conservative  1.490384e+06\n",
       "3  2015              New Brunswick       Liberal  7.146915e+06\n",
       "4  2015  Newfoundland and Labrador       Liberal  4.673263e+06"
      ]
     },
     "execution_count": 8,
     "metadata": {},
     "output_type": "execute_result"
    }
   ],
   "source": [
    "#group emissions by year, province and party\n",
    "grouped = carbon_df.groupby(['year', 'province', 'federal_party']).sum()\n",
    "new_carbon_df = grouped.reset_index() #turn index into columns\n",
    "new_carbon_df.head()"
   ]
  },
  {
   "cell_type": "code",
   "execution_count": 9,
   "id": "df24e5b8-d0f9-4c0d-8129-c503d58c3eb2",
   "metadata": {
    "tags": []
   },
   "outputs": [
    {
     "data": {
      "text/html": [
       "<div>\n",
       "<style scoped>\n",
       "    .dataframe tbody tr th:only-of-type {\n",
       "        vertical-align: middle;\n",
       "    }\n",
       "\n",
       "    .dataframe tbody tr th {\n",
       "        vertical-align: top;\n",
       "    }\n",
       "\n",
       "    .dataframe thead th {\n",
       "        text-align: right;\n",
       "    }\n",
       "</style>\n",
       "<table border=\"1\" class=\"dataframe\">\n",
       "  <thead>\n",
       "    <tr style=\"text-align: right;\">\n",
       "      <th></th>\n",
       "      <th>year</th>\n",
       "      <th>province</th>\n",
       "      <th>federal_party</th>\n",
       "      <th>co2_tonnes</th>\n",
       "      <th>emissions</th>\n",
       "    </tr>\n",
       "  </thead>\n",
       "  <tbody>\n",
       "    <tr>\n",
       "      <th>0</th>\n",
       "      <td>2015</td>\n",
       "      <td>Alberta</td>\n",
       "      <td>Conservative</td>\n",
       "      <td>1.360464e+08</td>\n",
       "      <td>1.360464</td>\n",
       "    </tr>\n",
       "    <tr>\n",
       "      <th>1</th>\n",
       "      <td>2015</td>\n",
       "      <td>British Columbia</td>\n",
       "      <td>Liberal</td>\n",
       "      <td>1.191452e+07</td>\n",
       "      <td>0.119145</td>\n",
       "    </tr>\n",
       "    <tr>\n",
       "      <th>2</th>\n",
       "      <td>2015</td>\n",
       "      <td>Manitoba</td>\n",
       "      <td>Conservative</td>\n",
       "      <td>1.490384e+06</td>\n",
       "      <td>0.014904</td>\n",
       "    </tr>\n",
       "    <tr>\n",
       "      <th>3</th>\n",
       "      <td>2015</td>\n",
       "      <td>New Brunswick</td>\n",
       "      <td>Liberal</td>\n",
       "      <td>7.146915e+06</td>\n",
       "      <td>0.071469</td>\n",
       "    </tr>\n",
       "    <tr>\n",
       "      <th>4</th>\n",
       "      <td>2015</td>\n",
       "      <td>Newfoundland and Labrador</td>\n",
       "      <td>Liberal</td>\n",
       "      <td>4.673263e+06</td>\n",
       "      <td>0.046733</td>\n",
       "    </tr>\n",
       "  </tbody>\n",
       "</table>\n",
       "</div>"
      ],
      "text/plain": [
       "   year                   province federal_party    co2_tonnes  emissions\n",
       "0  2015                    Alberta  Conservative  1.360464e+08   1.360464\n",
       "1  2015           British Columbia       Liberal  1.191452e+07   0.119145\n",
       "2  2015                   Manitoba  Conservative  1.490384e+06   0.014904\n",
       "3  2015              New Brunswick       Liberal  7.146915e+06   0.071469\n",
       "4  2015  Newfoundland and Labrador       Liberal  4.673263e+06   0.046733"
      ]
     },
     "execution_count": 9,
     "metadata": {},
     "output_type": "execute_result"
    }
   ],
   "source": [
    "#scale CO2 emissions to something more reasonable\n",
    "new_carbon_df['emissions'] = new_carbon_df.co2_tonnes/100000000\n",
    "new_carbon_df.head()"
   ]
  },
  {
   "cell_type": "code",
   "execution_count": 124,
   "id": "4d1a7d95-e10f-466b-9511-decb97e72ad6",
   "metadata": {
    "tags": []
   },
   "outputs": [
    {
     "data": {
      "text/plain": [
       "Text(0.5, 1.0, 'Annual CO2 Emissions for Canada (2015-2019)')"
      ]
     },
     "execution_count": 124,
     "metadata": {},
     "output_type": "execute_result"
    },
    {
     "data": {
      "image/png": "[encoded data removed]",
      "text/plain": [
       "<Figure size 640x480 with 1 Axes>"
      ]
     },
     "metadata": {},
     "output_type": "display_data"
    }
   ],
   "source": [
    "#plot emissions vs year\n",
    "a = new_carbon_df.groupby('year').sum().reset_index()\n",
    "sns.barplot(data=a, x='year', y='emissions', color='green')\n",
    "plt.ylabel(\"Emissions of CO2 in Hundreds of Millions of Tonnes\")\n",
    "plt.xlabel(\"Year\")\n",
    "plt.title('Annual CO2 Emissions for Canada (2015-2019)')"
   ]
  },
  {
   "cell_type": "code",
   "execution_count": 11,
   "id": "12c173f8-a4ed-41a3-ac34-418e9e352d7a",
   "metadata": {
    "tags": []
   },
   "outputs": [
    {
     "data": {
      "text/plain": [
       "Text(120.72222222222221, 0.5, 'Year')"
      ]
     },
     "execution_count": 11,
     "metadata": {},
     "output_type": "execute_result"
    },
    {
     "data": {
      "image/png": "[encoded data removed]",
      "text/plain": [
       "<Figure size 1200x800 with 2 Axes>"
      ]
     },
     "metadata": {},
     "output_type": "display_data"
    }
   ],
   "source": [
    "pivot_table = new_carbon_df.pivot_table(values='emissions', index='year', columns='federal_party', aggfunc='sum')\n",
    "plt.figure(figsize=(12, 8))\n",
    "sns.heatmap(pivot_table, cmap='YlGnBu', annot=True, fmt=\".2f\", linewidths=.5)\n",
    "plt.title('Correlation between Party and Emissions each Year')\n",
    "plt.xlabel('Party')\n",
    "plt.ylabel('Year')\n"
   ]
  },
  {
   "cell_type": "code",
   "execution_count": 12,
   "id": "d519fdaa-b4fc-4469-96a5-5361206960b3",
   "metadata": {
    "tags": []
   },
   "outputs": [
    {
     "data": {
      "image/png": "[encoded data removed]",
      "text/plain": [
       "<Figure size 1400x800 with 2 Axes>"
      ]
     },
     "metadata": {},
     "output_type": "display_data"
    }
   ],
   "source": [
    "pivot_table = new_carbon_df.pivot_table(values='emissions', index='year', columns=['federal_party', 'province'], aggfunc='sum')\n",
    "\n",
    "plt.figure(figsize=(14, 8))\n",
    "sns.heatmap(pivot_table, cmap='YlGnBu', annot=False, fmt=\".2f\", linewidths=.5)\n",
    "plt.title('Correlation between Party, Province, and Emissions')\n",
    "plt.xlabel('Party - Province')\n",
    "plt.ylabel('Year')\n",
    "plt.show()"
   ]
  },
  {
   "cell_type": "code",
   "execution_count": 125,
   "id": "e0f25f2d-df99-47fc-9d90-eca3d34b9483",
   "metadata": {
    "tags": []
   },
   "outputs": [
    {
     "data": {
      "text/plain": [
       "<matplotlib.legend.Legend at 0x1ec2f9ae650>"
      ]
     },
     "execution_count": 125,
     "metadata": {},
     "output_type": "execute_result"
    },
    {
     "data": {
      "image/png": "[encoded data removed]",
      "text/plain": [
       "<Figure size 640x480 with 1 Axes>"
      ]
     },
     "metadata": {},
     "output_type": "display_data"
    }
   ],
   "source": [
    "#plot party-qise emissions vs year\n",
    "a = new_carbon_df.groupby(['year', 'federal_party']).sum().reset_index()\n",
    "sns.barplot(data=a, x='year', y='emissions', hue='federal_party', errorbar=None)\n",
    "plt.ylabel(\"Emissions of CO2 in Tonnes\")\n",
    "plt.xlabel(\"Year\")\n",
    "plt.title('Annual Party-wise CO2 Emissions')\n",
    "plt.legend(loc='center left', bbox_to_anchor=(1,0.5))"
   ]
  },
  {
   "cell_type": "markdown",
   "id": "c95b3162-ca79-42b6-9bf3-b7a1112604cd",
   "metadata": {},
   "source": [
    "<h1>PARLIAMENT DATASET</h1>"
   ]
  },
  {
   "cell_type": "code",
   "execution_count": 65,
   "id": "eaf044ae-1ae1-4991-be66-765f4f4b0866",
   "metadata": {
    "tags": []
   },
   "outputs": [
    {
     "data": {
      "text/html": [
       "<div>\n",
       "<style scoped>\n",
       "    .dataframe tbody tr th:only-of-type {\n",
       "        vertical-align: middle;\n",
       "    }\n",
       "\n",
       "    .dataframe tbody tr th {\n",
       "        vertical-align: top;\n",
       "    }\n",
       "\n",
       "    .dataframe thead th {\n",
       "        text-align: right;\n",
       "    }\n",
       "</style>\n",
       "<table border=\"1\" class=\"dataframe\">\n",
       "  <thead>\n",
       "    <tr style=\"text-align: right;\">\n",
       "      <th></th>\n",
       "      <th>basepk</th>\n",
       "      <th>hid</th>\n",
       "      <th>speechdate</th>\n",
       "      <th>pid</th>\n",
       "      <th>opid</th>\n",
       "      <th>speakeroldname</th>\n",
       "      <th>speakerposition</th>\n",
       "      <th>maintopic</th>\n",
       "      <th>subtopic</th>\n",
       "      <th>subsubtopic</th>\n",
       "      <th>speechtext</th>\n",
       "      <th>speakerparty</th>\n",
       "      <th>speakerriding</th>\n",
       "      <th>speakername</th>\n",
       "      <th>speakerurl</th>\n",
       "    </tr>\n",
       "  </thead>\n",
       "  <tbody>\n",
       "    <tr>\n",
       "      <th>0</th>\n",
       "      <td>4624060</td>\n",
       "      <td>ca.proc.d.2015-01-26.16574.0</td>\n",
       "      <td>2015-01-26</td>\n",
       "      <td>6519cfba-0080-419d-baa9-8ae6e56d032f</td>\n",
       "      <td>256.0</td>\n",
       "      <td>The Speaker</td>\n",
       "      <td>NaN</td>\n",
       "      <td>NaN</td>\n",
       "      <td>Vacancy</td>\n",
       "      <td>Sudbury</td>\n",
       "      <td>It is my duty to inform the House that a vacan...</td>\n",
       "      <td>Conservative</td>\n",
       "      <td>Regina--Qu'Appelle</td>\n",
       "      <td>Andrew Scheer</td>\n",
       "      <td>http://www.parl.gc.ca/parlinfo/Files/Parliamen...</td>\n",
       "    </tr>\n",
       "    <tr>\n",
       "      <th>1</th>\n",
       "      <td>4624061</td>\n",
       "      <td>ca.proc.d.2015-01-26.16574.1</td>\n",
       "      <td>2015-01-26</td>\n",
       "      <td>6519cfba-0080-419d-baa9-8ae6e56d032f</td>\n",
       "      <td>256.0</td>\n",
       "      <td>The Speaker</td>\n",
       "      <td>NaN</td>\n",
       "      <td>NaN</td>\n",
       "      <td>Message from the Senate</td>\n",
       "      <td>NaN</td>\n",
       "      <td>I have the honour to inform the House that a m...</td>\n",
       "      <td>Conservative</td>\n",
       "      <td>Regina--Qu'Appelle</td>\n",
       "      <td>Andrew Scheer</td>\n",
       "      <td>http://www.parl.gc.ca/parlinfo/Files/Parliamen...</td>\n",
       "    </tr>\n",
       "    <tr>\n",
       "      <th>2</th>\n",
       "      <td>4624062</td>\n",
       "      <td>ca.proc.d.2015-01-26.16574.2</td>\n",
       "      <td>2015-01-26</td>\n",
       "      <td>NaN</td>\n",
       "      <td>NaN</td>\n",
       "      <td>NaN</td>\n",
       "      <td>stagedirection</td>\n",
       "      <td>Private Members' Business</td>\n",
       "      <td>Protecting Taxpayers and Revoking Pensions of ...</td>\n",
       "      <td>NaN</td>\n",
       "      <td>The House proceeded to the consideration of Bi...</td>\n",
       "      <td>NaN</td>\n",
       "      <td>NaN</td>\n",
       "      <td>NaN</td>\n",
       "      <td>NaN</td>\n",
       "    </tr>\n",
       "    <tr>\n",
       "      <th>3</th>\n",
       "      <td>4624063</td>\n",
       "      <td>ca.proc.d.2015-01-26.16574.3</td>\n",
       "      <td>2015-01-26</td>\n",
       "      <td>6519cfba-0080-419d-baa9-8ae6e56d032f</td>\n",
       "      <td>256.0</td>\n",
       "      <td>The Speaker</td>\n",
       "      <td>NaN</td>\n",
       "      <td>Private Members' Business</td>\n",
       "      <td>Protecting Taxpayers and Revoking Pensions of ...</td>\n",
       "      <td>Speaker's Ruling</td>\n",
       "      <td>There are three motions in amendment standing ...</td>\n",
       "      <td>Conservative</td>\n",
       "      <td>Regina--Qu'Appelle</td>\n",
       "      <td>Andrew Scheer</td>\n",
       "      <td>http://www.parl.gc.ca/parlinfo/Files/Parliamen...</td>\n",
       "    </tr>\n",
       "    <tr>\n",
       "      <th>4</th>\n",
       "      <td>4624064</td>\n",
       "      <td>ca.proc.d.2015-01-26.16574.4</td>\n",
       "      <td>2015-01-26</td>\n",
       "      <td>b41c3b7e-c64f-4415-9f58-79d7462e5d8e</td>\n",
       "      <td>146.0</td>\n",
       "      <td>Mr. Peter Julian (Burnaby—New Westminster, NDP)</td>\n",
       "      <td>NaN</td>\n",
       "      <td>Private Members' Business</td>\n",
       "      <td>Protecting Taxpayers and Revoking Pensions of ...</td>\n",
       "      <td>Motions in Amendment</td>\n",
       "      <td>moved:\\n Motion No. 1 \\n That Bill C-518, in C...</td>\n",
       "      <td>New Democratic Party</td>\n",
       "      <td>Burnaby--New Westminster</td>\n",
       "      <td>Peter Julian</td>\n",
       "      <td>http://www.parl.gc.ca/parlinfo/Files/Parliamen...</td>\n",
       "    </tr>\n",
       "  </tbody>\n",
       "</table>\n",
       "</div>"
      ],
      "text/plain": [
       "    basepk                           hid  speechdate  \\\n",
       "0  4624060  ca.proc.d.2015-01-26.16574.0  2015-01-26   \n",
       "1  4624061  ca.proc.d.2015-01-26.16574.1  2015-01-26   \n",
       "2  4624062  ca.proc.d.2015-01-26.16574.2  2015-01-26   \n",
       "3  4624063  ca.proc.d.2015-01-26.16574.3  2015-01-26   \n",
       "4  4624064  ca.proc.d.2015-01-26.16574.4  2015-01-26   \n",
       "\n",
       "                                    pid   opid  \\\n",
       "0  6519cfba-0080-419d-baa9-8ae6e56d032f  256.0   \n",
       "1  6519cfba-0080-419d-baa9-8ae6e56d032f  256.0   \n",
       "2                                   NaN    NaN   \n",
       "3  6519cfba-0080-419d-baa9-8ae6e56d032f  256.0   \n",
       "4  b41c3b7e-c64f-4415-9f58-79d7462e5d8e  146.0   \n",
       "\n",
       "                                    speakeroldname speakerposition  \\\n",
       "0                                      The Speaker             NaN   \n",
       "1                                      The Speaker             NaN   \n",
       "2                                              NaN  stagedirection   \n",
       "3                                      The Speaker             NaN   \n",
       "4  Mr. Peter Julian (Burnaby—New Westminster, NDP)             NaN   \n",
       "\n",
       "                   maintopic  \\\n",
       "0                        NaN   \n",
       "1                        NaN   \n",
       "2  Private Members' Business   \n",
       "3  Private Members' Business   \n",
       "4  Private Members' Business   \n",
       "\n",
       "                                            subtopic           subsubtopic  \\\n",
       "0                                            Vacancy               Sudbury   \n",
       "1                            Message from the Senate                   NaN   \n",
       "2  Protecting Taxpayers and Revoking Pensions of ...                   NaN   \n",
       "3  Protecting Taxpayers and Revoking Pensions of ...      Speaker's Ruling   \n",
       "4  Protecting Taxpayers and Revoking Pensions of ...  Motions in Amendment   \n",
       "\n",
       "                                          speechtext          speakerparty  \\\n",
       "0  It is my duty to inform the House that a vacan...          Conservative   \n",
       "1  I have the honour to inform the House that a m...          Conservative   \n",
       "2  The House proceeded to the consideration of Bi...                   NaN   \n",
       "3  There are three motions in amendment standing ...          Conservative   \n",
       "4  moved:\\n Motion No. 1 \\n That Bill C-518, in C...  New Democratic Party   \n",
       "\n",
       "              speakerriding    speakername  \\\n",
       "0        Regina--Qu'Appelle  Andrew Scheer   \n",
       "1        Regina--Qu'Appelle  Andrew Scheer   \n",
       "2                       NaN            NaN   \n",
       "3        Regina--Qu'Appelle  Andrew Scheer   \n",
       "4  Burnaby--New Westminster   Peter Julian   \n",
       "\n",
       "                                          speakerurl  \n",
       "0  http://www.parl.gc.ca/parlinfo/Files/Parliamen...  \n",
       "1  http://www.parl.gc.ca/parlinfo/Files/Parliamen...  \n",
       "2                                                NaN  \n",
       "3  http://www.parl.gc.ca/parlinfo/Files/Parliamen...  \n",
       "4  http://www.parl.gc.ca/parlinfo/Files/Parliamen...  "
      ]
     },
     "execution_count": 65,
     "metadata": {},
     "output_type": "execute_result"
    }
   ],
   "source": [
    "#combina all parliament datasets together\n",
    "path = 'parl-csv/'\n",
    "files = os.listdir(path)\n",
    "\n",
    "df = pd.read_csv(path + files.pop(0))\n",
    "for f in files:\n",
    "    df2 = pd.read_csv(path + f)\n",
    "    df = pd.concat([df, df2], axis=0)\n",
    "    \n",
    "df2=None\n",
    "df.reset_index(inplace=True)\n",
    "df.drop('index', axis=1, inplace=True)\n",
    "df.head()"
   ]
  },
  {
   "cell_type": "code",
   "execution_count": 66,
   "id": "256d4465-5fc9-4781-a8ff-7516466995a2",
   "metadata": {
    "tags": []
   },
   "outputs": [
    {
     "name": "stdout",
     "output_type": "stream",
     "text": [
      "<class 'pandas.core.frame.DataFrame'>\n",
      "RangeIndex: 152522 entries, 0 to 152521\n",
      "Data columns (total 15 columns):\n",
      " #   Column           Non-Null Count   Dtype  \n",
      "---  ------           --------------   -----  \n",
      " 0   basepk           152522 non-null  int64  \n",
      " 1   hid              152522 non-null  object \n",
      " 2   speechdate       152522 non-null  object \n",
      " 3   pid              138480 non-null  object \n",
      " 4   opid             138268 non-null  float64\n",
      " 5   speakeroldname   138261 non-null  object \n",
      " 6   speakerposition  18968 non-null   object \n",
      " 7   maintopic        151339 non-null  object \n",
      " 8   subtopic         151556 non-null  object \n",
      " 9   subsubtopic      41939 non-null   object \n",
      " 10  speechtext       152522 non-null  object \n",
      " 11  speakerparty     138268 non-null  object \n",
      " 12  speakerriding    138268 non-null  object \n",
      " 13  speakername      147545 non-null  object \n",
      " 14  speakerurl       132642 non-null  object \n",
      "dtypes: float64(1), int64(1), object(13)\n",
      "memory usage: 17.5+ MB\n"
     ]
    }
   ],
   "source": [
    "df.info()"
   ]
  },
  {
   "cell_type": "code",
   "execution_count": 67,
   "id": "c57d2651-1d2a-4913-9ab2-dba5ef415f48",
   "metadata": {
    "tags": []
   },
   "outputs": [
    {
     "data": {
      "text/plain": [
       "(2611, 15)"
      ]
     },
     "execution_count": 67,
     "metadata": {},
     "output_type": "execute_result"
    }
   ],
   "source": [
    "#get rows talking about carbon tax\n",
    "df_carbon = df.loc[df.speechtext.str.lower().str.contains('carbon tax'),:]\n",
    "df_carbon.shape"
   ]
  },
  {
   "cell_type": "markdown",
   "id": "d2f46fd2-0df5-4db1-9a30-51bd01592590",
   "metadata": {},
   "source": [
    "We have ~2000 observations to work with, which is pretty good."
   ]
  },
  {
   "cell_type": "code",
   "execution_count": 68,
   "id": "f71db14b-e782-4777-9475-9f928f84a799",
   "metadata": {
    "tags": []
   },
   "outputs": [
    {
     "data": {
      "text/plain": [
       "(510, 5)"
      ]
     },
     "execution_count": 68,
     "metadata": {},
     "output_type": "execute_result"
    }
   ],
   "source": [
    "#look for rows that talk about harming Canadians\n",
    "filter_ = df_carbon.speechtext.str.extract(r'((tax)(.)*(harm|cost|jeopardize|hurt|pay)(.)*Canadian)').dropna()\n",
    "filter_.shape"
   ]
  },
  {
   "cell_type": "markdown",
   "id": "be1d80ae-ab27-4cad-b2ae-54cf961414cf",
   "metadata": {},
   "source": [
    "We know from the earlier regex filtering that all of our observations contain the term 'carbon tax'. If we search for sections with 'tax harm Canadian' (including synonyms for harm) then we will be able to find observations that more likely than not talk about the carbon tax hurting Canadians in some way. Above, we see that there are 510 such observations compared to the total 2611. This has essentially split our dataset into a 80:20 ratio of for to against the carbon tax. While that's not too bad, a 50:50 split would have been ideal, since we would know the data is in no way skewed. However, that can be easily fixed by sampling from the 'for' set. Altogether, we'll have ~1000 observations, which is reasonable for modelling purposes."
   ]
  },
  {
   "cell_type": "code",
   "execution_count": 69,
   "id": "f2b42f9f-e5cc-4c59-8e9c-9848b5da84cc",
   "metadata": {
    "tags": []
   },
   "outputs": [
    {
     "name": "stderr",
     "output_type": "stream",
     "text": [
      "C:\\Users\\ehraa\\AppData\\Local\\Temp\\ipykernel_21240\\1810301342.py:6: SettingWithCopyWarning: \n",
      "A value is trying to be set on a copy of a slice from a DataFrame.\n",
      "Try using .loc[row_indexer,col_indexer] = value instead\n",
      "\n",
      "See the caveats in the documentation: https://pandas.pydata.org/pandas-docs/stable/user_guide/indexing.html#returning-a-view-versus-a-copy\n",
      "  df_against_tax['Sentiment'] = ['Negative']*df_against_tax.shape[0]\n",
      "C:\\Users\\ehraa\\AppData\\Local\\Temp\\ipykernel_21240\\1810301342.py:7: SettingWithCopyWarning: \n",
      "A value is trying to be set on a copy of a slice from a DataFrame.\n",
      "Try using .loc[row_indexer,col_indexer] = value instead\n",
      "\n",
      "See the caveats in the documentation: https://pandas.pydata.org/pandas-docs/stable/user_guide/indexing.html#returning-a-view-versus-a-copy\n",
      "  df_for_tax['Sentiment'] = ['Positive']*df_for_tax.shape[0]\n"
     ]
    }
   ],
   "source": [
    "#split the sets\n",
    "df_against_tax = df_carbon.loc[df_carbon.index.isin(filter_.index), :]\n",
    "df_for_tax = df_carbon.iloc[~df_carbon.index.isin(filter_.index), :]\n",
    "\n",
    "# #add a 'sentiment' column; this will help us identify whether the text is speaking for or against the carbon tax\n",
    "df_against_tax['Sentiment'] = ['Negative']*df_against_tax.shape[0]\n",
    "df_for_tax['Sentiment'] = ['Positive']*df_for_tax.shape[0]"
   ]
  },
  {
   "cell_type": "code",
   "execution_count": 70,
   "id": "e043e291-f24b-49fa-bbe4-567c722cfcb2",
   "metadata": {
    "tags": []
   },
   "outputs": [
    {
     "data": {
      "text/plain": [
       "(1020, 16)"
      ]
     },
     "execution_count": 70,
     "metadata": {},
     "output_type": "execute_result"
    }
   ],
   "source": [
    "#sample from 'for' set\n",
    "df_for_tax = df_for_tax.sample(filter_.shape[0], random_state=0)\n",
    "\n",
    "#combine the 2 sets\n",
    "df = pd.concat([df_against_tax, df_for_tax], axis=0)\n",
    "df.shape"
   ]
  },
  {
   "cell_type": "code",
   "execution_count": 71,
   "id": "816034d8-5b87-4955-9248-e15157e16399",
   "metadata": {
    "tags": []
   },
   "outputs": [
    {
     "name": "stdout",
     "output_type": "stream",
     "text": [
      "<class 'pandas.core.frame.DataFrame'>\n",
      "Index: 1020 entries, 2738 to 107560\n",
      "Data columns (total 16 columns):\n",
      " #   Column           Non-Null Count  Dtype  \n",
      "---  ------           --------------  -----  \n",
      " 0   basepk           1020 non-null   int64  \n",
      " 1   hid              1020 non-null   object \n",
      " 2   speechdate       1020 non-null   object \n",
      " 3   pid              1017 non-null   object \n",
      " 4   opid             1016 non-null   float64\n",
      " 5   speakeroldname   1016 non-null   object \n",
      " 6   speakerposition  9 non-null      object \n",
      " 7   maintopic        1015 non-null   object \n",
      " 8   subtopic         1015 non-null   object \n",
      " 9   subsubtopic      306 non-null    object \n",
      " 10  speechtext       1020 non-null   object \n",
      " 11  speakerparty     1016 non-null   object \n",
      " 12  speakerriding    1016 non-null   object \n",
      " 13  speakername      1020 non-null   object \n",
      " 14  speakerurl       1006 non-null   object \n",
      " 15  Sentiment        1020 non-null   object \n",
      "dtypes: float64(1), int64(1), object(14)\n",
      "memory usage: 135.5+ KB\n"
     ]
    }
   ],
   "source": [
    "df.info()"
   ]
  },
  {
   "cell_type": "code",
   "execution_count": 72,
   "id": "97b57c10-93b0-4cec-992c-a78c30e8c442",
   "metadata": {
    "tags": []
   },
   "outputs": [
    {
     "data": {
      "text/html": [
       "<div>\n",
       "<style scoped>\n",
       "    .dataframe tbody tr th:only-of-type {\n",
       "        vertical-align: middle;\n",
       "    }\n",
       "\n",
       "    .dataframe tbody tr th {\n",
       "        vertical-align: top;\n",
       "    }\n",
       "\n",
       "    .dataframe thead th {\n",
       "        text-align: right;\n",
       "    }\n",
       "</style>\n",
       "<table border=\"1\" class=\"dataframe\">\n",
       "  <thead>\n",
       "    <tr style=\"text-align: right;\">\n",
       "      <th></th>\n",
       "      <th>speechdate</th>\n",
       "      <th>speakerparty</th>\n",
       "      <th>speakerriding</th>\n",
       "      <th>Sentiment</th>\n",
       "    </tr>\n",
       "  </thead>\n",
       "  <tbody>\n",
       "    <tr>\n",
       "      <th>2738</th>\n",
       "      <td>2015-12-08</td>\n",
       "      <td>Conservative</td>\n",
       "      <td>Dauphin--Swan River--Neepawa</td>\n",
       "      <td>Negative</td>\n",
       "    </tr>\n",
       "    <tr>\n",
       "      <th>4878</th>\n",
       "      <td>2015-02-20</td>\n",
       "      <td>Conservative</td>\n",
       "      <td>Oak Ridges--Markham</td>\n",
       "      <td>Negative</td>\n",
       "    </tr>\n",
       "    <tr>\n",
       "      <th>5056</th>\n",
       "      <td>2015-02-23</td>\n",
       "      <td>Conservative</td>\n",
       "      <td>Moncton--Riverview--Dieppe</td>\n",
       "      <td>Negative</td>\n",
       "    </tr>\n",
       "    <tr>\n",
       "      <th>5667</th>\n",
       "      <td>2015-02-25</td>\n",
       "      <td>Conservative</td>\n",
       "      <td>Burlington</td>\n",
       "      <td>Negative</td>\n",
       "    </tr>\n",
       "    <tr>\n",
       "      <th>5669</th>\n",
       "      <td>2015-02-25</td>\n",
       "      <td>Conservative</td>\n",
       "      <td>Calgary Centre</td>\n",
       "      <td>Negative</td>\n",
       "    </tr>\n",
       "  </tbody>\n",
       "</table>\n",
       "</div>"
      ],
      "text/plain": [
       "      speechdate  speakerparty                 speakerriding Sentiment\n",
       "2738  2015-12-08  Conservative  Dauphin--Swan River--Neepawa  Negative\n",
       "4878  2015-02-20  Conservative           Oak Ridges--Markham  Negative\n",
       "5056  2015-02-23  Conservative    Moncton--Riverview--Dieppe  Negative\n",
       "5667  2015-02-25  Conservative                    Burlington  Negative\n",
       "5669  2015-02-25  Conservative                Calgary Centre  Negative"
      ]
     },
     "execution_count": 72,
     "metadata": {},
     "output_type": "execute_result"
    }
   ],
   "source": [
    "#only keep useful columns\n",
    "df = df.iloc[:, [2,11,12,15]]\n",
    "df.head()"
   ]
  },
  {
   "cell_type": "code",
   "execution_count": 73,
   "id": "e1af17bd-3c00-4832-8b16-af2dba608407",
   "metadata": {
    "tags": []
   },
   "outputs": [
    {
     "data": {
      "text/plain": [
       "speechdate       0\n",
       "speakerparty     4\n",
       "speakerriding    4\n",
       "Sentiment        0\n",
       "dtype: int64"
      ]
     },
     "execution_count": 73,
     "metadata": {},
     "output_type": "execute_result"
    }
   ],
   "source": [
    "df.isna().sum()"
   ]
  },
  {
   "cell_type": "code",
   "execution_count": 74,
   "id": "c80e3da4-5a2e-41fa-94db-1cc715b696e1",
   "metadata": {
    "tags": []
   },
   "outputs": [],
   "source": [
    "#drop remaining NAs\n",
    "df.dropna(inplace=True)"
   ]
  },
  {
   "cell_type": "markdown",
   "id": "60de53a3-616b-459d-a4a0-7d48baa8976b",
   "metadata": {},
   "source": [
    "Further, let's split up the dates into different columns for future ease."
   ]
  },
  {
   "cell_type": "code",
   "execution_count": 75,
   "id": "f22f1929-8cc1-47fb-971b-b133a3c5e371",
   "metadata": {
    "tags": []
   },
   "outputs": [
    {
     "data": {
      "text/html": [
       "<div>\n",
       "<style scoped>\n",
       "    .dataframe tbody tr th:only-of-type {\n",
       "        vertical-align: middle;\n",
       "    }\n",
       "\n",
       "    .dataframe tbody tr th {\n",
       "        vertical-align: top;\n",
       "    }\n",
       "\n",
       "    .dataframe thead th {\n",
       "        text-align: right;\n",
       "    }\n",
       "</style>\n",
       "<table border=\"1\" class=\"dataframe\">\n",
       "  <thead>\n",
       "    <tr style=\"text-align: right;\">\n",
       "      <th></th>\n",
       "      <th>speechdate</th>\n",
       "      <th>speakerparty</th>\n",
       "      <th>speakerriding</th>\n",
       "      <th>Sentiment</th>\n",
       "      <th>Year</th>\n",
       "    </tr>\n",
       "  </thead>\n",
       "  <tbody>\n",
       "    <tr>\n",
       "      <th>2738</th>\n",
       "      <td>2015-12-08</td>\n",
       "      <td>Conservative</td>\n",
       "      <td>Dauphin--Swan River--Neepawa</td>\n",
       "      <td>Negative</td>\n",
       "      <td>2015</td>\n",
       "    </tr>\n",
       "    <tr>\n",
       "      <th>4878</th>\n",
       "      <td>2015-02-20</td>\n",
       "      <td>Conservative</td>\n",
       "      <td>Oak Ridges--Markham</td>\n",
       "      <td>Negative</td>\n",
       "      <td>2015</td>\n",
       "    </tr>\n",
       "    <tr>\n",
       "      <th>5056</th>\n",
       "      <td>2015-02-23</td>\n",
       "      <td>Conservative</td>\n",
       "      <td>Moncton--Riverview--Dieppe</td>\n",
       "      <td>Negative</td>\n",
       "      <td>2015</td>\n",
       "    </tr>\n",
       "    <tr>\n",
       "      <th>5667</th>\n",
       "      <td>2015-02-25</td>\n",
       "      <td>Conservative</td>\n",
       "      <td>Burlington</td>\n",
       "      <td>Negative</td>\n",
       "      <td>2015</td>\n",
       "    </tr>\n",
       "    <tr>\n",
       "      <th>5669</th>\n",
       "      <td>2015-02-25</td>\n",
       "      <td>Conservative</td>\n",
       "      <td>Calgary Centre</td>\n",
       "      <td>Negative</td>\n",
       "      <td>2015</td>\n",
       "    </tr>\n",
       "  </tbody>\n",
       "</table>\n",
       "</div>"
      ],
      "text/plain": [
       "      speechdate  speakerparty                 speakerriding Sentiment  Year\n",
       "2738  2015-12-08  Conservative  Dauphin--Swan River--Neepawa  Negative  2015\n",
       "4878  2015-02-20  Conservative           Oak Ridges--Markham  Negative  2015\n",
       "5056  2015-02-23  Conservative    Moncton--Riverview--Dieppe  Negative  2015\n",
       "5667  2015-02-25  Conservative                    Burlington  Negative  2015\n",
       "5669  2015-02-25  Conservative                Calgary Centre  Negative  2015"
      ]
     },
     "execution_count": 75,
     "metadata": {},
     "output_type": "execute_result"
    }
   ],
   "source": [
    "dates_split = df.speechdate.str.extract(r'((\\d\\d\\d\\d)-(\\d\\d)-(\\d\\d))')\n",
    "df['Year'] = dates_split.iloc[:, 1]\n",
    "\n",
    "df.head()"
   ]
  },
  {
   "cell_type": "code",
   "execution_count": 76,
   "id": "c32655fc-9429-4829-984f-689d0c5455a5",
   "metadata": {
    "tags": []
   },
   "outputs": [],
   "source": [
    "#drop speechdate column as we don't need it anymore\n",
    "df.drop('speechdate', axis=1, inplace=True)"
   ]
  },
  {
   "cell_type": "code",
   "execution_count": 77,
   "id": "3246627a-8f6c-4056-9786-2bf7957d908d",
   "metadata": {
    "tags": []
   },
   "outputs": [
    {
     "name": "stdout",
     "output_type": "stream",
     "text": [
      "['Conservative' 'New Democratic Party' 'Liberal' 'Independent'\n",
      " 'Bloc Québécois' 'Green Party' 'NDP']\n",
      "['2015' '2016' '2017' '2018' '2019']\n"
     ]
    },
    {
     "data": {
      "text/plain": [
       "161"
      ]
     },
     "execution_count": 77,
     "metadata": {},
     "output_type": "execute_result"
    }
   ],
   "source": [
    "#make sure there are no erroneus entries\n",
    "print(df.speakerparty.unique())\n",
    "print(df.Year.unique())\n",
    "len(df.speakerriding.unique())"
   ]
  },
  {
   "cell_type": "code",
   "execution_count": 78,
   "id": "b30ce79f-186a-4511-b652-c85151273dc2",
   "metadata": {
    "tags": []
   },
   "outputs": [],
   "source": [
    "#fix NDP and Bloc splits\n",
    "df.loc[df.speakerparty=='New Democratic Party', 'speakerparty'] = 'NDP'\n",
    "df.loc[df.speakerparty=='Bloc Québécois', 'speakerparty'] = 'Bloc'\n",
    "\n",
    "#turn year into integer variables\n",
    "df.Year = df.Year.apply(lambda x: int(x))"
   ]
  },
  {
   "cell_type": "markdown",
   "id": "6f9ac35f-53e9-4a4f-bc51-6095030b1e7a",
   "metadata": {},
   "source": [
    "Now, time to visualize."
   ]
  },
  {
   "cell_type": "code",
   "execution_count": 80,
   "id": "e4e905b5-a5a0-4fc7-bf90-b245d4b0af08",
   "metadata": {
    "tags": []
   },
   "outputs": [
    {
     "data": {
      "text/plain": [
       "Text(0, 0.5, 'Count')"
      ]
     },
     "execution_count": 80,
     "metadata": {},
     "output_type": "execute_result"
    },
    {
     "data": {
      "image/png": "[encoded data removed]",
      "text/plain": [
       "<Figure size 640x480 with 1 Axes>"
      ]
     },
     "metadata": {},
     "output_type": "display_data"
    }
   ],
   "source": [
    "#plot sentiments vs years\n",
    "sns.countplot(data=df, x='Year', hue='Sentiment', palette=['red', 'blue'])\n",
    "plt.title(\"Annual Changes in Sentiment\")\n",
    "plt.xlabel(\"Year\")\n",
    "plt.ylabel(\"Count\")"
   ]
  },
  {
   "cell_type": "markdown",
   "id": "839ccb0f-149c-416a-991a-da2859e5fd52",
   "metadata": {},
   "source": [
    "Looks like in 2015, 2016 and 2017, there was a more positive sentiment, while in 2018 there was a more negative sentiment about carbon tax. In 2019, it seems to be about equal. Unfortunately, since there are a different number of observations for each year, we can't directly compare annual changes in sentiment."
   ]
  },
  {
   "cell_type": "code",
   "execution_count": 81,
   "id": "3e4a7a88-2731-4a32-b574-928d51328de9",
   "metadata": {
    "tags": []
   },
   "outputs": [
    {
     "data": {
      "text/plain": [
       "<Axes: xlabel='speakerparty', ylabel='count'>"
      ]
     },
     "execution_count": 81,
     "metadata": {},
     "output_type": "execute_result"
    },
    {
     "data": {
      "image/png": "[encoded data removed]",
      "text/plain": [
       "<Figure size 640x480 with 1 Axes>"
      ]
     },
     "metadata": {},
     "output_type": "display_data"
    }
   ],
   "source": [
    "#plot sentimant and party\n",
    "sns.countplot(data=df, x='speakerparty', hue='Sentiment', palette=['red', 'blue'])"
   ]
  },
  {
   "cell_type": "markdown",
   "id": "faf002f4-5e8d-4db2-af83-b749c7d4995c",
   "metadata": {},
   "source": [
    "Conservatives seems to have been speaking largely against the tax, while the NDP, Liberal and Green Party members seem to be speaking mostly for. The data shows that Conservatives also seem to be talking about the carbon tax a lot more, although that could simply be due to the sampling."
   ]
  },
  {
   "cell_type": "markdown",
   "id": "c87d0c32-774a-4800-81e4-e302d6731c22",
   "metadata": {},
   "source": [
    "<h1>Joining Datasets</h1>"
   ]
  },
  {
   "cell_type": "markdown",
   "id": "58440274-ea41-4b6b-98d9-e06f7c6f6699",
   "metadata": {},
   "source": [
    "Now, let's join the 2 datasets. We need something to join them on, so I'm going to use the riding as an indicator of province."
   ]
  },
  {
   "cell_type": "code",
   "execution_count": 82,
   "id": "5567029b-f2c2-47b9-b54a-2956b5119566",
   "metadata": {
    "tags": []
   },
   "outputs": [
    {
     "data": {
      "text/html": [
       "<div>\n",
       "<style scoped>\n",
       "    .dataframe tbody tr th:only-of-type {\n",
       "        vertical-align: middle;\n",
       "    }\n",
       "\n",
       "    .dataframe tbody tr th {\n",
       "        vertical-align: top;\n",
       "    }\n",
       "\n",
       "    .dataframe thead th {\n",
       "        text-align: right;\n",
       "    }\n",
       "</style>\n",
       "<table border=\"1\" class=\"dataframe\">\n",
       "  <thead>\n",
       "    <tr style=\"text-align: right;\">\n",
       "      <th></th>\n",
       "      <th>FED_NUM</th>\n",
       "      <th>NID</th>\n",
       "      <th>FEDNUM</th>\n",
       "      <th>ENNAME</th>\n",
       "      <th>FRNAME</th>\n",
       "      <th>PROVCODE</th>\n",
       "      <th>CREADT</th>\n",
       "      <th>REVDT</th>\n",
       "      <th>REPORDER</th>\n",
       "      <th>DECPOPCNT</th>\n",
       "      <th>QUIPOPCNT</th>\n",
       "      <th>ENLEGALDSC</th>\n",
       "      <th>FRLEGALDSC</th>\n",
       "      <th>geometry</th>\n",
       "    </tr>\n",
       "  </thead>\n",
       "  <tbody>\n",
       "    <tr>\n",
       "      <th>0</th>\n",
       "      <td>35029</td>\n",
       "      <td>{30F68311-B8D1-4049-9DA1-88F80222930F}</td>\n",
       "      <td>35029</td>\n",
       "      <td>Etobicoke North</td>\n",
       "      <td>Etobicoke-Nord</td>\n",
       "      <td>ON</td>\n",
       "      <td>20131005</td>\n",
       "      <td>None</td>\n",
       "      <td>2013</td>\n",
       "      <td>117601</td>\n",
       "      <td>0</td>\n",
       "      <td>http://www.elections.ca/res/cir/maps2/mapprov....</td>\n",
       "      <td>http://www.elections.ca/res/cir/maps2/mapprov....</td>\n",
       "      <td>POLYGON ((7201954.777 935407.037, 7202067.746 ...</td>\n",
       "    </tr>\n",
       "    <tr>\n",
       "      <th>1</th>\n",
       "      <td>35032</td>\n",
       "      <td>{39AFA153-47AC-4203-87DE-B7A71DF234E9}</td>\n",
       "      <td>35032</td>\n",
       "      <td>Guelph</td>\n",
       "      <td>Guelph</td>\n",
       "      <td>ON</td>\n",
       "      <td>20131005</td>\n",
       "      <td>None</td>\n",
       "      <td>2013</td>\n",
       "      <td>121688</td>\n",
       "      <td>0</td>\n",
       "      <td>http://www.elections.ca/res/cir/maps2/mapprov....</td>\n",
       "      <td>http://www.elections.ca/res/cir/maps2/mapprov....</td>\n",
       "      <td>POLYGON ((7151948.911 899971.331, 7151447.129 ...</td>\n",
       "    </tr>\n",
       "    <tr>\n",
       "      <th>2</th>\n",
       "      <td>48017</td>\n",
       "      <td>{C3BC533E-6642-4C06-9291-10C0907A24A6}</td>\n",
       "      <td>48017</td>\n",
       "      <td>Edmonton Mill Woods</td>\n",
       "      <td>Edmonton Mill Woods</td>\n",
       "      <td>AB</td>\n",
       "      <td>20131005</td>\n",
       "      <td>None</td>\n",
       "      <td>2013</td>\n",
       "      <td>106103</td>\n",
       "      <td>0</td>\n",
       "      <td>http://www.elections.ca/res/cir/maps2/mapprov....</td>\n",
       "      <td>http://www.elections.ca/res/cir/maps2/mapprov....</td>\n",
       "      <td>POLYGON ((4811379.686 2157147.634, 4811380.094...</td>\n",
       "    </tr>\n",
       "    <tr>\n",
       "      <th>3</th>\n",
       "      <td>48018</td>\n",
       "      <td>{C5BCB32E-57F6-4448-A533-33D114D02386}</td>\n",
       "      <td>48018</td>\n",
       "      <td>Edmonton Riverbend</td>\n",
       "      <td>Edmonton Riverbend</td>\n",
       "      <td>AB</td>\n",
       "      <td>20131005</td>\n",
       "      <td>None</td>\n",
       "      <td>2013</td>\n",
       "      <td>106302</td>\n",
       "      <td>0</td>\n",
       "      <td>http://www.elections.ca/res/cir/maps2/mapprov....</td>\n",
       "      <td>http://www.elections.ca/res/cir/maps2/mapprov....</td>\n",
       "      <td>POLYGON ((4801564.891 2159173.746, 4801137.980...</td>\n",
       "    </tr>\n",
       "    <tr>\n",
       "      <th>4</th>\n",
       "      <td>48021</td>\n",
       "      <td>{BBFBC678-2943-48FD-BC75-A259C0060A06}</td>\n",
       "      <td>48021</td>\n",
       "      <td>Edmonton--Wetaskiwin</td>\n",
       "      <td>Edmonton--Wetaskiwin</td>\n",
       "      <td>AB</td>\n",
       "      <td>20131005</td>\n",
       "      <td>None</td>\n",
       "      <td>2013</td>\n",
       "      <td>110644</td>\n",
       "      <td>0</td>\n",
       "      <td>http://www.elections.ca/res/cir/maps2/mapprov....</td>\n",
       "      <td>http://www.elections.ca/res/cir/maps2/mapprov....</td>\n",
       "      <td>POLYGON ((4694436.409 2130675.640, 4694437.989...</td>\n",
       "    </tr>\n",
       "  </tbody>\n",
       "</table>\n",
       "</div>"
      ],
      "text/plain": [
       "   FED_NUM                                     NID  FEDNUM  \\\n",
       "0    35029  {30F68311-B8D1-4049-9DA1-88F80222930F}   35029   \n",
       "1    35032  {39AFA153-47AC-4203-87DE-B7A71DF234E9}   35032   \n",
       "2    48017  {C3BC533E-6642-4C06-9291-10C0907A24A6}   48017   \n",
       "3    48018  {C5BCB32E-57F6-4448-A533-33D114D02386}   48018   \n",
       "4    48021  {BBFBC678-2943-48FD-BC75-A259C0060A06}   48021   \n",
       "\n",
       "                 ENNAME                FRNAME PROVCODE    CREADT REVDT  \\\n",
       "0       Etobicoke North        Etobicoke-Nord       ON  20131005  None   \n",
       "1                Guelph                Guelph       ON  20131005  None   \n",
       "2   Edmonton Mill Woods   Edmonton Mill Woods       AB  20131005  None   \n",
       "3    Edmonton Riverbend    Edmonton Riverbend       AB  20131005  None   \n",
       "4  Edmonton--Wetaskiwin  Edmonton--Wetaskiwin       AB  20131005  None   \n",
       "\n",
       "  REPORDER  DECPOPCNT  QUIPOPCNT  \\\n",
       "0     2013     117601          0   \n",
       "1     2013     121688          0   \n",
       "2     2013     106103          0   \n",
       "3     2013     106302          0   \n",
       "4     2013     110644          0   \n",
       "\n",
       "                                          ENLEGALDSC  \\\n",
       "0  http://www.elections.ca/res/cir/maps2/mapprov....   \n",
       "1  http://www.elections.ca/res/cir/maps2/mapprov....   \n",
       "2  http://www.elections.ca/res/cir/maps2/mapprov....   \n",
       "3  http://www.elections.ca/res/cir/maps2/mapprov....   \n",
       "4  http://www.elections.ca/res/cir/maps2/mapprov....   \n",
       "\n",
       "                                          FRLEGALDSC  \\\n",
       "0  http://www.elections.ca/res/cir/maps2/mapprov....   \n",
       "1  http://www.elections.ca/res/cir/maps2/mapprov....   \n",
       "2  http://www.elections.ca/res/cir/maps2/mapprov....   \n",
       "3  http://www.elections.ca/res/cir/maps2/mapprov....   \n",
       "4  http://www.elections.ca/res/cir/maps2/mapprov....   \n",
       "\n",
       "                                            geometry  \n",
       "0  POLYGON ((7201954.777 935407.037, 7202067.746 ...  \n",
       "1  POLYGON ((7151948.911 899971.331, 7151447.129 ...  \n",
       "2  POLYGON ((4811379.686 2157147.634, 4811380.094...  \n",
       "3  POLYGON ((4801564.891 2159173.746, 4801137.980...  \n",
       "4  POLYGON ((4694436.409 2130675.640, 4694437.989...  "
      ]
     },
     "execution_count": 82,
     "metadata": {},
     "output_type": "execute_result"
    }
   ],
   "source": [
    "ridings = gpd.read_file('2015-ridings/FED_CA_2_2_ENG.shp')\n",
    "ridings.head()"
   ]
  },
  {
   "cell_type": "code",
   "execution_count": 83,
   "id": "0fbab3e0-f531-46b7-b9f9-568e1006e3c6",
   "metadata": {
    "tags": []
   },
   "outputs": [],
   "source": [
    "#normalize the ridings columns in both datasets\n",
    "def normalize(x):\n",
    "    x = x.lower()\n",
    "    new = ''\n",
    "    for c in x:\n",
    "        if ord(c) >= 97 and ord(c) <= 122:\n",
    "            new += c\n",
    "    return new"
   ]
  },
  {
   "cell_type": "code",
   "execution_count": 84,
   "id": "a7e45315-c312-44ef-965e-0e8beda268dd",
   "metadata": {
    "tags": []
   },
   "outputs": [],
   "source": [
    "ridings.ENNAME = ridings.ENNAME.apply(normalize)\n",
    "df.speakerriding = df.speakerriding.apply(normalize)"
   ]
  },
  {
   "cell_type": "code",
   "execution_count": 85,
   "id": "d8e774aa-f5a3-4d4e-acd6-1a6ca9aaf0bd",
   "metadata": {
    "tags": []
   },
   "outputs": [],
   "source": [
    "#change province column in ridings dataset to full name of provinces\n",
    "def transform(x):\n",
    "    key = {'ON': 'Ontario', 'AB': 'Alberta', 'QC': 'Quebec', 'YT': 'Yukon', 'NU': 'Nunavut', 'NT': 'Northwest Territories',\n",
    "           'SK': 'Saskatchewan', 'BC': 'British Columbia', 'MB': 'Manitoba', 'PE': 'Prince Edward Island',\n",
    "           'NL': 'Newfoundland and Labrador', 'NS': 'Nova Scotia', 'NB': 'New Brunswick'}\n",
    "    return key[x]\n",
    "\n",
    "ridings.PROVCODE = ridings.PROVCODE.apply(transform)"
   ]
  },
  {
   "cell_type": "code",
   "execution_count": 86,
   "id": "5b08abb1-e2fe-43d0-9dbb-d88428cc8e47",
   "metadata": {
    "tags": []
   },
   "outputs": [
    {
     "name": "stdout",
     "output_type": "stream",
     "text": [
      "<class 'pandas.core.frame.DataFrame'>\n",
      "RangeIndex: 1016 entries, 0 to 1015\n",
      "Data columns (total 18 columns):\n",
      " #   Column         Non-Null Count  Dtype   \n",
      "---  ------         --------------  -----   \n",
      " 0   speakerparty   1016 non-null   object  \n",
      " 1   speakerriding  1016 non-null   object  \n",
      " 2   Sentiment      1016 non-null   object  \n",
      " 3   Year           1016 non-null   int64   \n",
      " 4   FED_NUM        1016 non-null   int64   \n",
      " 5   NID            1016 non-null   object  \n",
      " 6   FEDNUM         1016 non-null   int64   \n",
      " 7   ENNAME         1016 non-null   object  \n",
      " 8   FRNAME         1016 non-null   object  \n",
      " 9   PROVCODE       1016 non-null   object  \n",
      " 10  CREADT         1016 non-null   object  \n",
      " 11  REVDT          177 non-null    object  \n",
      " 12  REPORDER       1016 non-null   object  \n",
      " 13  DECPOPCNT      1016 non-null   int64   \n",
      " 14  QUIPOPCNT      1016 non-null   int64   \n",
      " 15  ENLEGALDSC     1016 non-null   object  \n",
      " 16  FRLEGALDSC     1016 non-null   object  \n",
      " 17  geometry       1016 non-null   geometry\n",
      "dtypes: geometry(1), int64(5), object(12)\n",
      "memory usage: 143.0+ KB\n"
     ]
    }
   ],
   "source": [
    "#merge the datasets\n",
    "df_prov = df.merge(ridings, left_on='speakerriding', right_on='ENNAME', how='inner')\n",
    "df_prov.info()"
   ]
  },
  {
   "cell_type": "code",
   "execution_count": 87,
   "id": "e7747308-fbc5-498b-b95b-a49449b16352",
   "metadata": {
    "tags": []
   },
   "outputs": [
    {
     "data": {
      "text/plain": [
       "speakerparty    0\n",
       "Sentiment       0\n",
       "Year            0\n",
       "PROVCODE        0\n",
       "dtype: int64"
      ]
     },
     "execution_count": 87,
     "metadata": {},
     "output_type": "execute_result"
    }
   ],
   "source": [
    "#only keep relevant columns\n",
    "df_prov = df_prov.iloc[:, [0,2,3,9]]\n",
    "df_prov.isna().sum()"
   ]
  },
  {
   "cell_type": "code",
   "execution_count": 88,
   "id": "5a44a8be-0525-4a49-baa5-4cf75a949fdc",
   "metadata": {
    "tags": []
   },
   "outputs": [
    {
     "data": {
      "text/plain": [
       "(1016, 4)"
      ]
     },
     "execution_count": 88,
     "metadata": {},
     "output_type": "execute_result"
    }
   ],
   "source": [
    "df_prov.shape"
   ]
  },
  {
   "cell_type": "code",
   "execution_count": 90,
   "id": "d9707fb0-0445-4e19-8413-1041d5d954d6",
   "metadata": {
    "tags": []
   },
   "outputs": [
    {
     "data": {
      "text/html": [
       "<div>\n",
       "<style scoped>\n",
       "    .dataframe tbody tr th:only-of-type {\n",
       "        vertical-align: middle;\n",
       "    }\n",
       "\n",
       "    .dataframe tbody tr th {\n",
       "        vertical-align: top;\n",
       "    }\n",
       "\n",
       "    .dataframe thead th {\n",
       "        text-align: right;\n",
       "    }\n",
       "</style>\n",
       "<table border=\"1\" class=\"dataframe\">\n",
       "  <thead>\n",
       "    <tr style=\"text-align: right;\">\n",
       "      <th></th>\n",
       "      <th>speakerparty</th>\n",
       "      <th>Sentiment</th>\n",
       "      <th>Year</th>\n",
       "      <th>PROVCODE</th>\n",
       "      <th>year</th>\n",
       "      <th>province</th>\n",
       "      <th>federal_party</th>\n",
       "      <th>co2_tonnes</th>\n",
       "      <th>emissions</th>\n",
       "    </tr>\n",
       "  </thead>\n",
       "  <tbody>\n",
       "    <tr>\n",
       "      <th>0</th>\n",
       "      <td>Conservative</td>\n",
       "      <td>Negative</td>\n",
       "      <td>2015.0</td>\n",
       "      <td>Manitoba</td>\n",
       "      <td>2015</td>\n",
       "      <td>Manitoba</td>\n",
       "      <td>Conservative</td>\n",
       "      <td>1.490384e+06</td>\n",
       "      <td>0.014904</td>\n",
       "    </tr>\n",
       "    <tr>\n",
       "      <th>1</th>\n",
       "      <td>Conservative</td>\n",
       "      <td>Positive</td>\n",
       "      <td>2015.0</td>\n",
       "      <td>Manitoba</td>\n",
       "      <td>2015</td>\n",
       "      <td>Manitoba</td>\n",
       "      <td>Conservative</td>\n",
       "      <td>1.490384e+06</td>\n",
       "      <td>0.014904</td>\n",
       "    </tr>\n",
       "    <tr>\n",
       "      <th>2</th>\n",
       "      <td>Conservative</td>\n",
       "      <td>Negative</td>\n",
       "      <td>2018.0</td>\n",
       "      <td>Manitoba</td>\n",
       "      <td>2018</td>\n",
       "      <td>Manitoba</td>\n",
       "      <td>Conservative</td>\n",
       "      <td>1.919020e+06</td>\n",
       "      <td>0.019190</td>\n",
       "    </tr>\n",
       "    <tr>\n",
       "      <th>3</th>\n",
       "      <td>Conservative</td>\n",
       "      <td>Positive</td>\n",
       "      <td>2018.0</td>\n",
       "      <td>Manitoba</td>\n",
       "      <td>2018</td>\n",
       "      <td>Manitoba</td>\n",
       "      <td>Conservative</td>\n",
       "      <td>1.919020e+06</td>\n",
       "      <td>0.019190</td>\n",
       "    </tr>\n",
       "    <tr>\n",
       "      <th>4</th>\n",
       "      <td>Conservative</td>\n",
       "      <td>Positive</td>\n",
       "      <td>2018.0</td>\n",
       "      <td>Manitoba</td>\n",
       "      <td>2018</td>\n",
       "      <td>Manitoba</td>\n",
       "      <td>Conservative</td>\n",
       "      <td>1.919020e+06</td>\n",
       "      <td>0.019190</td>\n",
       "    </tr>\n",
       "  </tbody>\n",
       "</table>\n",
       "</div>"
      ],
      "text/plain": [
       "   speakerparty Sentiment    Year  PROVCODE  year  province federal_party  \\\n",
       "0  Conservative  Negative  2015.0  Manitoba  2015  Manitoba  Conservative   \n",
       "1  Conservative  Positive  2015.0  Manitoba  2015  Manitoba  Conservative   \n",
       "2  Conservative  Negative  2018.0  Manitoba  2018  Manitoba  Conservative   \n",
       "3  Conservative  Positive  2018.0  Manitoba  2018  Manitoba  Conservative   \n",
       "4  Conservative  Positive  2018.0  Manitoba  2018  Manitoba  Conservative   \n",
       "\n",
       "     co2_tonnes  emissions  \n",
       "0  1.490384e+06   0.014904  \n",
       "1  1.490384e+06   0.014904  \n",
       "2  1.919020e+06   0.019190  \n",
       "3  1.919020e+06   0.019190  \n",
       "4  1.919020e+06   0.019190  "
      ]
     },
     "execution_count": 90,
     "metadata": {},
     "output_type": "execute_result"
    }
   ],
   "source": [
    "df_joined = df_prov.merge(new_carbon_df, left_on=['Year', 'PROVCODE'], right_on=['year', 'province'], how='outer')\n",
    "df_joined.head()"
   ]
  },
  {
   "cell_type": "code",
   "execution_count": 91,
   "id": "f6a170a6-5c14-4506-9f13-bd4df57631c3",
   "metadata": {
    "tags": []
   },
   "outputs": [
    {
     "data": {
      "text/plain": [
       "speakerparty     33\n",
       "Sentiment        33\n",
       "Year             33\n",
       "PROVCODE         33\n",
       "year              0\n",
       "province          0\n",
       "federal_party     0\n",
       "co2_tonnes        0\n",
       "emissions         0\n",
       "dtype: int64"
      ]
     },
     "execution_count": 91,
     "metadata": {},
     "output_type": "execute_result"
    }
   ],
   "source": [
    "df_joined.isna().sum()"
   ]
  },
  {
   "cell_type": "markdown",
   "id": "371e0a72-a76e-42e6-9f4c-ec7e970fdda1",
   "metadata": {},
   "source": [
    "The nulls arise from the fact that not all provinces had members making statements about the carbon tax in certain years, which is fine. However, since we want to investigate the relationship between the province's sentiment and its emissions, the null entries don't give us any additional value. Also, there are only 33 rows with null values, so simply dropping them shouldn't be too big of a problem."
   ]
  },
  {
   "cell_type": "code",
   "execution_count": 92,
   "id": "c63a526a-e978-4c6c-89ec-7ea96c1e5680",
   "metadata": {
    "tags": []
   },
   "outputs": [
    {
     "data": {
      "text/plain": [
       "(1016, 9)"
      ]
     },
     "execution_count": 92,
     "metadata": {},
     "output_type": "execute_result"
    }
   ],
   "source": [
    "df_joined.dropna(inplace=True)\n",
    "df_joined.shape"
   ]
  },
  {
   "cell_type": "code",
   "execution_count": 93,
   "id": "3d50a126-3fee-4733-aa44-875ac6d91236",
   "metadata": {
    "tags": []
   },
   "outputs": [
    {
     "data": {
      "text/html": [
       "<div>\n",
       "<style scoped>\n",
       "    .dataframe tbody tr th:only-of-type {\n",
       "        vertical-align: middle;\n",
       "    }\n",
       "\n",
       "    .dataframe tbody tr th {\n",
       "        vertical-align: top;\n",
       "    }\n",
       "\n",
       "    .dataframe thead th {\n",
       "        text-align: right;\n",
       "    }\n",
       "</style>\n",
       "<table border=\"1\" class=\"dataframe\">\n",
       "  <thead>\n",
       "    <tr style=\"text-align: right;\">\n",
       "      <th></th>\n",
       "      <th>speakerparty</th>\n",
       "      <th>Sentiment</th>\n",
       "      <th>year</th>\n",
       "      <th>province</th>\n",
       "      <th>federal_party</th>\n",
       "      <th>co2_tonnes</th>\n",
       "    </tr>\n",
       "  </thead>\n",
       "  <tbody>\n",
       "    <tr>\n",
       "      <th>0</th>\n",
       "      <td>Conservative</td>\n",
       "      <td>Negative</td>\n",
       "      <td>2015</td>\n",
       "      <td>Manitoba</td>\n",
       "      <td>Conservative</td>\n",
       "      <td>1.490384e+06</td>\n",
       "    </tr>\n",
       "    <tr>\n",
       "      <th>1</th>\n",
       "      <td>Conservative</td>\n",
       "      <td>Positive</td>\n",
       "      <td>2015</td>\n",
       "      <td>Manitoba</td>\n",
       "      <td>Conservative</td>\n",
       "      <td>1.490384e+06</td>\n",
       "    </tr>\n",
       "    <tr>\n",
       "      <th>2</th>\n",
       "      <td>Conservative</td>\n",
       "      <td>Negative</td>\n",
       "      <td>2018</td>\n",
       "      <td>Manitoba</td>\n",
       "      <td>Conservative</td>\n",
       "      <td>1.919020e+06</td>\n",
       "    </tr>\n",
       "    <tr>\n",
       "      <th>3</th>\n",
       "      <td>Conservative</td>\n",
       "      <td>Positive</td>\n",
       "      <td>2018</td>\n",
       "      <td>Manitoba</td>\n",
       "      <td>Conservative</td>\n",
       "      <td>1.919020e+06</td>\n",
       "    </tr>\n",
       "    <tr>\n",
       "      <th>4</th>\n",
       "      <td>Conservative</td>\n",
       "      <td>Positive</td>\n",
       "      <td>2018</td>\n",
       "      <td>Manitoba</td>\n",
       "      <td>Conservative</td>\n",
       "      <td>1.919020e+06</td>\n",
       "    </tr>\n",
       "  </tbody>\n",
       "</table>\n",
       "</div>"
      ],
      "text/plain": [
       "   speakerparty Sentiment  year  province federal_party    co2_tonnes\n",
       "0  Conservative  Negative  2015  Manitoba  Conservative  1.490384e+06\n",
       "1  Conservative  Positive  2015  Manitoba  Conservative  1.490384e+06\n",
       "2  Conservative  Negative  2018  Manitoba  Conservative  1.919020e+06\n",
       "3  Conservative  Positive  2018  Manitoba  Conservative  1.919020e+06\n",
       "4  Conservative  Positive  2018  Manitoba  Conservative  1.919020e+06"
      ]
     },
     "execution_count": 93,
     "metadata": {},
     "output_type": "execute_result"
    }
   ],
   "source": [
    "df_joined = df_joined.iloc[:, [0,1,4,5,6,7]]\n",
    "df_joined.head()"
   ]
  },
  {
   "cell_type": "markdown",
   "id": "ee07c85d-aa1e-49c5-8e4d-6e77524ec73a",
   "metadata": {},
   "source": [
    "Now, time to visualize."
   ]
  },
  {
   "cell_type": "code",
   "execution_count": 94,
   "id": "7011a8f3-a44d-4c3f-b763-2e29c49c2cdf",
   "metadata": {
    "tags": []
   },
   "outputs": [
    {
     "data": {
      "text/plain": [
       "<Axes: xlabel='count', ylabel='province'>"
      ]
     },
     "execution_count": 94,
     "metadata": {},
     "output_type": "execute_result"
    },
    {
     "data": {
      "image/png": "[encoded data removed]",
      "text/plain": [
       "<Figure size 640x480 with 1 Axes>"
      ]
     },
     "metadata": {},
     "output_type": "display_data"
    }
   ],
   "source": [
    "#plot provincial sentiments\n",
    "sns.countplot(data=df_joined, y='province', hue='Sentiment', palette=['red', 'blue'])"
   ]
  },
  {
   "cell_type": "markdown",
   "id": "08ac3622-4f0f-454e-88ed-12108820abce",
   "metadata": {},
   "source": [
    "Looks like Ontario is the only province with negative sentiment; all the other provinces seem to have overall positive sentiment about the carbon tax."
   ]
  },
  {
   "cell_type": "code",
   "execution_count": 95,
   "id": "33b34b79-a507-4188-b54a-81149bc27539",
   "metadata": {
    "tags": []
   },
   "outputs": [
    {
     "data": {
      "text/plain": [
       "<Axes: xlabel='federal_party', ylabel='count'>"
      ]
     },
     "execution_count": 95,
     "metadata": {},
     "output_type": "execute_result"
    },
    {
     "data": {
      "image/png": "[encoded data removed]",
      "text/plain": [
       "<Figure size 640x480 with 1 Axes>"
      ]
     },
     "metadata": {},
     "output_type": "display_data"
    }
   ],
   "source": [
    "#plot party-wise sentiment\n",
    "sns.countplot(data=df_joined, x='federal_party', hue='Sentiment', palette=['red', 'blue'])"
   ]
  },
  {
   "cell_type": "markdown",
   "id": "28a3f7f4-0b30-4a24-b813-eee8fc4cd471",
   "metadata": {},
   "source": [
    "This graph is saying that the Liberals were speaking against the carbon tax, while the Conservatives were speaking for. However, this does not make sense as the Liberals WANTED the policy. This graph uses provincial party, but the graph above (which realistically makes more sense) uses the speaker's party. It makes sense that we can't generalize one province per party, as we don't really know how many seats were won by different parties in each province."
   ]
  },
  {
   "cell_type": "markdown",
   "id": "4d4b1740-c17c-4064-9d8a-3334a6f44613",
   "metadata": {},
   "source": [
    "<h1>Modeling</h1>"
   ]
  },
  {
   "cell_type": "markdown",
   "id": "8b20b6bb-1070-47b6-8d85-c2fe17d137b6",
   "metadata": {},
   "source": [
    "<h2>Model 1: Emissions ~ Year</h2>"
   ]
  },
  {
   "cell_type": "code",
   "execution_count": 69,
   "id": "ea963caf-f01a-475d-92e2-28ad6f50c143",
   "metadata": {
    "tags": []
   },
   "outputs": [
    {
     "data": {
      "text/html": [
       "<div>\n",
       "<style scoped>\n",
       "    .dataframe tbody tr th:only-of-type {\n",
       "        vertical-align: middle;\n",
       "    }\n",
       "\n",
       "    .dataframe tbody tr th {\n",
       "        vertical-align: top;\n",
       "    }\n",
       "\n",
       "    .dataframe thead th {\n",
       "        text-align: right;\n",
       "    }\n",
       "</style>\n",
       "<table border=\"1\" class=\"dataframe\">\n",
       "  <thead>\n",
       "    <tr style=\"text-align: right;\">\n",
       "      <th></th>\n",
       "      <th>year</th>\n",
       "      <th>province</th>\n",
       "      <th>federal_party</th>\n",
       "      <th>co2_tonnes</th>\n",
       "      <th>emissions</th>\n",
       "    </tr>\n",
       "  </thead>\n",
       "  <tbody>\n",
       "    <tr>\n",
       "      <th>0</th>\n",
       "      <td>2015</td>\n",
       "      <td>Alberta</td>\n",
       "      <td>Conservative</td>\n",
       "      <td>1.360464e+08</td>\n",
       "      <td>1.360464</td>\n",
       "    </tr>\n",
       "    <tr>\n",
       "      <th>1</th>\n",
       "      <td>2015</td>\n",
       "      <td>British Columbia</td>\n",
       "      <td>Liberal</td>\n",
       "      <td>1.191452e+07</td>\n",
       "      <td>0.119145</td>\n",
       "    </tr>\n",
       "    <tr>\n",
       "      <th>2</th>\n",
       "      <td>2015</td>\n",
       "      <td>Manitoba</td>\n",
       "      <td>Conservative</td>\n",
       "      <td>1.490384e+06</td>\n",
       "      <td>0.014904</td>\n",
       "    </tr>\n",
       "    <tr>\n",
       "      <th>3</th>\n",
       "      <td>2015</td>\n",
       "      <td>New Brunswick</td>\n",
       "      <td>Liberal</td>\n",
       "      <td>7.146915e+06</td>\n",
       "      <td>0.071469</td>\n",
       "    </tr>\n",
       "    <tr>\n",
       "      <th>4</th>\n",
       "      <td>2015</td>\n",
       "      <td>Newfoundland and Labrador</td>\n",
       "      <td>Liberal</td>\n",
       "      <td>4.673263e+06</td>\n",
       "      <td>0.046733</td>\n",
       "    </tr>\n",
       "    <tr>\n",
       "      <th>...</th>\n",
       "      <td>...</td>\n",
       "      <td>...</td>\n",
       "      <td>...</td>\n",
       "      <td>...</td>\n",
       "      <td>...</td>\n",
       "    </tr>\n",
       "    <tr>\n",
       "      <th>60</th>\n",
       "      <td>2019</td>\n",
       "      <td>Ontario</td>\n",
       "      <td>Liberal</td>\n",
       "      <td>4.049800e+07</td>\n",
       "      <td>0.404980</td>\n",
       "    </tr>\n",
       "    <tr>\n",
       "      <th>61</th>\n",
       "      <td>2019</td>\n",
       "      <td>Prince Edward Island</td>\n",
       "      <td>Liberal</td>\n",
       "      <td>6.042595e+04</td>\n",
       "      <td>0.000604</td>\n",
       "    </tr>\n",
       "    <tr>\n",
       "      <th>62</th>\n",
       "      <td>2019</td>\n",
       "      <td>Quebec</td>\n",
       "      <td>Bloc</td>\n",
       "      <td>1.964496e+07</td>\n",
       "      <td>0.196450</td>\n",
       "    </tr>\n",
       "    <tr>\n",
       "      <th>63</th>\n",
       "      <td>2019</td>\n",
       "      <td>Saskatchewan</td>\n",
       "      <td>Conservative</td>\n",
       "      <td>2.720941e+07</td>\n",
       "      <td>0.272094</td>\n",
       "    </tr>\n",
       "    <tr>\n",
       "      <th>64</th>\n",
       "      <td>2019</td>\n",
       "      <td>Yukon</td>\n",
       "      <td>Liberal</td>\n",
       "      <td>3.560671e+04</td>\n",
       "      <td>0.000356</td>\n",
       "    </tr>\n",
       "  </tbody>\n",
       "</table>\n",
       "<p>65 rows × 5 columns</p>\n",
       "</div>"
      ],
      "text/plain": [
       "    year                   province federal_party    co2_tonnes  emissions\n",
       "0   2015                    Alberta  Conservative  1.360464e+08   1.360464\n",
       "1   2015           British Columbia       Liberal  1.191452e+07   0.119145\n",
       "2   2015                   Manitoba  Conservative  1.490384e+06   0.014904\n",
       "3   2015              New Brunswick       Liberal  7.146915e+06   0.071469\n",
       "4   2015  Newfoundland and Labrador       Liberal  4.673263e+06   0.046733\n",
       "..   ...                        ...           ...           ...        ...\n",
       "60  2019                    Ontario       Liberal  4.049800e+07   0.404980\n",
       "61  2019       Prince Edward Island       Liberal  6.042595e+04   0.000604\n",
       "62  2019                     Quebec          Bloc  1.964496e+07   0.196450\n",
       "63  2019               Saskatchewan  Conservative  2.720941e+07   0.272094\n",
       "64  2019                      Yukon       Liberal  3.560671e+04   0.000356\n",
       "\n",
       "[65 rows x 5 columns]"
      ]
     },
     "execution_count": 69,
     "metadata": {},
     "output_type": "execute_result"
    }
   ],
   "source": [
    "new_carbon_df"
   ]
  },
  {
   "cell_type": "code",
   "execution_count": 96,
   "id": "d188ca71-82f3-4a7b-ab37-a11b8733a5c7",
   "metadata": {},
   "outputs": [
    {
     "data": {
      "text/html": [
       "<div>\n",
       "<style scoped>\n",
       "    .dataframe tbody tr th:only-of-type {\n",
       "        vertical-align: middle;\n",
       "    }\n",
       "\n",
       "    .dataframe tbody tr th {\n",
       "        vertical-align: top;\n",
       "    }\n",
       "\n",
       "    .dataframe thead th {\n",
       "        text-align: right;\n",
       "    }\n",
       "</style>\n",
       "<table border=\"1\" class=\"dataframe\">\n",
       "  <thead>\n",
       "    <tr style=\"text-align: right;\">\n",
       "      <th></th>\n",
       "      <th>emissions</th>\n",
       "    </tr>\n",
       "    <tr>\n",
       "      <th>year</th>\n",
       "      <th></th>\n",
       "    </tr>\n",
       "  </thead>\n",
       "  <tbody>\n",
       "    <tr>\n",
       "      <th>2015</th>\n",
       "      <td>2.485905</td>\n",
       "    </tr>\n",
       "    <tr>\n",
       "      <th>2016</th>\n",
       "      <td>2.487556</td>\n",
       "    </tr>\n",
       "    <tr>\n",
       "      <th>2017</th>\n",
       "      <td>2.717580</td>\n",
       "    </tr>\n",
       "    <tr>\n",
       "      <th>2018</th>\n",
       "      <td>2.734328</td>\n",
       "    </tr>\n",
       "    <tr>\n",
       "      <th>2019</th>\n",
       "      <td>2.735401</td>\n",
       "    </tr>\n",
       "  </tbody>\n",
       "</table>\n",
       "</div>"
      ],
      "text/plain": [
       "      emissions\n",
       "year           \n",
       "2015   2.485905\n",
       "2016   2.487556\n",
       "2017   2.717580\n",
       "2018   2.734328\n",
       "2019   2.735401"
      ]
     },
     "execution_count": 96,
     "metadata": {},
     "output_type": "execute_result"
    }
   ],
   "source": [
    "model_data = new_carbon_df.groupby('year').agg({'emissions': 'sum'})\n",
    "model_data"
   ]
  },
  {
   "cell_type": "code",
   "execution_count": 102,
   "id": "943e534a-63a8-416d-80a8-bdcdf7e2c32a",
   "metadata": {},
   "outputs": [],
   "source": [
    "x = np.array(model_data.index).reshape(-1,1)\n",
    "y = model_data.emissions\n",
    "model = LinearRegression().fit(x, y)"
   ]
  },
  {
   "cell_type": "code",
   "execution_count": 107,
   "id": "65457838-de98-441c-a48f-80804cda27b4",
   "metadata": {
    "tags": []
   },
   "outputs": [
    {
     "data": {
      "image/png": "[encoded data removed]",
      "text/plain": [
       "<Figure size 640x480 with 1 Axes>"
      ]
     },
     "metadata": {},
     "output_type": "display_data"
    }
   ],
   "source": [
    "#get predictions\n",
    "y_pred = model.predict(np.array([2015, 2016, 2017, 2018, 2019]).reshape(-1,1))\n",
    "\n",
    "#plot the actual vs predicted\n",
    "plt.scatter(x, y, color='blue', label='Data')  # Plot original data\n",
    "plt.plot(x, y_pred, color='red', label='Linear Regression')  # Plot regression line\n",
    "plt.xlabel('X')\n",
    "plt.ylabel('Y')\n",
    "plt.title('Simple Linear Regression')\n",
    "plt.legend()\n",
    "plt.show()"
   ]
  },
  {
   "cell_type": "code",
   "execution_count": 129,
   "id": "c074e00c-d136-41bb-abeb-62d36f57ae44",
   "metadata": {
    "tags": []
   },
   "outputs": [
    {
     "data": {
      "text/plain": [
       "0.0549142506006486"
      ]
     },
     "execution_count": 129,
     "metadata": {},
     "output_type": "execute_result"
    }
   ],
   "source": [
    "#inspect RMSE\n",
    "rmse = np.sqrt(mean_squared_error(y, y_pred))\n",
    "rmse"
   ]
  },
  {
   "cell_type": "markdown",
   "id": "dbf1c307-553d-4c3d-9399-a61bc082fa22",
   "metadata": {},
   "source": [
    "The RMSE is ~0.05, which means the average prediction error is about 5,000,000 tonnes of CO2. Considering our scale is in several hundreds of millions of tonnes, the model isn't too bad."
   ]
  }
 ],
 "metadata": {
  "kernelspec": {
   "display_name": "Python 3 (ipykernel)",
   "language": "python",
   "name": "python3"
  },
  "language_info": {
   "codemirror_mode": {
    "name": "ipython",
    "version": 3
   },
   "file_extension": ".py",
   "mimetype": "text/x-python",
   "name": "python",
   "nbconvert_exporter": "python",
   "pygments_lexer": "ipython3",
   "version": "3.11.5"
  }
 },
 "nbformat": 4,
 "nbformat_minor": 5
}
