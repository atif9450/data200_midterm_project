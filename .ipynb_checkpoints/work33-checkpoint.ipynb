{
 "cells": [
  {
   "cell_type": "code",
   "execution_count": null,
   "id": "fbf87109-810a-44a8-90ea-03cf7a94f9eb",
   "metadata": {},
   "outputs": [],
   "source": [
    "import pandas as pd\n",
    "import "
   ]
  },
  {
   "cell_type": "markdown",
   "id": "f30b6db3",
   "metadata": {},
   "source": [
    "# DATA 200 Midterm Project\n",
    "27th February 2024\n",
    "By Syed, Bone, Tharun, Cameron\n",
    "\n",
    "### Introduction\n",
    "This notebook contains the code for the data analysis and visualization of the Hansard dataset provided at https://www.lipad.ca/data/ and the greenhouse gas emissions dataset provided at https://www.kaggle.com/datasets/narimanissin94/greenhousegas-emissions-across-canada. The hansard dataset contains the transcripts of the Canadian Parliament from 1901 to 2019. The greenhouse gas emissions dataset contains the greenhouse gas emissions from 2004 to 2020. The goal of this project is to determine if the carbon tax policy in Canada has a significant impact on the reduction of greenhouse gas emissions.\n",
    "\n",
    "### Table of Contents\n",
    "1. [Data Cleaning](#Data-Cleaning)\n",
    "2. [Data Analysis](#Data-Analysis)\n",
    "3. [Data Visualization](#Data-Visualization)\n",
    "4. [Conclusion](#Conclusion)\n",
    "\n",
    "#### Does carbon tax policy in Canada have a significant impact on the reduction of greenhouse gas emissions?\n",
    "\n",
    "\n"
   ]
  }
 ],
 "metadata": {
  "kernelspec": {
   "display_name": "Python 3 (ipykernel)",
   "language": "python",
   "name": "python3"
  },
  "language_info": {
   "codemirror_mode": {
    "name": "ipython",
    "version": 3
   },
   "file_extension": ".py",
   "mimetype": "text/x-python",
   "name": "python",
   "nbconvert_exporter": "python",
   "pygments_lexer": "ipython3",
   "version": "3.11.5"
  }
 },
 "nbformat": 4,
 "nbformat_minor": 5
}
