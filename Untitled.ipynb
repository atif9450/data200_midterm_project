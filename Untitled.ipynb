{
 "cells": [
  {
   "cell_type": "code",
   "execution_count": 11,
   "id": "63770167-8640-468e-bfbb-7269ba3f54e8",
   "metadata": {
    "tags": []
   },
   "outputs": [],
   "source": [
    "import pandas as pd\n",
    "import os"
   ]
  },
  {
   "cell_type": "code",
   "execution_count": 16,
   "id": "e5c928b8-5455-430f-ac44-2daf3d18ea05",
   "metadata": {
    "tags": []
   },
   "outputs": [
    {
     "name": "stdout",
     "output_type": "stream",
     "text": [
      "<class 'pandas.core.frame.DataFrame'>\n",
      "RangeIndex: 63 entries, 0 to 62\n",
      "Data columns (total 15 columns):\n",
      " #   Column           Non-Null Count  Dtype  \n",
      "---  ------           --------------  -----  \n",
      " 0   basepk           63 non-null     int64  \n",
      " 1   hid              63 non-null     object \n",
      " 2   speechdate       63 non-null     object \n",
      " 3   pid              61 non-null     object \n",
      " 4   opid             61 non-null     float64\n",
      " 5   speakeroldname   61 non-null     object \n",
      " 6   speakerposition  2 non-null      object \n",
      " 7   maintopic        63 non-null     object \n",
      " 8   subtopic         63 non-null     object \n",
      " 9   subsubtopic      41 non-null     object \n",
      " 10  speechtext       63 non-null     object \n",
      " 11  speakerparty     61 non-null     object \n",
      " 12  speakerriding    61 non-null     object \n",
      " 13  speakername      61 non-null     object \n",
      " 14  speakerurl       61 non-null     object \n",
      "dtypes: float64(1), int64(1), object(13)\n",
      "memory usage: 7.5+ KB\n"
     ]
    }
   ],
   "source": [
    "df = pd.read_csv('2019/6/2019-6-10.csv')\n",
    "df.info()"
   ]
  },
  {
   "cell_type": "code",
   "execution_count": 14,
   "id": "7d643d2b-5e6a-46ea-b6ff-47496e0aa980",
   "metadata": {
    "tags": []
   },
   "outputs": [
    {
     "name": "stdout",
     "output_type": "stream",
     "text": [
      "2019-1-28.csv\n",
      "2019-1-29.csv\n",
      "2019-1-30.csv\n",
      "2019-1-31.csv\n"
     ]
    }
   ],
   "source": [
    "path = \"2019/1/\"\n",
    "files = os.listdir(path)\n",
    "for f in files:\n",
    "    df = pd.read_csv(path + f)\n",
    "    subtopics = df.subtopic.unique()\n",
    "    if \"Carbon Pricing\" in subtopics:\n",
    "        print(f)"
   ]
  },
  {
   "cell_type": "code",
   "execution_count": 17,
   "id": "78edfc69-75f3-47a5-a0d8-fd1cfc454d54",
   "metadata": {
    "tags": []
   },
   "outputs": [
    {
     "name": "stdout",
     "output_type": "stream",
     "text": [
      "['Liberal' 'New Democratic Party' 'Green Party' 'Conservative' nan]\n",
      "['Liberal' 'New Democratic Party' 'Conservative' 'Green Party' nan\n",
      " 'Bloc Québécois' 'Independent']\n",
      "['Liberal' 'Bloc Québécois' 'Conservative' 'New Democratic Party'\n",
      " 'Independent' nan 'Green Party']\n",
      "['Liberal' 'New Democratic Party' nan 'Conservative' 'Bloc Québécois'\n",
      " 'Green Party' 'Independent']\n",
      "[nan 'New Democratic Party' 'Liberal' 'Conservative' 'Independent'\n",
      " 'Bloc Québécois']\n",
      "[nan 'New Democratic Party' 'Liberal' 'Conservative' 'Bloc Québécois'\n",
      " 'Independent']\n",
      "['Liberal' nan 'Conservative' 'New Democratic Party' 'Green Party'\n",
      " 'Bloc Québécois' 'Independent']\n",
      "['Liberal' 'Bloc Québécois' 'Conservative' 'New Democratic Party' nan]\n",
      "['Liberal' nan 'Conservative' 'New Democratic Party' 'Independent'\n",
      " 'Bloc Québécois' 'Green Party']\n",
      "['New Democratic Party' 'Liberal' 'Conservative' nan 'Bloc Québécois'\n",
      " 'Independent']\n",
      "[nan 'Conservative' 'New Democratic Party' 'Green Party' 'Liberal'\n",
      " 'Bloc Québécois' 'Independent']\n",
      "['Liberal' 'Bloc Québécois' 'Conservative' 'New Democratic Party' nan\n",
      " 'Green Party' 'Independent']\n",
      "['Liberal' 'Conservative' 'New Democratic Party' nan 'Green Party'\n",
      " 'Bloc Québécois' 'Independent']\n",
      "[nan 'Conservative' 'Liberal' 'New Democratic Party' 'Bloc Québécois']\n"
     ]
    }
   ],
   "source": [
    "path = \"2019/2/\"\n",
    "files = os.listdir(path)\n",
    "for f in files:\n",
    "    df = pd.read_csv(path + f)\n",
    "    print(df.speakerparty.unique())"
   ]
  }
 ],
 "metadata": {
  "kernelspec": {
   "display_name": "Python 3 (ipykernel)",
   "language": "python",
   "name": "python3"
  },
  "language_info": {
   "codemirror_mode": {
    "name": "ipython",
    "version": 3
   },
   "file_extension": ".py",
   "mimetype": "text/x-python",
   "name": "python",
   "nbconvert_exporter": "python",
   "pygments_lexer": "ipython3",
   "version": "3.11.5"
  }
 },
 "nbformat": 4,
 "nbformat_minor": 5
}
