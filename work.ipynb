{
 "cells": [
  {
   "cell_type": "code",
   "execution_count": 1,
   "id": "63770167-8640-468e-bfbb-7269ba3f54e8",
   "metadata": {
    "tags": []
   },
   "outputs": [],
   "source": [
    "import pandas as pd\n",
    "import numpy as np\n",
    "import matplotlib.pyplot as plt\n",
    "import seaborn as sns\n",
    "import geopandas as gpd"
   ]
  },
  {
   "cell_type": "markdown",
   "id": "b896f6b0-a76e-4b15-8d1a-94fb082a48eb",
   "metadata": {},
   "source": [
    "<h1>Carbon Emissions Dataset</h1>"
   ]
  },
  {
   "cell_type": "code",
   "execution_count": 2,
   "id": "c737f95b-7ecd-41e4-b43e-eb0fa6b4dd5d",
   "metadata": {
    "tags": []
   },
   "outputs": [
    {
     "data": {
      "text/html": [
       "<div>\n",
       "<style scoped>\n",
       "    .dataframe tbody tr th:only-of-type {\n",
       "        vertical-align: middle;\n",
       "    }\n",
       "\n",
       "    .dataframe tbody tr th {\n",
       "        vertical-align: top;\n",
       "    }\n",
       "\n",
       "    .dataframe thead th {\n",
       "        text-align: right;\n",
       "    }\n",
       "</style>\n",
       "<table border=\"1\" class=\"dataframe\">\n",
       "  <thead>\n",
       "    <tr style=\"text-align: right;\">\n",
       "      <th></th>\n",
       "      <th>GHGRP ID / Numéro d'identification de PDGES</th>\n",
       "      <th>Reference Year / Année de référence</th>\n",
       "      <th>Facility Name / Nom de l'installation</th>\n",
       "      <th>Facility Location / Emplacement de l'installation</th>\n",
       "      <th>Facility City or District or Municipality / Ville ou District ou Municipalité de l'installation</th>\n",
       "      <th>Facility Province or Territory / Province ou territoire de l'installation</th>\n",
       "      <th>Facility Postal Code / Code postal de l'installation</th>\n",
       "      <th>Latitude</th>\n",
       "      <th>Longitude</th>\n",
       "      <th>Facility NPRI ID / Numéro d'identification de l'INRP</th>\n",
       "      <th>...</th>\n",
       "      <th>C4F8 (tonnes)</th>\n",
       "      <th>C4F8 (tonnes CO2e / tonnes éq. CO2)</th>\n",
       "      <th>C5F12 (tonnes)</th>\n",
       "      <th>C5F12 (tonnes CO2e / tonnes éq. CO2)</th>\n",
       "      <th>C6F14 (tonnes)</th>\n",
       "      <th>C6F14 (tonnes CO2e / tonnes éq. CO2)</th>\n",
       "      <th>PFC Total (tonnes CO2e / tonnes éq. CO2)</th>\n",
       "      <th>SF6 (tonnes)</th>\n",
       "      <th>SF6 (tonnes CO2e / tonnes éq. CO2)</th>\n",
       "      <th>Total Emissions (tonnes CO2e) / Émissions totales (tonnes éq. CO2)</th>\n",
       "    </tr>\n",
       "  </thead>\n",
       "  <tbody>\n",
       "    <tr>\n",
       "      <th>0</th>\n",
       "      <td>G10001</td>\n",
       "      <td>2020</td>\n",
       "      <td>Division Alma</td>\n",
       "      <td>1100 Melanion Street</td>\n",
       "      <td>Alma</td>\n",
       "      <td>Quebec</td>\n",
       "      <td>G8B 5W2</td>\n",
       "      <td>48.56500</td>\n",
       "      <td>-71.65556</td>\n",
       "      <td>983.0</td>\n",
       "      <td>...</td>\n",
       "      <td>0.0</td>\n",
       "      <td>0.0</td>\n",
       "      <td>0</td>\n",
       "      <td>0</td>\n",
       "      <td>0</td>\n",
       "      <td>0</td>\n",
       "      <td>0.0</td>\n",
       "      <td>NaN</td>\n",
       "      <td>NaN</td>\n",
       "      <td>7.779969e+04</td>\n",
       "    </tr>\n",
       "    <tr>\n",
       "      <th>1</th>\n",
       "      <td>G10003</td>\n",
       "      <td>2020</td>\n",
       "      <td>Foothills Pipeline, Alberta</td>\n",
       "      <td>NaN</td>\n",
       "      <td>Airdrie</td>\n",
       "      <td>Alberta</td>\n",
       "      <td>T4A 2G7</td>\n",
       "      <td>NaN</td>\n",
       "      <td>NaN</td>\n",
       "      <td>NaN</td>\n",
       "      <td>...</td>\n",
       "      <td>0.0</td>\n",
       "      <td>0.0</td>\n",
       "      <td>0</td>\n",
       "      <td>0</td>\n",
       "      <td>0</td>\n",
       "      <td>0</td>\n",
       "      <td>0.0</td>\n",
       "      <td>NaN</td>\n",
       "      <td>NaN</td>\n",
       "      <td>2.878482e+05</td>\n",
       "    </tr>\n",
       "    <tr>\n",
       "      <th>2</th>\n",
       "      <td>G10004</td>\n",
       "      <td>2020</td>\n",
       "      <td>Kingston CoGen</td>\n",
       "      <td>5146 Taylor-Kidd Boulevard</td>\n",
       "      <td>Bath</td>\n",
       "      <td>Ontario</td>\n",
       "      <td>K0H 1G0</td>\n",
       "      <td>44.20950</td>\n",
       "      <td>-76.72460</td>\n",
       "      <td>5765.0</td>\n",
       "      <td>...</td>\n",
       "      <td>0.0</td>\n",
       "      <td>0.0</td>\n",
       "      <td>0</td>\n",
       "      <td>0</td>\n",
       "      <td>0</td>\n",
       "      <td>0</td>\n",
       "      <td>0.0</td>\n",
       "      <td>NaN</td>\n",
       "      <td>NaN</td>\n",
       "      <td>3.237168e+02</td>\n",
       "    </tr>\n",
       "    <tr>\n",
       "      <th>3</th>\n",
       "      <td>G10006</td>\n",
       "      <td>2020</td>\n",
       "      <td>Redwater Fertilizer Operations</td>\n",
       "      <td>56225 SH643</td>\n",
       "      <td>Sturgeon County</td>\n",
       "      <td>Alberta</td>\n",
       "      <td>T0A 2W0</td>\n",
       "      <td>53.84200</td>\n",
       "      <td>-113.09300</td>\n",
       "      <td>2134.0</td>\n",
       "      <td>...</td>\n",
       "      <td>0.0</td>\n",
       "      <td>0.0</td>\n",
       "      <td>0</td>\n",
       "      <td>0</td>\n",
       "      <td>0</td>\n",
       "      <td>0</td>\n",
       "      <td>0.0</td>\n",
       "      <td>NaN</td>\n",
       "      <td>NaN</td>\n",
       "      <td>1.091022e+06</td>\n",
       "    </tr>\n",
       "    <tr>\n",
       "      <th>4</th>\n",
       "      <td>G10007</td>\n",
       "      <td>2020</td>\n",
       "      <td>Alberta Envirofuels</td>\n",
       "      <td>9511 17 Street Northwest</td>\n",
       "      <td>Edmonton</td>\n",
       "      <td>Alberta</td>\n",
       "      <td>T6P 1Y3</td>\n",
       "      <td>53.53199</td>\n",
       "      <td>-113.36492</td>\n",
       "      <td>3974.0</td>\n",
       "      <td>...</td>\n",
       "      <td>0.0</td>\n",
       "      <td>0.0</td>\n",
       "      <td>0</td>\n",
       "      <td>0</td>\n",
       "      <td>0</td>\n",
       "      <td>0</td>\n",
       "      <td>0.0</td>\n",
       "      <td>NaN</td>\n",
       "      <td>NaN</td>\n",
       "      <td>3.016439e+05</td>\n",
       "    </tr>\n",
       "  </tbody>\n",
       "</table>\n",
       "<p>5 rows × 77 columns</p>\n",
       "</div>"
      ],
      "text/plain": [
       "  GHGRP ID / Numéro d'identification de PDGES  \\\n",
       "0                                      G10001   \n",
       "1                                      G10003   \n",
       "2                                      G10004   \n",
       "3                                      G10006   \n",
       "4                                      G10007   \n",
       "\n",
       "   Reference Year / Année de référence Facility Name / Nom de l'installation  \\\n",
       "0                                 2020                         Division Alma   \n",
       "1                                 2020           Foothills Pipeline, Alberta   \n",
       "2                                 2020                        Kingston CoGen   \n",
       "3                                 2020        Redwater Fertilizer Operations   \n",
       "4                                 2020                   Alberta Envirofuels   \n",
       "\n",
       "  Facility Location / Emplacement de l'installation  \\\n",
       "0                              1100 Melanion Street   \n",
       "1                                               NaN   \n",
       "2                        5146 Taylor-Kidd Boulevard   \n",
       "3                                       56225 SH643   \n",
       "4                          9511 17 Street Northwest   \n",
       "\n",
       "  Facility City or District or Municipality / Ville ou District ou Municipalité de l'installation  \\\n",
       "0                                               Alma                                                \n",
       "1                                            Airdrie                                                \n",
       "2                                               Bath                                                \n",
       "3                                    Sturgeon County                                                \n",
       "4                                           Edmonton                                                \n",
       "\n",
       "  Facility Province or Territory / Province ou territoire de l'installation  \\\n",
       "0                                             Quebec                          \n",
       "1                                            Alberta                          \n",
       "2                                            Ontario                          \n",
       "3                                            Alberta                          \n",
       "4                                            Alberta                          \n",
       "\n",
       "  Facility Postal Code / Code postal de l'installation  Latitude  Longitude  \\\n",
       "0                                            G8B 5W2    48.56500  -71.65556   \n",
       "1                                            T4A 2G7         NaN        NaN   \n",
       "2                                            K0H 1G0    44.20950  -76.72460   \n",
       "3                                            T0A 2W0    53.84200 -113.09300   \n",
       "4                                            T6P 1Y3    53.53199 -113.36492   \n",
       "\n",
       "   Facility NPRI ID / Numéro d'identification de l'INRP  ...  C4F8 (tonnes)  \\\n",
       "0                                              983.0     ...            0.0   \n",
       "1                                                NaN     ...            0.0   \n",
       "2                                             5765.0     ...            0.0   \n",
       "3                                             2134.0     ...            0.0   \n",
       "4                                             3974.0     ...            0.0   \n",
       "\n",
       "  C4F8 (tonnes CO2e / tonnes éq. CO2) C5F12 (tonnes)  \\\n",
       "0                                 0.0              0   \n",
       "1                                 0.0              0   \n",
       "2                                 0.0              0   \n",
       "3                                 0.0              0   \n",
       "4                                 0.0              0   \n",
       "\n",
       "  C5F12 (tonnes CO2e / tonnes éq. CO2) C6F14 (tonnes)  \\\n",
       "0                                    0              0   \n",
       "1                                    0              0   \n",
       "2                                    0              0   \n",
       "3                                    0              0   \n",
       "4                                    0              0   \n",
       "\n",
       "   C6F14 (tonnes CO2e / tonnes éq. CO2)  \\\n",
       "0                                     0   \n",
       "1                                     0   \n",
       "2                                     0   \n",
       "3                                     0   \n",
       "4                                     0   \n",
       "\n",
       "   PFC Total (tonnes CO2e / tonnes éq. CO2) SF6 (tonnes)  \\\n",
       "0                                       0.0          NaN   \n",
       "1                                       0.0          NaN   \n",
       "2                                       0.0          NaN   \n",
       "3                                       0.0          NaN   \n",
       "4                                       0.0          NaN   \n",
       "\n",
       "  SF6 (tonnes CO2e / tonnes éq. CO2)  \\\n",
       "0                                NaN   \n",
       "1                                NaN   \n",
       "2                                NaN   \n",
       "3                                NaN   \n",
       "4                                NaN   \n",
       "\n",
       "   Total Emissions (tonnes CO2e) / Émissions totales (tonnes éq. CO2)  \n",
       "0                                       7.779969e+04                   \n",
       "1                                       2.878482e+05                   \n",
       "2                                       3.237168e+02                   \n",
       "3                                       1.091022e+06                   \n",
       "4                                       3.016439e+05                   \n",
       "\n",
       "[5 rows x 77 columns]"
      ]
     },
     "execution_count": 2,
     "metadata": {},
     "output_type": "execute_result"
    }
   ],
   "source": [
    "#load ghg dataset\n",
    "carbon_df = pd.read_csv('PDGES-GHGRP-GHGEmissionsGES-2004-Present (1).csv', encoding='latin-1')\n",
    "carbon_df.head()"
   ]
  },
  {
   "cell_type": "code",
   "execution_count": 3,
   "id": "75d23ed9-b2fe-4109-9f01-a6864c486916",
   "metadata": {
    "tags": []
   },
   "outputs": [
    {
     "name": "stdout",
     "output_type": "stream",
     "text": [
      "<class 'pandas.core.frame.DataFrame'>\n",
      "RangeIndex: 13093 entries, 0 to 13092\n",
      "Data columns (total 77 columns):\n",
      " #   Column                                                                                                                           Non-Null Count  Dtype  \n",
      "---  ------                                                                                                                           --------------  -----  \n",
      " 0   GHGRP ID / Numéro d'identification de PDGES                                                                                      13093 non-null  object \n",
      " 1   Reference Year / Année de référence                                                                                              13093 non-null  int64  \n",
      " 2   Facility Name / Nom de l'installation                                                                                            13093 non-null  object \n",
      " 3   Facility Location / Emplacement de l'installation                                                                                9770 non-null   object \n",
      " 4   Facility City or District or Municipality / Ville ou District ou Municipalité de l'installation                                  11841 non-null  object \n",
      " 5   Facility Province or Territory / Province ou territoire de l'installation                                                        13093 non-null  object \n",
      " 6   Facility Postal Code / Code postal de l'installation                                                                             10274 non-null  object \n",
      " 7   Latitude                                                                                                                         9679 non-null   float64\n",
      " 8   Longitude                                                                                                                        9680 non-null   float64\n",
      " 9   Facility NPRI ID / Numéro d'identification de l'INRP                                                                             11955 non-null  float64\n",
      " 10  Facility NAICS Code / Code SCIAN de l'installation                                                                               13093 non-null  int64  \n",
      " 11  English Facility NAICS Code Description / Description du code SCIAN de l'installation en anglais                                 13093 non-null  object \n",
      " 12  French Facility NAICS Code Description / Description du code SCIAN de l'installation en français                                 13090 non-null  object \n",
      " 13  Reporting Company Legal Name / Dénomination sociale de la société déclarante                                                     13093 non-null  object \n",
      " 14  Reporting Company Trade Name / Nom commercial de la société déclarante                                                           8043 non-null   object \n",
      " 15  Reporting Company Business Number / Numéro d'entreprise de la société déclarante                                                 11980 non-null  float64\n",
      " 16  DUNS Number / Numéro DUNS                                                                                                        9410 non-null   float64\n",
      " 17  Public Contact Name / Nom du responsable des renseignements au public                                                            13093 non-null  object \n",
      " 18  Public Contact Position / Poste ou Titre du responsable des renseignements au public                                             8097 non-null   object \n",
      " 19  Public Contact Telephone / Numéro de téléphone du responsable des renseignements au public                                       6978 non-null   float64\n",
      " 20  Public Contact Extension / Poste téléphonique du responsable des renseignements au public                                        1976 non-null   float64\n",
      " 21  Public Contact Email / Adresse électronique du responsable des renseignements au public                                          8169 non-null   object \n",
      " 22  Public Contact Mailing Address / Adresse postale du responsable des renseignements au public                                     7176 non-null   object \n",
      " 23  Public Contact City or District or Municipality / Ville ou District ou Municipalité du responsable des renseignements au public  7504 non-null   object \n",
      " 24  Public Contact Province or Territory / Province ou Territoire du responsable des renseignements au public                        8166 non-null   object \n",
      " 25  Public Contact Postal Code / Code postal du responsable des renseignement au public                                              7501 non-null   object \n",
      " 26  CO2 (tonnes)                                                                                                                     12871 non-null  float64\n",
      " 27  CO2 (tonnes CO2e / tonnes éq. CO2)                                                                                               12871 non-null  float64\n",
      " 28  CH4 (tonnes)                                                                                                                     12905 non-null  float64\n",
      " 29  CH4 (tonnes CO2e / tonnes éq. CO2)                                                                                               12905 non-null  float64\n",
      " 30  N2O (tonnes)                                                                                                                     12643 non-null  float64\n",
      " 31  N2O (tonnes CO2e / tonnes éq. CO2)                                                                                               12643 non-null  float64\n",
      " 32  HFC-23 (tonnes)                                                                                                                  13093 non-null  float64\n",
      " 33   HFC-23 (tonnes CO2e / tonnes éq. CO2)                                                                                           13093 non-null  float64\n",
      " 34  HFC-32 (tonnes)                                                                                                                  13093 non-null  float64\n",
      " 35  HFC-32 (tonnes CO2e / tonnes éq. CO2)                                                                                            13093 non-null  float64\n",
      " 36  HFC-125 (tonnes)                                                                                                                 13093 non-null  float64\n",
      " 37  HFC-125 (tonnes CO2e / tonnes éq. CO2)                                                                                           13093 non-null  float64\n",
      " 38  HFC-134a (tonnes)                                                                                                                13093 non-null  float64\n",
      " 39  HFC-134a (tonnes CO2e / tonnes éq. CO2)                                                                                          13093 non-null  float64\n",
      " 40  HFC-143a (tonnes)                                                                                                                13093 non-null  float64\n",
      " 41  HFC-143a (tonnes CO2e / tonnes éq. CO2)                                                                                          13093 non-null  float64\n",
      " 42  HFC-152a (tonnes)                                                                                                                13093 non-null  float64\n",
      " 43  HFC-152a (tonnes CO2e / tonnes éq. CO2)                                                                                          13093 non-null  float64\n",
      " 44  HFC-41 (tonnes)                                                                                                                  13093 non-null  float64\n",
      " 45  HFC-41 (tonnes CO2e / tonnes éq. CO2)                                                                                            13093 non-null  float64\n",
      " 46  HFC-43-10mee (tonnes)                                                                                                            13093 non-null  float64\n",
      " 47  HFC-43-10mee (tonnes CO2e / tonnes éq. CO2)                                                                                      13093 non-null  float64\n",
      " 48  HFC-134 (tonnes)                                                                                                                 13093 non-null  float64\n",
      " 49  HFC-134 (tonnes CO2e / tonnes éq. CO2)                                                                                           13093 non-null  float64\n",
      " 50  HFC-143 (tonnes)                                                                                                                 13093 non-null  float64\n",
      " 51  HFC-143 (tonnes CO2e / tonnes éq. CO2)                                                                                           13093 non-null  float64\n",
      " 52  HFC-227ea (tonnes)                                                                                                               13093 non-null  float64\n",
      " 53  HFC-227ea (tonnes CO2e / tonnes éq. CO2)                                                                                         13093 non-null  float64\n",
      " 54  HFC-236fa (tonnes)                                                                                                               13093 non-null  int64  \n",
      " 55  HFC-236fa (tonnes CO2e / tonnes éq. CO2)                                                                                         13093 non-null  int64  \n",
      " 56  HFC-245ca (tonnes)                                                                                                               13093 non-null  float64\n",
      " 57  HFC-245ca (tonnes CO2e / tonnes éq. CO2)                                                                                         13093 non-null  float64\n",
      " 58  HFC Total (tonnes CO2e / tonnes éq. CO2)                                                                                         13092 non-null  float64\n",
      " 59  CF4 (tonnes)                                                                                                                     13093 non-null  float64\n",
      " 60  CF4 (tonnes CO2e / tonnes éq. CO2)                                                                                               13093 non-null  float64\n",
      " 61  C2F6 (tonnes)                                                                                                                    13093 non-null  float64\n",
      " 62  C2F6 (tonnes CO2e / tonnes éq. CO2)                                                                                              13093 non-null  float64\n",
      " 63  C3F8 (tonnes)                                                                                                                    13093 non-null  int64  \n",
      " 64  C3F8 (tonnes CO2e / tonnes éq. CO2)                                                                                              13093 non-null  int64  \n",
      " 65  C4F10 (tonnes)                                                                                                                   13093 non-null  int64  \n",
      " 66  C4F10 (tonnes CO2e / tonnes éq. CO2)                                                                                             13093 non-null  int64  \n",
      " 67  C4F8 (tonnes)                                                                                                                    13093 non-null  float64\n",
      " 68  C4F8 (tonnes CO2e / tonnes éq. CO2)                                                                                              13093 non-null  float64\n",
      " 69  C5F12 (tonnes)                                                                                                                   13093 non-null  int64  \n",
      " 70  C5F12 (tonnes CO2e / tonnes éq. CO2)                                                                                             13093 non-null  int64  \n",
      " 71  C6F14 (tonnes)                                                                                                                   13093 non-null  int64  \n",
      " 72  C6F14 (tonnes CO2e / tonnes éq. CO2)                                                                                             13093 non-null  int64  \n",
      " 73  PFC Total (tonnes CO2e / tonnes éq. CO2)                                                                                         13092 non-null  float64\n",
      " 74  SF6 (tonnes)                                                                                                                     3433 non-null   float64\n",
      " 75  SF6 (tonnes CO2e / tonnes éq. CO2)                                                                                               3433 non-null   float64\n",
      " 76  Total Emissions (tonnes CO2e) / Émissions totales (tonnes éq. CO2)                                                               13093 non-null  float64\n",
      "dtypes: float64(48), int64(12), object(17)\n",
      "memory usage: 7.7+ MB\n"
     ]
    }
   ],
   "source": [
    "#get summarized info\n",
    "carbon_df.info()"
   ]
  },
  {
   "cell_type": "code",
   "execution_count": 4,
   "id": "353261db-00fb-4f14-9205-78780819314a",
   "metadata": {
    "tags": []
   },
   "outputs": [],
   "source": [
    "#only take years from 2014 to 2019 (inclusive)\n",
    "carbon_df = carbon_df[(carbon_df['Reference Year / Année de référence'] >= 2015) & (carbon_df['Reference Year / Année de référence'] <= 2019)]"
   ]
  },
  {
   "cell_type": "code",
   "execution_count": 5,
   "id": "535eb859-8b1c-4b2e-986d-5e01fc09481e",
   "metadata": {
    "tags": []
   },
   "outputs": [
    {
     "data": {
      "text/html": [
       "<div>\n",
       "<style scoped>\n",
       "    .dataframe tbody tr th:only-of-type {\n",
       "        vertical-align: middle;\n",
       "    }\n",
       "\n",
       "    .dataframe tbody tr th {\n",
       "        vertical-align: top;\n",
       "    }\n",
       "\n",
       "    .dataframe thead th {\n",
       "        text-align: right;\n",
       "    }\n",
       "</style>\n",
       "<table border=\"1\" class=\"dataframe\">\n",
       "  <thead>\n",
       "    <tr style=\"text-align: right;\">\n",
       "      <th></th>\n",
       "      <th>Reference Year / Année de référence</th>\n",
       "      <th>Facility Province or Territory / Province ou territoire de l'installation</th>\n",
       "      <th>CO2 (tonnes)</th>\n",
       "    </tr>\n",
       "  </thead>\n",
       "  <tbody>\n",
       "    <tr>\n",
       "      <th>1703</th>\n",
       "      <td>2019</td>\n",
       "      <td>Quebec</td>\n",
       "      <td>7.143435e+04</td>\n",
       "    </tr>\n",
       "    <tr>\n",
       "      <th>1704</th>\n",
       "      <td>2019</td>\n",
       "      <td>Alberta</td>\n",
       "      <td>3.740449e+05</td>\n",
       "    </tr>\n",
       "    <tr>\n",
       "      <th>1705</th>\n",
       "      <td>2019</td>\n",
       "      <td>Ontario</td>\n",
       "      <td>9.745530e+02</td>\n",
       "    </tr>\n",
       "    <tr>\n",
       "      <th>1706</th>\n",
       "      <td>2019</td>\n",
       "      <td>Alberta</td>\n",
       "      <td>1.143131e+06</td>\n",
       "    </tr>\n",
       "    <tr>\n",
       "      <th>1707</th>\n",
       "      <td>2019</td>\n",
       "      <td>Alberta</td>\n",
       "      <td>2.648890e+05</td>\n",
       "    </tr>\n",
       "  </tbody>\n",
       "</table>\n",
       "</div>"
      ],
      "text/plain": [
       "      Reference Year / Année de référence  \\\n",
       "1703                                 2019   \n",
       "1704                                 2019   \n",
       "1705                                 2019   \n",
       "1706                                 2019   \n",
       "1707                                 2019   \n",
       "\n",
       "     Facility Province or Territory / Province ou territoire de l'installation  \\\n",
       "1703                                             Quebec                          \n",
       "1704                                            Alberta                          \n",
       "1705                                            Ontario                          \n",
       "1706                                            Alberta                          \n",
       "1707                                            Alberta                          \n",
       "\n",
       "      CO2 (tonnes)  \n",
       "1703  7.143435e+04  \n",
       "1704  3.740449e+05  \n",
       "1705  9.745530e+02  \n",
       "1706  1.143131e+06  \n",
       "1707  2.648890e+05  "
      ]
     },
     "execution_count": 5,
     "metadata": {},
     "output_type": "execute_result"
    }
   ],
   "source": [
    "#select relevant columns\n",
    "carbon_df = carbon_df.iloc[:,[1,5,26]]\n",
    "carbon_df.head()"
   ]
  },
  {
   "cell_type": "code",
   "execution_count": 6,
   "id": "de8bee38-fb9f-4821-b326-76a104098a12",
   "metadata": {
    "tags": []
   },
   "outputs": [
    {
     "data": {
      "text/html": [
       "<div>\n",
       "<style scoped>\n",
       "    .dataframe tbody tr th:only-of-type {\n",
       "        vertical-align: middle;\n",
       "    }\n",
       "\n",
       "    .dataframe tbody tr th {\n",
       "        vertical-align: top;\n",
       "    }\n",
       "\n",
       "    .dataframe thead th {\n",
       "        text-align: right;\n",
       "    }\n",
       "</style>\n",
       "<table border=\"1\" class=\"dataframe\">\n",
       "  <thead>\n",
       "    <tr style=\"text-align: right;\">\n",
       "      <th></th>\n",
       "      <th>year</th>\n",
       "      <th>province</th>\n",
       "      <th>co2_tonnes</th>\n",
       "    </tr>\n",
       "  </thead>\n",
       "  <tbody>\n",
       "    <tr>\n",
       "      <th>1703</th>\n",
       "      <td>2019</td>\n",
       "      <td>Quebec</td>\n",
       "      <td>7.143435e+04</td>\n",
       "    </tr>\n",
       "    <tr>\n",
       "      <th>1704</th>\n",
       "      <td>2019</td>\n",
       "      <td>Alberta</td>\n",
       "      <td>3.740449e+05</td>\n",
       "    </tr>\n",
       "    <tr>\n",
       "      <th>1705</th>\n",
       "      <td>2019</td>\n",
       "      <td>Ontario</td>\n",
       "      <td>9.745530e+02</td>\n",
       "    </tr>\n",
       "    <tr>\n",
       "      <th>1706</th>\n",
       "      <td>2019</td>\n",
       "      <td>Alberta</td>\n",
       "      <td>1.143131e+06</td>\n",
       "    </tr>\n",
       "    <tr>\n",
       "      <th>1707</th>\n",
       "      <td>2019</td>\n",
       "      <td>Alberta</td>\n",
       "      <td>2.648890e+05</td>\n",
       "    </tr>\n",
       "  </tbody>\n",
       "</table>\n",
       "</div>"
      ],
      "text/plain": [
       "      year province    co2_tonnes\n",
       "1703  2019   Quebec  7.143435e+04\n",
       "1704  2019  Alberta  3.740449e+05\n",
       "1705  2019  Ontario  9.745530e+02\n",
       "1706  2019  Alberta  1.143131e+06\n",
       "1707  2019  Alberta  2.648890e+05"
      ]
     },
     "execution_count": 6,
     "metadata": {},
     "output_type": "execute_result"
    }
   ],
   "source": [
    "#rename columns for ease\n",
    "carbon_df = carbon_df.rename(columns={\"Reference Year / Année de référence\": \"year\",\n",
    "                                     \"Facility Province or Territory / Province ou territoire de l'installation\": \"province\",\n",
    "                                     \"CO2 (tonnes)\": \"co2_tonnes\"})\n",
    "carbon_df.head()"
   ]
  },
  {
   "cell_type": "code",
   "execution_count": 7,
   "id": "4a826620-f2a2-4b12-b245-897555d5e1f0",
   "metadata": {
    "tags": []
   },
   "outputs": [
    {
     "data": {
      "text/html": [
       "<div>\n",
       "<style scoped>\n",
       "    .dataframe tbody tr th:only-of-type {\n",
       "        vertical-align: middle;\n",
       "    }\n",
       "\n",
       "    .dataframe tbody tr th {\n",
       "        vertical-align: top;\n",
       "    }\n",
       "\n",
       "    .dataframe thead th {\n",
       "        text-align: right;\n",
       "    }\n",
       "</style>\n",
       "<table border=\"1\" class=\"dataframe\">\n",
       "  <thead>\n",
       "    <tr style=\"text-align: right;\">\n",
       "      <th></th>\n",
       "      <th>year</th>\n",
       "      <th>province</th>\n",
       "      <th>co2_tonnes</th>\n",
       "      <th>federal_party</th>\n",
       "    </tr>\n",
       "  </thead>\n",
       "  <tbody>\n",
       "    <tr>\n",
       "      <th>1703</th>\n",
       "      <td>2019</td>\n",
       "      <td>Quebec</td>\n",
       "      <td>7.143435e+04</td>\n",
       "      <td>Bloc</td>\n",
       "    </tr>\n",
       "    <tr>\n",
       "      <th>1704</th>\n",
       "      <td>2019</td>\n",
       "      <td>Alberta</td>\n",
       "      <td>3.740449e+05</td>\n",
       "      <td>Conservative</td>\n",
       "    </tr>\n",
       "    <tr>\n",
       "      <th>1705</th>\n",
       "      <td>2019</td>\n",
       "      <td>Ontario</td>\n",
       "      <td>9.745530e+02</td>\n",
       "      <td>Liberal</td>\n",
       "    </tr>\n",
       "    <tr>\n",
       "      <th>1706</th>\n",
       "      <td>2019</td>\n",
       "      <td>Alberta</td>\n",
       "      <td>1.143131e+06</td>\n",
       "      <td>Conservative</td>\n",
       "    </tr>\n",
       "    <tr>\n",
       "      <th>1707</th>\n",
       "      <td>2019</td>\n",
       "      <td>Alberta</td>\n",
       "      <td>2.648890e+05</td>\n",
       "      <td>Conservative</td>\n",
       "    </tr>\n",
       "  </tbody>\n",
       "</table>\n",
       "</div>"
      ],
      "text/plain": [
       "      year province    co2_tonnes federal_party\n",
       "1703  2019   Quebec  7.143435e+04          Bloc\n",
       "1704  2019  Alberta  3.740449e+05  Conservative\n",
       "1705  2019  Ontario  9.745530e+02       Liberal\n",
       "1706  2019  Alberta  1.143131e+06  Conservative\n",
       "1707  2019  Alberta  2.648890e+05  Conservative"
      ]
     },
     "execution_count": 7,
     "metadata": {},
     "output_type": "execute_result"
    }
   ],
   "source": [
    "#fill in which federal party ruled each province in different years\n",
    "carbon_df[\"federal_party\"] = [\"a\"]*len(carbon_df.year)\n",
    "\n",
    "carbon_df.loc[carbon_df.province == \"Alberta\", \"federal_party\"] = \"Conservative\"\n",
    "\n",
    "carbon_df.loc[carbon_df.province == \"Ontario\", \"federal_party\"] = \"Liberal\"\n",
    "\n",
    "carbon_df.loc[(carbon_df.province == \"Quebec\") & (carbon_df.year >= 2015), \"federal_party\"] = \"Liberal\"\n",
    "carbon_df.loc[(carbon_df.province == \"Quebec\") & (carbon_df.year == 2019), \"federal_party\"] = \"Bloc\"\n",
    "\n",
    "carbon_df.loc[carbon_df.province == \"British Columbia\", \"federal_party\"] = \"Liberal\"\n",
    "\n",
    "carbon_df.loc[(carbon_df.province == \"New Brunswick\") & (carbon_df.year >= 2015), \"federal_party\"] = \"Liberal\"\n",
    "carbon_df.loc[(carbon_df.province == \"New Brunswick\") & (carbon_df.year == 2019), \"federal_party\"] = \"Conservative\"\n",
    "\n",
    "carbon_df.loc[carbon_df.province == \"Saskatchewan\", \"federal_party\"] = \"Conservative\"\n",
    "\n",
    "carbon_df.loc[carbon_df.province == \"Manitoba\", \"federal_party\"] = \"Conservative\"\n",
    "\n",
    "carbon_df.loc[carbon_df.province == \"Nova Scotia\", \"federal_party\"] = \"Liberal\"\n",
    "\n",
    "carbon_df.loc[carbon_df.province == \"Newfoundland and Labrador\", \"federal_party\"] = \"Liberal\"\n",
    "\n",
    "carbon_df.loc[carbon_df.province == \"Prince Edward Island\", \"federal_party\"] = \"Liberal\"\n",
    "\n",
    "carbon_df.loc[carbon_df.province == \"Yukon\", \"federal_party\"] = \"Liberal\"\n",
    "\n",
    "carbon_df.loc[carbon_df.province == \"Northwest Territories\", \"federal_party\"] = \"Liberal\"\n",
    "\n",
    "carbon_df.loc[carbon_df.province == \"Nunavut\", \"federal_party\"] = \"NDP\"\n",
    "\n",
    "carbon_df.head()"
   ]
  },
  {
   "cell_type": "code",
   "execution_count": 8,
   "id": "972450f3-aba6-45bf-a5de-15a9dac9191c",
   "metadata": {
    "tags": []
   },
   "outputs": [
    {
     "data": {
      "text/html": [
       "<div>\n",
       "<style scoped>\n",
       "    .dataframe tbody tr th:only-of-type {\n",
       "        vertical-align: middle;\n",
       "    }\n",
       "\n",
       "    .dataframe tbody tr th {\n",
       "        vertical-align: top;\n",
       "    }\n",
       "\n",
       "    .dataframe thead th {\n",
       "        text-align: right;\n",
       "    }\n",
       "</style>\n",
       "<table border=\"1\" class=\"dataframe\">\n",
       "  <thead>\n",
       "    <tr style=\"text-align: right;\">\n",
       "      <th></th>\n",
       "      <th>year</th>\n",
       "      <th>province</th>\n",
       "      <th>federal_party</th>\n",
       "      <th>co2_tonnes</th>\n",
       "    </tr>\n",
       "  </thead>\n",
       "  <tbody>\n",
       "    <tr>\n",
       "      <th>0</th>\n",
       "      <td>2015</td>\n",
       "      <td>Alberta</td>\n",
       "      <td>Conservative</td>\n",
       "      <td>1.360464e+08</td>\n",
       "    </tr>\n",
       "    <tr>\n",
       "      <th>1</th>\n",
       "      <td>2015</td>\n",
       "      <td>British Columbia</td>\n",
       "      <td>Liberal</td>\n",
       "      <td>1.191452e+07</td>\n",
       "    </tr>\n",
       "    <tr>\n",
       "      <th>2</th>\n",
       "      <td>2015</td>\n",
       "      <td>Manitoba</td>\n",
       "      <td>Conservative</td>\n",
       "      <td>1.490384e+06</td>\n",
       "    </tr>\n",
       "    <tr>\n",
       "      <th>3</th>\n",
       "      <td>2015</td>\n",
       "      <td>New Brunswick</td>\n",
       "      <td>Liberal</td>\n",
       "      <td>7.146915e+06</td>\n",
       "    </tr>\n",
       "    <tr>\n",
       "      <th>4</th>\n",
       "      <td>2015</td>\n",
       "      <td>Newfoundland and Labrador</td>\n",
       "      <td>Liberal</td>\n",
       "      <td>4.673263e+06</td>\n",
       "    </tr>\n",
       "  </tbody>\n",
       "</table>\n",
       "</div>"
      ],
      "text/plain": [
       "   year                   province federal_party    co2_tonnes\n",
       "0  2015                    Alberta  Conservative  1.360464e+08\n",
       "1  2015           British Columbia       Liberal  1.191452e+07\n",
       "2  2015                   Manitoba  Conservative  1.490384e+06\n",
       "3  2015              New Brunswick       Liberal  7.146915e+06\n",
       "4  2015  Newfoundland and Labrador       Liberal  4.673263e+06"
      ]
     },
     "execution_count": 8,
     "metadata": {},
     "output_type": "execute_result"
    }
   ],
   "source": [
    "#group emissions by year, province and party\n",
    "grouped = carbon_df.groupby(['year', 'province', 'federal_party']).sum()\n",
    "new_carbon_df = grouped.reset_index() #turn index into columns\n",
    "new_carbon_df.head()"
   ]
  },
  {
   "cell_type": "code",
   "execution_count": 9,
   "id": "d927a817-3322-44f2-bae7-9228a192030d",
   "metadata": {
    "tags": []
   },
   "outputs": [
    {
     "data": {
      "text/plain": [
       "Text(0.5, 1.0, 'Yearly Provincial CO2 Emissions')"
      ]
     },
     "execution_count": 9,
     "metadata": {},
     "output_type": "execute_result"
    },
    {
     "data": {
      "image/png": "[encoded data removed]",
      "text/plain": [
       "<Figure size 640x480 with 1 Axes>"
      ]
     },
     "metadata": {},
     "output_type": "display_data"
    }
   ],
   "source": [
    "#plot emissions vs year\n",
    "sns.lineplot(data=new_carbon_df, x='year', y='co2_tonnes', errorbar=None)\n",
    "plt.ylabel(\"Emissions of CO2 in Tonnes\")\n",
    "plt.xlabel(\"Year\")\n",
    "plt.title('Yearly Provincial CO2 Emissions')"
   ]
  },
  {
   "cell_type": "markdown",
   "id": "03453df8-e2ba-48a3-a635-c004d4af806b",
   "metadata": {},
   "source": [
    "Looking at the plot above, we can see that CO2 emissions in Canada drastically increased from 2016 to 2017, but have otherwise remained stable."
   ]
  },
  {
   "cell_type": "code",
   "execution_count": 10,
   "id": "f5b5211a-8a97-4fcb-893d-a10a63e5807d",
   "metadata": {
    "tags": []
   },
   "outputs": [
    {
     "data": {
      "text/plain": [
       "<matplotlib.legend.Legend at 0x29beca4d3d0>"
      ]
     },
     "execution_count": 10,
     "metadata": {},
     "output_type": "execute_result"
    },
    {
     "data": {
      "image/png": "[encoded data removed]",
      "text/plain": [
       "<Figure size 640x480 with 1 Axes>"
      ]
     },
     "metadata": {},
     "output_type": "display_data"
    }
   ],
   "source": [
    "#define a distinctive color palette\n",
    "province_palette = ('red', 'green', 'blue', 'purple', 'pink', 'yellow', 'black', 'brown', 'orange', 'magenta', 'cyan', 'grey', 'lime')\n",
    "\n",
    "#plot provincial emissions vs year\n",
    "sns.lineplot(data=new_carbon_df, x='year', y='co2_tonnes', hue='province', palette=province_palette)\n",
    "plt.ylabel(\"Emissions of CO2 in Tonnes\")\n",
    "plt.xlabel(\"Year\")\n",
    "plt.title('Annual Provincial CO2 Emissions')\n",
    "plt.legend(loc='center left', bbox_to_anchor=(1,0.5))"
   ]
  },
  {
   "cell_type": "markdown",
   "id": "ad6f6756-3e66-4a77-8ac1-f3172f39d87e",
   "metadata": {},
   "source": [
    "From the above plot, we can see that from 2015 to 2019, Alberta has consistently been the largest producer of CO2 emissions. This makes sense, as Alberta's economy is primarily driven by oil exports. After that, the order seems to be Ontario, Saskatchewan, Quebec and B.C. as the top 5. Alberta produces significantly more CO2 than Ontario in second place; about a metric tonne more every year."
   ]
  },
  {
   "cell_type": "code",
   "execution_count": 11,
   "id": "2b9a7926-54db-4603-b484-40fd795fdb95",
   "metadata": {
    "tags": []
   },
   "outputs": [
    {
     "data": {
      "text/plain": [
       "<matplotlib.legend.Legend at 0x29bed42dfd0>"
      ]
     },
     "execution_count": 11,
     "metadata": {},
     "output_type": "execute_result"
    },
    {
     "data": {
      "image/png": "[encoded data removed]",
      "text/plain": [
       "<Figure size 640x480 with 1 Axes>"
      ]
     },
     "metadata": {},
     "output_type": "display_data"
    }
   ],
   "source": [
    "#plot party-qise emissions vs year\n",
    "sns.barplot(data=new_carbon_df, x='year', y='co2_tonnes', hue='federal_party', errorbar=None)\n",
    "plt.ylabel(\"Emissions of CO2 in Tonnes\")\n",
    "plt.xlabel(\"Year\")\n",
    "plt.title('Annual Party-wise CO2 Emissions')\n",
    "plt.legend(loc='center left', bbox_to_anchor=(1,0.5))"
   ]
  },
  {
   "cell_type": "markdown",
   "id": "53a75c8d-01b2-4690-81e8-5ea3fca58221",
   "metadata": {},
   "source": [
    "From the above plot, we can see that for all 5 years, Conservative provinces consistently produced more CO2 emissions than other parties. This is likely due to Alberta and Saskatchewan both being Conservative provinces, while also both being in the top 5 CO2-producing provinces."
   ]
  },
  {
   "cell_type": "markdown",
   "id": "0902459f-2e19-455d-91de-9ec27e722895",
   "metadata": {
    "tags": []
   },
   "source": [
    "<h1>Parliament Dataset</h1>"
   ]
  },
  {
   "cell_type": "code",
   "execution_count": 12,
   "id": "310940c8-949d-41d4-92a0-8ce5a86bffb3",
   "metadata": {
    "tags": []
   },
   "outputs": [],
   "source": [
    "df = pd.read_csv('comb_parl.csv')"
   ]
  },
  {
   "cell_type": "code",
   "execution_count": 13,
   "id": "c3a68e5b-93f9-48be-bc55-014f8c532a49",
   "metadata": {
    "tags": []
   },
   "outputs": [
    {
     "name": "stdout",
     "output_type": "stream",
     "text": [
      "<class 'pandas.core.frame.DataFrame'>\n",
      "RangeIndex: 152522 entries, 0 to 152521\n",
      "Data columns (total 16 columns):\n",
      " #   Column           Non-Null Count   Dtype  \n",
      "---  ------           --------------   -----  \n",
      " 0   Unnamed: 0       152522 non-null  int64  \n",
      " 1   basepk           152522 non-null  int64  \n",
      " 2   hid              152522 non-null  object \n",
      " 3   speechdate       152522 non-null  object \n",
      " 4   pid              138480 non-null  object \n",
      " 5   opid             138268 non-null  float64\n",
      " 6   speakeroldname   138261 non-null  object \n",
      " 7   speakerposition  18968 non-null   object \n",
      " 8   maintopic        151339 non-null  object \n",
      " 9   subtopic         151556 non-null  object \n",
      " 10  subsubtopic      41939 non-null   object \n",
      " 11  speechtext       152522 non-null  object \n",
      " 12  speakerparty     138268 non-null  object \n",
      " 13  speakerriding    138268 non-null  object \n",
      " 14  speakername      147545 non-null  object \n",
      " 15  speakerurl       132642 non-null  object \n",
      "dtypes: float64(1), int64(2), object(13)\n",
      "memory usage: 18.6+ MB\n"
     ]
    }
   ],
   "source": [
    "df.info()"
   ]
  },
  {
   "cell_type": "code",
   "execution_count": 14,
   "id": "e771d4ff-8e8a-4039-a856-04ee8343c405",
   "metadata": {
    "tags": []
   },
   "outputs": [
    {
     "data": {
      "text/plain": [
       "(2611, 16)"
      ]
     },
     "execution_count": 14,
     "metadata": {},
     "output_type": "execute_result"
    }
   ],
   "source": [
    "#get rows talking about carbon tax\n",
    "df_carbon = df.loc[df.speechtext.str.lower().str.contains('carbon tax'),:]\n",
    "df_carbon.shape"
   ]
  },
  {
   "cell_type": "markdown",
   "id": "e78f8f18-e082-4edb-b443-a7051c15a402",
   "metadata": {},
   "source": [
    "We have ~2000 observations to work with, which is pretty good."
   ]
  },
  {
   "cell_type": "code",
   "execution_count": 15,
   "id": "61a94e23-3aa7-4e4b-8aa1-912a03b428be",
   "metadata": {
    "tags": []
   },
   "outputs": [
    {
     "data": {
      "text/plain": [
       "(510, 5)"
      ]
     },
     "execution_count": 15,
     "metadata": {},
     "output_type": "execute_result"
    }
   ],
   "source": [
    "#look for rows that talk about harming Canadians\n",
    "filter_ = df_carbon.speechtext.str.extract(r'((tax)(.)*(harm|cost|jeopardize|hurt|pay)(.)*Canadian)').dropna()\n",
    "filter_.shape"
   ]
  },
  {
   "cell_type": "markdown",
   "id": "6910db84-e099-4120-b9a5-af133fcdd217",
   "metadata": {},
   "source": [
    "We know from the earlier regex filtering that all of our observations contain the term 'carbon tax'. If we search for sections with 'tax harm Canadian' (including synonyms for harm) then we will be able to find observations that more likely than not talk about the carbon tax hurting Canadians in some way. Above, we see that there are 510 such observations compared to the total 2611. This has essentially split our dataset into a 80:20 ratio of for to against the carbon tax. While that's not too bad, a 50:50 split would have been ideal, since we would know the data is in no way skewed. However, that can be easily fixed by sampling from the 'for' set. Altogether, we'll have ~1000 observations, which is reasonable for modelling purposes."
   ]
  },
  {
   "cell_type": "code",
   "execution_count": 16,
   "id": "7ff08632-1a3f-489a-b529-131a08279e0a",
   "metadata": {
    "tags": []
   },
   "outputs": [
    {
     "name": "stderr",
     "output_type": "stream",
     "text": [
      "C:\\Users\\ehraa\\AppData\\Local\\Temp\\ipykernel_9544\\1055247102.py:6: SettingWithCopyWarning: \n",
      "A value is trying to be set on a copy of a slice from a DataFrame.\n",
      "Try using .loc[row_indexer,col_indexer] = value instead\n",
      "\n",
      "See the caveats in the documentation: https://pandas.pydata.org/pandas-docs/stable/user_guide/indexing.html#returning-a-view-versus-a-copy\n",
      "  df_against_tax.loc[:, 'Sentiment'] = 'Negative'\n",
      "C:\\Users\\ehraa\\AppData\\Local\\Temp\\ipykernel_9544\\1055247102.py:7: SettingWithCopyWarning: \n",
      "A value is trying to be set on a copy of a slice from a DataFrame.\n",
      "Try using .loc[row_indexer,col_indexer] = value instead\n",
      "\n",
      "See the caveats in the documentation: https://pandas.pydata.org/pandas-docs/stable/user_guide/indexing.html#returning-a-view-versus-a-copy\n",
      "  df_for_tax.loc[:, 'Sentiment'] = 'Positive'\n"
     ]
    }
   ],
   "source": [
    "#split the sets\n",
    "df_against_tax = df_carbon.loc[df_carbon.index.isin(filter_.index), :]\n",
    "df_for_tax = df_carbon.loc[~df_carbon.index.isin(filter_.index), :]\n",
    "\n",
    "#add a 'sentiment' column; this will help us identify whether the text is speaking for or against the carbon tax\n",
    "df_against_tax.loc[:, 'Sentiment'] = 'Negative'\n",
    "df_for_tax.loc[:, 'Sentiment'] = 'Positive'"
   ]
  },
  {
   "cell_type": "code",
   "execution_count": 17,
   "id": "85e46282-8a3f-488d-aadd-fea3122c3c79",
   "metadata": {
    "tags": []
   },
   "outputs": [
    {
     "data": {
      "text/plain": [
       "(1020, 17)"
      ]
     },
     "execution_count": 17,
     "metadata": {},
     "output_type": "execute_result"
    }
   ],
   "source": [
    "#sample from 'for' set\n",
    "df_for_tax = df_for_tax.sample(filter_.shape[0], random_state=0)\n",
    "\n",
    "#combine the 2 sets\n",
    "df = pd.concat([df_against_tax, df_for_tax], axis=0)\n",
    "df.shape"
   ]
  },
  {
   "cell_type": "code",
   "execution_count": 18,
   "id": "e1c202f5-bfd8-43a6-9679-346281a36a31",
   "metadata": {
    "tags": []
   },
   "outputs": [
    {
     "name": "stdout",
     "output_type": "stream",
     "text": [
      "<class 'pandas.core.frame.DataFrame'>\n",
      "Index: 1020 entries, 2738 to 107560\n",
      "Data columns (total 17 columns):\n",
      " #   Column           Non-Null Count  Dtype  \n",
      "---  ------           --------------  -----  \n",
      " 0   Unnamed: 0       1020 non-null   int64  \n",
      " 1   basepk           1020 non-null   int64  \n",
      " 2   hid              1020 non-null   object \n",
      " 3   speechdate       1020 non-null   object \n",
      " 4   pid              1017 non-null   object \n",
      " 5   opid             1016 non-null   float64\n",
      " 6   speakeroldname   1016 non-null   object \n",
      " 7   speakerposition  9 non-null      object \n",
      " 8   maintopic        1015 non-null   object \n",
      " 9   subtopic         1015 non-null   object \n",
      " 10  subsubtopic      306 non-null    object \n",
      " 11  speechtext       1020 non-null   object \n",
      " 12  speakerparty     1016 non-null   object \n",
      " 13  speakerriding    1016 non-null   object \n",
      " 14  speakername      1020 non-null   object \n",
      " 15  speakerurl       1006 non-null   object \n",
      " 16  Sentiment        1020 non-null   object \n",
      "dtypes: float64(1), int64(2), object(14)\n",
      "memory usage: 143.4+ KB\n"
     ]
    }
   ],
   "source": [
    "df.info()"
   ]
  },
  {
   "cell_type": "code",
   "execution_count": 19,
   "id": "4345ac9a-c599-4f69-846e-2960833a1178",
   "metadata": {
    "tags": []
   },
   "outputs": [
    {
     "data": {
      "text/html": [
       "<div>\n",
       "<style scoped>\n",
       "    .dataframe tbody tr th:only-of-type {\n",
       "        vertical-align: middle;\n",
       "    }\n",
       "\n",
       "    .dataframe tbody tr th {\n",
       "        vertical-align: top;\n",
       "    }\n",
       "\n",
       "    .dataframe thead th {\n",
       "        text-align: right;\n",
       "    }\n",
       "</style>\n",
       "<table border=\"1\" class=\"dataframe\">\n",
       "  <thead>\n",
       "    <tr style=\"text-align: right;\">\n",
       "      <th></th>\n",
       "      <th>speechdate</th>\n",
       "      <th>speakerparty</th>\n",
       "      <th>speakerriding</th>\n",
       "      <th>Sentiment</th>\n",
       "    </tr>\n",
       "  </thead>\n",
       "  <tbody>\n",
       "    <tr>\n",
       "      <th>2738</th>\n",
       "      <td>2015-12-08</td>\n",
       "      <td>Conservative</td>\n",
       "      <td>Dauphin--Swan River--Neepawa</td>\n",
       "      <td>Negative</td>\n",
       "    </tr>\n",
       "    <tr>\n",
       "      <th>4878</th>\n",
       "      <td>2015-02-20</td>\n",
       "      <td>Conservative</td>\n",
       "      <td>Oak Ridges--Markham</td>\n",
       "      <td>Negative</td>\n",
       "    </tr>\n",
       "    <tr>\n",
       "      <th>5056</th>\n",
       "      <td>2015-02-23</td>\n",
       "      <td>Conservative</td>\n",
       "      <td>Moncton--Riverview--Dieppe</td>\n",
       "      <td>Negative</td>\n",
       "    </tr>\n",
       "    <tr>\n",
       "      <th>5667</th>\n",
       "      <td>2015-02-25</td>\n",
       "      <td>Conservative</td>\n",
       "      <td>Burlington</td>\n",
       "      <td>Negative</td>\n",
       "    </tr>\n",
       "    <tr>\n",
       "      <th>5669</th>\n",
       "      <td>2015-02-25</td>\n",
       "      <td>Conservative</td>\n",
       "      <td>Calgary Centre</td>\n",
       "      <td>Negative</td>\n",
       "    </tr>\n",
       "  </tbody>\n",
       "</table>\n",
       "</div>"
      ],
      "text/plain": [
       "      speechdate  speakerparty                 speakerriding Sentiment\n",
       "2738  2015-12-08  Conservative  Dauphin--Swan River--Neepawa  Negative\n",
       "4878  2015-02-20  Conservative           Oak Ridges--Markham  Negative\n",
       "5056  2015-02-23  Conservative    Moncton--Riverview--Dieppe  Negative\n",
       "5667  2015-02-25  Conservative                    Burlington  Negative\n",
       "5669  2015-02-25  Conservative                Calgary Centre  Negative"
      ]
     },
     "execution_count": 19,
     "metadata": {},
     "output_type": "execute_result"
    }
   ],
   "source": [
    "#only keep useful columns\n",
    "df = df.iloc[:, [3,12,13,16]]\n",
    "df.head()"
   ]
  },
  {
   "cell_type": "code",
   "execution_count": 20,
   "id": "9798ce24-2d24-4fe5-bafa-cd9493329544",
   "metadata": {
    "tags": []
   },
   "outputs": [
    {
     "data": {
      "text/plain": [
       "speechdate       0\n",
       "speakerparty     4\n",
       "speakerriding    4\n",
       "Sentiment        0\n",
       "dtype: int64"
      ]
     },
     "execution_count": 20,
     "metadata": {},
     "output_type": "execute_result"
    }
   ],
   "source": [
    "df.isna().sum()"
   ]
  },
  {
   "cell_type": "code",
   "execution_count": 21,
   "id": "72c2b068-08cb-47bb-b9af-218a1cfee73f",
   "metadata": {
    "tags": []
   },
   "outputs": [],
   "source": [
    "#drop remaining NAs\n",
    "df.dropna(inplace=True)"
   ]
  },
  {
   "cell_type": "markdown",
   "id": "c90194a4-29fe-4225-afbb-50ad4e42d186",
   "metadata": {},
   "source": [
    "Further, let's split up the dates into different columns for future ease."
   ]
  },
  {
   "cell_type": "code",
   "execution_count": 22,
   "id": "82c7194d-595e-47e1-badc-ef32960993fa",
   "metadata": {
    "tags": []
   },
   "outputs": [
    {
     "data": {
      "text/html": [
       "<div>\n",
       "<style scoped>\n",
       "    .dataframe tbody tr th:only-of-type {\n",
       "        vertical-align: middle;\n",
       "    }\n",
       "\n",
       "    .dataframe tbody tr th {\n",
       "        vertical-align: top;\n",
       "    }\n",
       "\n",
       "    .dataframe thead th {\n",
       "        text-align: right;\n",
       "    }\n",
       "</style>\n",
       "<table border=\"1\" class=\"dataframe\">\n",
       "  <thead>\n",
       "    <tr style=\"text-align: right;\">\n",
       "      <th></th>\n",
       "      <th>speechdate</th>\n",
       "      <th>speakerparty</th>\n",
       "      <th>speakerriding</th>\n",
       "      <th>Sentiment</th>\n",
       "      <th>Year</th>\n",
       "    </tr>\n",
       "  </thead>\n",
       "  <tbody>\n",
       "    <tr>\n",
       "      <th>2738</th>\n",
       "      <td>2015-12-08</td>\n",
       "      <td>Conservative</td>\n",
       "      <td>Dauphin--Swan River--Neepawa</td>\n",
       "      <td>Negative</td>\n",
       "      <td>2015</td>\n",
       "    </tr>\n",
       "    <tr>\n",
       "      <th>4878</th>\n",
       "      <td>2015-02-20</td>\n",
       "      <td>Conservative</td>\n",
       "      <td>Oak Ridges--Markham</td>\n",
       "      <td>Negative</td>\n",
       "      <td>2015</td>\n",
       "    </tr>\n",
       "    <tr>\n",
       "      <th>5056</th>\n",
       "      <td>2015-02-23</td>\n",
       "      <td>Conservative</td>\n",
       "      <td>Moncton--Riverview--Dieppe</td>\n",
       "      <td>Negative</td>\n",
       "      <td>2015</td>\n",
       "    </tr>\n",
       "    <tr>\n",
       "      <th>5667</th>\n",
       "      <td>2015-02-25</td>\n",
       "      <td>Conservative</td>\n",
       "      <td>Burlington</td>\n",
       "      <td>Negative</td>\n",
       "      <td>2015</td>\n",
       "    </tr>\n",
       "    <tr>\n",
       "      <th>5669</th>\n",
       "      <td>2015-02-25</td>\n",
       "      <td>Conservative</td>\n",
       "      <td>Calgary Centre</td>\n",
       "      <td>Negative</td>\n",
       "      <td>2015</td>\n",
       "    </tr>\n",
       "  </tbody>\n",
       "</table>\n",
       "</div>"
      ],
      "text/plain": [
       "      speechdate  speakerparty                 speakerriding Sentiment  Year\n",
       "2738  2015-12-08  Conservative  Dauphin--Swan River--Neepawa  Negative  2015\n",
       "4878  2015-02-20  Conservative           Oak Ridges--Markham  Negative  2015\n",
       "5056  2015-02-23  Conservative    Moncton--Riverview--Dieppe  Negative  2015\n",
       "5667  2015-02-25  Conservative                    Burlington  Negative  2015\n",
       "5669  2015-02-25  Conservative                Calgary Centre  Negative  2015"
      ]
     },
     "execution_count": 22,
     "metadata": {},
     "output_type": "execute_result"
    }
   ],
   "source": [
    "dates_split = df.speechdate.str.extract(r'((\\d\\d\\d\\d)-(\\d\\d)-(\\d\\d))')\n",
    "df['Year'] = dates_split.iloc[:, 1]\n",
    "\n",
    "df.head()"
   ]
  },
  {
   "cell_type": "code",
   "execution_count": 23,
   "id": "755629fa-518e-4fc2-9f29-b991e0b90d20",
   "metadata": {
    "tags": []
   },
   "outputs": [],
   "source": [
    "#drop speechdate column as we don't need it anymore\n",
    "df.drop('speechdate', axis=1, inplace=True)"
   ]
  },
  {
   "cell_type": "code",
   "execution_count": 24,
   "id": "40729e9f-6b1a-4ead-89f5-edfedd824a00",
   "metadata": {
    "tags": []
   },
   "outputs": [
    {
     "name": "stdout",
     "output_type": "stream",
     "text": [
      "['Conservative' 'New Democratic Party' 'Liberal' 'Independent'\n",
      " 'Bloc Québécois' 'Green Party' 'NDP']\n",
      "['2015' '2016' '2017' '2018' '2019']\n"
     ]
    },
    {
     "data": {
      "text/plain": [
       "161"
      ]
     },
     "execution_count": 24,
     "metadata": {},
     "output_type": "execute_result"
    }
   ],
   "source": [
    "#make sure there are no erroneus entries\n",
    "print(df.speakerparty.unique())\n",
    "print(df.Year.unique())\n",
    "len(df.speakerriding.unique())"
   ]
  },
  {
   "cell_type": "code",
   "execution_count": 25,
   "id": "c44e2584-1299-4d5b-8743-db2fd7415d4a",
   "metadata": {
    "tags": []
   },
   "outputs": [],
   "source": [
    "#fix NDP and Bloc splits\n",
    "df.loc[df.speakerparty=='New Democratic Party', 'speakerparty'] = 'NDP'\n",
    "df.loc[df.speakerparty=='Bloc Québécois', 'speakerparty'] = 'Bloc'\n",
    "\n",
    "#turn year into integer variables\n",
    "df.Year = df.Year.apply(lambda x: int(x))"
   ]
  },
  {
   "cell_type": "markdown",
   "id": "53aaa368-8806-432c-8f8e-a02edd8e3a3a",
   "metadata": {},
   "source": [
    "Now, time to visualize."
   ]
  },
  {
   "cell_type": "code",
   "execution_count": 26,
   "id": "010865ea-4f4f-4ec1-8562-c1b2c4cce2bc",
   "metadata": {
    "tags": []
   },
   "outputs": [
    {
     "data": {
      "text/plain": [
       "Text(0, 0.5, 'Count')"
      ]
     },
     "execution_count": 26,
     "metadata": {},
     "output_type": "execute_result"
    },
    {
     "data": {
      "image/png": "[encoded data removed]",
      "text/plain": [
       "<Figure size 640x480 with 1 Axes>"
      ]
     },
     "metadata": {},
     "output_type": "display_data"
    }
   ],
   "source": [
    "#plot sentiments vs years\n",
    "sns.countplot(data=df, x='Year', hue='Sentiment', palette=['red', 'blue'])\n",
    "plt.title(\"Annual Changes in Sentiment\")\n",
    "plt.xlabel(\"Year\")\n",
    "plt.ylabel(\"Count\")"
   ]
  },
  {
   "cell_type": "markdown",
   "id": "8905617f-e759-42a3-be92-b845b4d06fac",
   "metadata": {},
   "source": [
    "Looks like in 2015, 2016 and 2017, there was a more positive sentiment, while in 2018 there was a more negative sentiment about carbon tax. In 2019, it seems to be about equal. Unfortunately, since there are a different number of observations for each year, we can't directly compare annual changes in sentiment."
   ]
  },
  {
   "cell_type": "code",
   "execution_count": 27,
   "id": "37d7310b-8b10-4303-b9f7-17cdcf9c64c7",
   "metadata": {
    "tags": []
   },
   "outputs": [
    {
     "data": {
      "text/plain": [
       "<Axes: xlabel='speakerparty', ylabel='count'>"
      ]
     },
     "execution_count": 27,
     "metadata": {},
     "output_type": "execute_result"
    },
    {
     "data": {
      "image/png": "[encoded data removed]",
      "text/plain": [
       "<Figure size 640x480 with 1 Axes>"
      ]
     },
     "metadata": {},
     "output_type": "display_data"
    }
   ],
   "source": [
    "#plot sentimant and party\n",
    "sns.countplot(data=df, x='speakerparty', hue='Sentiment', palette=['red', 'blue'])"
   ]
  },
  {
   "cell_type": "markdown",
   "id": "3b13854b-1d4b-414a-a4c6-011ca5f7ea47",
   "metadata": {},
   "source": [
    "Conservatives seems to have been speaking largely against the tax, while the NDP, Liberal and Green Party members seem to be speaking mostly for. The data shows that Conservatives also seem to be talking about the carbon tax a lot more, although that could simply be due to the sampling."
   ]
  },
  {
   "cell_type": "markdown",
   "id": "8f207078-7180-4927-bf77-4a1bde977f96",
   "metadata": {},
   "source": [
    "<h1>Joining Datasets</h1>"
   ]
  },
  {
   "cell_type": "markdown",
   "id": "acc87730-dc28-4220-ac41-aaba2dcfd368",
   "metadata": {},
   "source": [
    "Now, let's join the 2 dataseta to see what insights we can get."
   ]
  },
  {
   "cell_type": "code",
   "execution_count": 28,
   "id": "c5c8fd20-2176-4fb8-84f0-daff7917b86f",
   "metadata": {
    "tags": []
   },
   "outputs": [
    {
     "data": {
      "text/html": [
       "<div>\n",
       "<style scoped>\n",
       "    .dataframe tbody tr th:only-of-type {\n",
       "        vertical-align: middle;\n",
       "    }\n",
       "\n",
       "    .dataframe tbody tr th {\n",
       "        vertical-align: top;\n",
       "    }\n",
       "\n",
       "    .dataframe thead th {\n",
       "        text-align: right;\n",
       "    }\n",
       "</style>\n",
       "<table border=\"1\" class=\"dataframe\">\n",
       "  <thead>\n",
       "    <tr style=\"text-align: right;\">\n",
       "      <th></th>\n",
       "      <th>FED_NUM</th>\n",
       "      <th>NID</th>\n",
       "      <th>FEDNUM</th>\n",
       "      <th>ENNAME</th>\n",
       "      <th>FRNAME</th>\n",
       "      <th>PROVCODE</th>\n",
       "      <th>CREADT</th>\n",
       "      <th>REVDT</th>\n",
       "      <th>REPORDER</th>\n",
       "      <th>DECPOPCNT</th>\n",
       "      <th>QUIPOPCNT</th>\n",
       "      <th>ENLEGALDSC</th>\n",
       "      <th>FRLEGALDSC</th>\n",
       "      <th>geometry</th>\n",
       "    </tr>\n",
       "  </thead>\n",
       "  <tbody>\n",
       "    <tr>\n",
       "      <th>0</th>\n",
       "      <td>35029</td>\n",
       "      <td>{30F68311-B8D1-4049-9DA1-88F80222930F}</td>\n",
       "      <td>35029</td>\n",
       "      <td>Etobicoke North</td>\n",
       "      <td>Etobicoke-Nord</td>\n",
       "      <td>ON</td>\n",
       "      <td>20131005</td>\n",
       "      <td>None</td>\n",
       "      <td>2013</td>\n",
       "      <td>117601</td>\n",
       "      <td>0</td>\n",
       "      <td>http://www.elections.ca/res/cir/maps2/mapprov....</td>\n",
       "      <td>http://www.elections.ca/res/cir/maps2/mapprov....</td>\n",
       "      <td>POLYGON ((7201954.777 935407.037, 7202067.746 ...</td>\n",
       "    </tr>\n",
       "    <tr>\n",
       "      <th>1</th>\n",
       "      <td>35032</td>\n",
       "      <td>{39AFA153-47AC-4203-87DE-B7A71DF234E9}</td>\n",
       "      <td>35032</td>\n",
       "      <td>Guelph</td>\n",
       "      <td>Guelph</td>\n",
       "      <td>ON</td>\n",
       "      <td>20131005</td>\n",
       "      <td>None</td>\n",
       "      <td>2013</td>\n",
       "      <td>121688</td>\n",
       "      <td>0</td>\n",
       "      <td>http://www.elections.ca/res/cir/maps2/mapprov....</td>\n",
       "      <td>http://www.elections.ca/res/cir/maps2/mapprov....</td>\n",
       "      <td>POLYGON ((7151948.911 899971.331, 7151447.129 ...</td>\n",
       "    </tr>\n",
       "    <tr>\n",
       "      <th>2</th>\n",
       "      <td>48017</td>\n",
       "      <td>{C3BC533E-6642-4C06-9291-10C0907A24A6}</td>\n",
       "      <td>48017</td>\n",
       "      <td>Edmonton Mill Woods</td>\n",
       "      <td>Edmonton Mill Woods</td>\n",
       "      <td>AB</td>\n",
       "      <td>20131005</td>\n",
       "      <td>None</td>\n",
       "      <td>2013</td>\n",
       "      <td>106103</td>\n",
       "      <td>0</td>\n",
       "      <td>http://www.elections.ca/res/cir/maps2/mapprov....</td>\n",
       "      <td>http://www.elections.ca/res/cir/maps2/mapprov....</td>\n",
       "      <td>POLYGON ((4811379.686 2157147.634, 4811380.094...</td>\n",
       "    </tr>\n",
       "    <tr>\n",
       "      <th>3</th>\n",
       "      <td>48018</td>\n",
       "      <td>{C5BCB32E-57F6-4448-A533-33D114D02386}</td>\n",
       "      <td>48018</td>\n",
       "      <td>Edmonton Riverbend</td>\n",
       "      <td>Edmonton Riverbend</td>\n",
       "      <td>AB</td>\n",
       "      <td>20131005</td>\n",
       "      <td>None</td>\n",
       "      <td>2013</td>\n",
       "      <td>106302</td>\n",
       "      <td>0</td>\n",
       "      <td>http://www.elections.ca/res/cir/maps2/mapprov....</td>\n",
       "      <td>http://www.elections.ca/res/cir/maps2/mapprov....</td>\n",
       "      <td>POLYGON ((4801564.891 2159173.746, 4801137.980...</td>\n",
       "    </tr>\n",
       "    <tr>\n",
       "      <th>4</th>\n",
       "      <td>48021</td>\n",
       "      <td>{BBFBC678-2943-48FD-BC75-A259C0060A06}</td>\n",
       "      <td>48021</td>\n",
       "      <td>Edmonton--Wetaskiwin</td>\n",
       "      <td>Edmonton--Wetaskiwin</td>\n",
       "      <td>AB</td>\n",
       "      <td>20131005</td>\n",
       "      <td>None</td>\n",
       "      <td>2013</td>\n",
       "      <td>110644</td>\n",
       "      <td>0</td>\n",
       "      <td>http://www.elections.ca/res/cir/maps2/mapprov....</td>\n",
       "      <td>http://www.elections.ca/res/cir/maps2/mapprov....</td>\n",
       "      <td>POLYGON ((4694436.409 2130675.640, 4694437.989...</td>\n",
       "    </tr>\n",
       "  </tbody>\n",
       "</table>\n",
       "</div>"
      ],
      "text/plain": [
       "   FED_NUM                                     NID  FEDNUM  \\\n",
       "0    35029  {30F68311-B8D1-4049-9DA1-88F80222930F}   35029   \n",
       "1    35032  {39AFA153-47AC-4203-87DE-B7A71DF234E9}   35032   \n",
       "2    48017  {C3BC533E-6642-4C06-9291-10C0907A24A6}   48017   \n",
       "3    48018  {C5BCB32E-57F6-4448-A533-33D114D02386}   48018   \n",
       "4    48021  {BBFBC678-2943-48FD-BC75-A259C0060A06}   48021   \n",
       "\n",
       "                 ENNAME                FRNAME PROVCODE    CREADT REVDT  \\\n",
       "0       Etobicoke North        Etobicoke-Nord       ON  20131005  None   \n",
       "1                Guelph                Guelph       ON  20131005  None   \n",
       "2   Edmonton Mill Woods   Edmonton Mill Woods       AB  20131005  None   \n",
       "3    Edmonton Riverbend    Edmonton Riverbend       AB  20131005  None   \n",
       "4  Edmonton--Wetaskiwin  Edmonton--Wetaskiwin       AB  20131005  None   \n",
       "\n",
       "  REPORDER  DECPOPCNT  QUIPOPCNT  \\\n",
       "0     2013     117601          0   \n",
       "1     2013     121688          0   \n",
       "2     2013     106103          0   \n",
       "3     2013     106302          0   \n",
       "4     2013     110644          0   \n",
       "\n",
       "                                          ENLEGALDSC  \\\n",
       "0  http://www.elections.ca/res/cir/maps2/mapprov....   \n",
       "1  http://www.elections.ca/res/cir/maps2/mapprov....   \n",
       "2  http://www.elections.ca/res/cir/maps2/mapprov....   \n",
       "3  http://www.elections.ca/res/cir/maps2/mapprov....   \n",
       "4  http://www.elections.ca/res/cir/maps2/mapprov....   \n",
       "\n",
       "                                          FRLEGALDSC  \\\n",
       "0  http://www.elections.ca/res/cir/maps2/mapprov....   \n",
       "1  http://www.elections.ca/res/cir/maps2/mapprov....   \n",
       "2  http://www.elections.ca/res/cir/maps2/mapprov....   \n",
       "3  http://www.elections.ca/res/cir/maps2/mapprov....   \n",
       "4  http://www.elections.ca/res/cir/maps2/mapprov....   \n",
       "\n",
       "                                            geometry  \n",
       "0  POLYGON ((7201954.777 935407.037, 7202067.746 ...  \n",
       "1  POLYGON ((7151948.911 899971.331, 7151447.129 ...  \n",
       "2  POLYGON ((4811379.686 2157147.634, 4811380.094...  \n",
       "3  POLYGON ((4801564.891 2159173.746, 4801137.980...  \n",
       "4  POLYGON ((4694436.409 2130675.640, 4694437.989...  "
      ]
     },
     "execution_count": 28,
     "metadata": {},
     "output_type": "execute_result"
    }
   ],
   "source": [
    "#before we join the datasets, we need to first get the province of each riding, so that we can look at provincial sentiment as well\n",
    "ridings = gpd.read_file('2015_ridings/FED_CA_2_2_ENG.shp')\n",
    "ridings.head()"
   ]
  },
  {
   "cell_type": "code",
   "execution_count": 29,
   "id": "631d757b-0908-4821-806e-5a192658b0d2",
   "metadata": {
    "tags": []
   },
   "outputs": [],
   "source": [
    "#normalize the riding names in both datasets\n",
    "def normalize(x):\n",
    "    x = x.lower()\n",
    "    new_x = \"\"\n",
    "    for c in x:\n",
    "        if ord(c) >= 97 and ord(c) <= 122:\n",
    "            new_x += c\n",
    "    return new_x\n",
    "\n",
    "ridings.ENNAME = ridings.ENNAME.apply(normalize)\n",
    "df.speakerriding = df.speakerriding.apply(normalize)"
   ]
  },
  {
   "cell_type": "code",
   "execution_count": 53,
   "id": "860230ca-d8d9-4e96-ae7f-c244eb395d2f",
   "metadata": {
    "tags": []
   },
   "outputs": [
    {
     "data": {
      "text/plain": [
       "0"
      ]
     },
     "execution_count": 53,
     "metadata": {},
     "output_type": "execute_result"
    }
   ],
   "source": [
    "ridings_unique = ridings.ENNAME.unique()\n",
    "df_unique = df.speakerriding.unique()\n",
    "joined = np.concatenate((ridings_unique, df_unique))\n",
    "\n",
    "diff = list(set([k if k not in ridings_unique else None for k in df_unique]))\n",
    "len(diff) - 1"
   ]
  },
  {
   "cell_type": "markdown",
   "id": "adb6ea76-15e3-4a22-85be-fb17c340ece7",
   "metadata": {},
   "source": [
    "There are 16 ridings that aren't in both datasets; this could be the result of when different ridings elected MPs (this has changed over time). If we drop these 16 values, we'll still have 1000 observations to work with, so it shouldn't be too bad."
   ]
  },
  {
   "cell_type": "code",
   "execution_count": 31,
   "id": "4f683f38-99de-4ea1-bc2f-ca6507ebb8c6",
   "metadata": {
    "tags": []
   },
   "outputs": [
    {
     "data": {
      "text/plain": [
       "array(['ON', 'AB', 'QC', 'YT', 'NU', 'NT', 'SK', 'BC', 'MB', 'PE', 'NL',\n",
       "       'NS', 'NB'], dtype=object)"
      ]
     },
     "execution_count": 31,
     "metadata": {},
     "output_type": "execute_result"
    }
   ],
   "source": [
    "ridings.PROVCODE.unique()"
   ]
  },
  {
   "cell_type": "code",
   "execution_count": 32,
   "id": "ef8fedb8-baf0-4c30-8c71-1a601b9f234b",
   "metadata": {
    "tags": []
   },
   "outputs": [
    {
     "data": {
      "text/plain": [
       "array(['Ontario', 'Alberta', 'Quebec', 'Yukon', 'Nunavut',\n",
       "       'Northwest Territories', 'Saskatchewan', 'British Columbia',\n",
       "       'Manitoba', 'Prince Edward Island', 'Newfoundland and Labrador',\n",
       "       'Nova Scotia', 'New Brunswick'], dtype=object)"
      ]
     },
     "execution_count": 32,
     "metadata": {},
     "output_type": "execute_result"
    }
   ],
   "source": [
    "#convert province codes in ridings dataset to province names\n",
    "def edit(x):\n",
    "    key = {'ON': 'Ontario', 'AB': 'Alberta', 'QC': 'Quebec', 'YT': 'Yukon', 'NU': 'Nunavut', 'NT': 'Northwest Territories',\n",
    "           'SK': 'Saskatchewan', 'BC': 'British Columbia', 'MB': 'Manitoba', 'PE': 'Prince Edward Island',\n",
    "           'NL': 'Newfoundland and Labrador', 'NS': 'Nova Scotia', 'NB': 'New Brunswick'}\n",
    "    return key[x]\n",
    "    \n",
    "ridings.PROVCODE = ridings.PROVCODE.apply(edit)\n",
    "ridings.PROVCODE.unique()"
   ]
  },
  {
   "cell_type": "code",
   "execution_count": 49,
   "id": "d55daee7-9195-4c7b-a536-f03ce68ede1b",
   "metadata": {
    "tags": []
   },
   "outputs": [
    {
     "data": {
      "text/plain": [
       "(991, 4)"
      ]
     },
     "execution_count": 49,
     "metadata": {},
     "output_type": "execute_result"
    }
   ],
   "source": [
    "df = df.loc[df.speakerriding.isin(ridings.ENNAME)]"
   ]
  },
  {
   "cell_type": "code",
   "execution_count": 55,
   "id": "82e08bef-d09c-4a16-bad0-125acae3bef0",
   "metadata": {
    "tags": []
   },
   "outputs": [
    {
     "name": "stdout",
     "output_type": "stream",
     "text": [
      "<class 'pandas.core.frame.DataFrame'>\n",
      "RangeIndex: 1226 entries, 0 to 1225\n",
      "Data columns (total 18 columns):\n",
      " #   Column         Non-Null Count  Dtype   \n",
      "---  ------         --------------  -----   \n",
      " 0   speakerparty   1016 non-null   object  \n",
      " 1   speakerriding  1016 non-null   object  \n",
      " 2   Sentiment      1016 non-null   object  \n",
      " 3   Year           1016 non-null   float64 \n",
      " 4   FED_NUM        1226 non-null   int64   \n",
      " 5   NID            1226 non-null   object  \n",
      " 6   FEDNUM         1226 non-null   int64   \n",
      " 7   ENNAME         1226 non-null   object  \n",
      " 8   FRNAME         1226 non-null   object  \n",
      " 9   PROVCODE       1226 non-null   object  \n",
      " 10  CREADT         1226 non-null   object  \n",
      " 11  REVDT          193 non-null    object  \n",
      " 12  REPORDER       1226 non-null   object  \n",
      " 13  DECPOPCNT      1226 non-null   int64   \n",
      " 14  QUIPOPCNT      1226 non-null   int64   \n",
      " 15  ENLEGALDSC     1226 non-null   object  \n",
      " 16  FRLEGALDSC     1226 non-null   object  \n",
      " 17  geometry       1226 non-null   geometry\n",
      "dtypes: float64(1), geometry(1), int64(4), object(12)\n",
      "memory usage: 172.5+ KB\n"
     ]
    }
   ],
   "source": [
    "#now we merge\n",
    "df_prov = df.merge(ridings, left_on='speakerriding', right_on='ENNAME', how='outer')\n",
    "df_prov.info()"
   ]
  },
  {
   "cell_type": "code",
   "execution_count": 56,
   "id": "1dc72dfb-2b4f-4ef5-b66c-a676635b7160",
   "metadata": {
    "tags": []
   },
   "outputs": [
    {
     "data": {
      "text/plain": [
       "speakerparty    210\n",
       "Sentiment       210\n",
       "Year            210\n",
       "PROVCODE          0\n",
       "dtype: int64"
      ]
     },
     "execution_count": 56,
     "metadata": {},
     "output_type": "execute_result"
    }
   ],
   "source": [
    "df_prov = df_prov.iloc[:, [0,2,3,9]]\n",
    "df_prov.isna().sum()"
   ]
  },
  {
   "cell_type": "code",
   "execution_count": 57,
   "id": "01292e15-e294-4269-843b-8d7bc6b37d51",
   "metadata": {
    "tags": []
   },
   "outputs": [
    {
     "name": "stdout",
     "output_type": "stream",
     "text": [
      "<class 'pandas.core.frame.DataFrame'>\n",
      "Index: 1016 entries, 0 to 1015\n",
      "Data columns (total 4 columns):\n",
      " #   Column        Non-Null Count  Dtype  \n",
      "---  ------        --------------  -----  \n",
      " 0   speakerparty  1016 non-null   object \n",
      " 1   Sentiment     1016 non-null   object \n",
      " 2   Year          1016 non-null   float64\n",
      " 3   PROVCODE      1016 non-null   object \n",
      "dtypes: float64(1), object(3)\n",
      "memory usage: 39.7+ KB\n"
     ]
    }
   ],
   "source": [
    "df_prov.dropna(inplace=True)\n",
    "df_prov.info()"
   ]
  },
  {
   "cell_type": "markdown",
   "id": "cc86ea40-4de4-4455-8e2a-7d02257a6e7c",
   "metadata": {},
   "source": [
    "Now, let's join the sentiment dataset with the emissions dataset from before."
   ]
  },
  {
   "cell_type": "code",
   "execution_count": 98,
   "id": "f4d62bd8-caf3-4311-abee-112136721303",
   "metadata": {
    "tags": []
   },
   "outputs": [
    {
     "data": {
      "text/plain": [
       "2"
      ]
     },
     "execution_count": 98,
     "metadata": {},
     "output_type": "execute_result"
    }
   ],
   "source": [
    "#going to check if either dataset has less or more values for 'key' columns (primary & foreign keys)\n",
    "a = df_prov.speakerparty.unique()\n",
    "b = new_carbon_df.federal_party.unique()\n",
    "\n",
    "len(a) - len(b)"
   ]
  },
  {
   "cell_type": "code",
   "execution_count": 99,
   "id": "ce8dbe96-b03e-4f63-9c3b-fe11a7b62eef",
   "metadata": {
    "tags": []
   },
   "outputs": [
    {
     "data": {
      "text/plain": [
       "0"
      ]
     },
     "execution_count": 99,
     "metadata": {},
     "output_type": "execute_result"
    }
   ],
   "source": [
    "a = df_prov.Year.unique()\n",
    "b = new_carbon_df.year.unique()\n",
    "\n",
    "len(a) - len(b)"
   ]
  },
  {
   "cell_type": "code",
   "execution_count": 100,
   "id": "267f9279-7125-43c6-8f14-47d77c9719a8",
   "metadata": {
    "tags": []
   },
   "outputs": [
    {
     "data": {
      "text/plain": [
       "-3"
      ]
     },
     "execution_count": 100,
     "metadata": {},
     "output_type": "execute_result"
    }
   ],
   "source": [
    "a = df_prov.PROVCODE.unique()\n",
    "b = new_carbon_df.province.unique()\n",
    "\n",
    "len(a) - len(b)"
   ]
  },
  {
   "cell_type": "markdown",
   "id": "458ee0de-8815-48eb-b26f-1424527df77e",
   "metadata": {},
   "source": [
    "According to the above results, df_prov has more parties, and new_carbon_df has more provinces. To avoid nulls when joining, I'm going to filter the datasets beforehand."
   ]
  },
  {
   "cell_type": "code",
   "execution_count": 121,
   "id": "12912c45-1fe6-4dcc-ba40-7287ae13caef",
   "metadata": {
    "tags": []
   },
   "outputs": [],
   "source": [
    "# new_carbon_df = new_carbon_df.loc[new_carbon_df.province.isin(df_prov.PROVCODE.unique()), :]\n",
    "# df_prov = df_prov.loc[df_prov.speakerparty.isin(new_carbon_df.federal_party.unique()), :]\n",
    "df_joined = df_prov.merge(new_carbon_df, left_on=['Year', 'PROVCODE', 'speakerparty'], right_on=['year', 'province', 'federal_party'], how='right')"
   ]
  },
  {
   "cell_type": "code",
   "execution_count": 122,
   "id": "8184f0d2-3968-45d5-a5f2-8d54674e17f1",
   "metadata": {
    "tags": []
   },
   "outputs": [
    {
     "data": {
      "text/plain": [
       "speakerparty     26\n",
       "Sentiment        26\n",
       "Year             26\n",
       "PROVCODE         26\n",
       "year              0\n",
       "province          0\n",
       "federal_party     0\n",
       "co2_tonnes        0\n",
       "dtype: int64"
      ]
     },
     "execution_count": 122,
     "metadata": {},
     "output_type": "execute_result"
    }
   ],
   "source": [
    "df_joined.isna().sum()"
   ]
  },
  {
   "cell_type": "code",
   "execution_count": 123,
   "id": "2806e6c0-14a9-4d93-9947-fdac072c7ee4",
   "metadata": {
    "tags": []
   },
   "outputs": [
    {
     "name": "stdout",
     "output_type": "stream",
     "text": [
      "<class 'pandas.core.frame.DataFrame'>\n",
      "Index: 431 entries, 0 to 456\n",
      "Data columns (total 8 columns):\n",
      " #   Column         Non-Null Count  Dtype  \n",
      "---  ------         --------------  -----  \n",
      " 0   speakerparty   431 non-null    object \n",
      " 1   Sentiment      431 non-null    object \n",
      " 2   Year           431 non-null    float64\n",
      " 3   PROVCODE       431 non-null    object \n",
      " 4   year           431 non-null    int64  \n",
      " 5   province       431 non-null    object \n",
      " 6   federal_party  431 non-null    object \n",
      " 7   co2_tonnes     431 non-null    float64\n",
      "dtypes: float64(2), int64(1), object(5)\n",
      "memory usage: 30.3+ KB\n"
     ]
    }
   ],
   "source": [
    "df_joined.dropna(inplace=True)\n",
    "df_joined.info()"
   ]
  },
  {
   "cell_type": "code",
   "execution_count": 124,
   "id": "bc70e82c-5cb3-4939-bcf3-b89b91c94250",
   "metadata": {
    "tags": []
   },
   "outputs": [
    {
     "data": {
      "text/html": [
       "<div>\n",
       "<style scoped>\n",
       "    .dataframe tbody tr th:only-of-type {\n",
       "        vertical-align: middle;\n",
       "    }\n",
       "\n",
       "    .dataframe tbody tr th {\n",
       "        vertical-align: top;\n",
       "    }\n",
       "\n",
       "    .dataframe thead th {\n",
       "        text-align: right;\n",
       "    }\n",
       "</style>\n",
       "<table border=\"1\" class=\"dataframe\">\n",
       "  <thead>\n",
       "    <tr style=\"text-align: right;\">\n",
       "      <th></th>\n",
       "      <th>speakerparty</th>\n",
       "      <th>Sentiment</th>\n",
       "      <th>Year</th>\n",
       "      <th>province</th>\n",
       "      <th>co2_tonnes</th>\n",
       "    </tr>\n",
       "  </thead>\n",
       "  <tbody>\n",
       "    <tr>\n",
       "      <th>0</th>\n",
       "      <td>Conservative</td>\n",
       "      <td>Negative</td>\n",
       "      <td>2015.0</td>\n",
       "      <td>Alberta</td>\n",
       "      <td>1.360464e+08</td>\n",
       "    </tr>\n",
       "    <tr>\n",
       "      <th>1</th>\n",
       "      <td>Conservative</td>\n",
       "      <td>Positive</td>\n",
       "      <td>2015.0</td>\n",
       "      <td>Alberta</td>\n",
       "      <td>1.360464e+08</td>\n",
       "    </tr>\n",
       "    <tr>\n",
       "      <th>3</th>\n",
       "      <td>Conservative</td>\n",
       "      <td>Negative</td>\n",
       "      <td>2015.0</td>\n",
       "      <td>Manitoba</td>\n",
       "      <td>1.490384e+06</td>\n",
       "    </tr>\n",
       "    <tr>\n",
       "      <th>4</th>\n",
       "      <td>Conservative</td>\n",
       "      <td>Positive</td>\n",
       "      <td>2015.0</td>\n",
       "      <td>Manitoba</td>\n",
       "      <td>1.490384e+06</td>\n",
       "    </tr>\n",
       "    <tr>\n",
       "      <th>9</th>\n",
       "      <td>Liberal</td>\n",
       "      <td>Positive</td>\n",
       "      <td>2015.0</td>\n",
       "      <td>Ontario</td>\n",
       "      <td>3.788338e+07</td>\n",
       "    </tr>\n",
       "  </tbody>\n",
       "</table>\n",
       "</div>"
      ],
      "text/plain": [
       "   speakerparty Sentiment    Year  province    co2_tonnes\n",
       "0  Conservative  Negative  2015.0   Alberta  1.360464e+08\n",
       "1  Conservative  Positive  2015.0   Alberta  1.360464e+08\n",
       "3  Conservative  Negative  2015.0  Manitoba  1.490384e+06\n",
       "4  Conservative  Positive  2015.0  Manitoba  1.490384e+06\n",
       "9       Liberal  Positive  2015.0   Ontario  3.788338e+07"
      ]
     },
     "execution_count": 124,
     "metadata": {},
     "output_type": "execute_result"
    }
   ],
   "source": [
    "df_joined = df_joined.iloc[:, [0,1,2,5,7]]\n",
    "df_joined.head()"
   ]
  },
  {
   "cell_type": "markdown",
   "id": "8c69a549-1374-42b7-9c49-40485cc7cfa2",
   "metadata": {},
   "source": [
    "Above we visualized party and year with sentiment; now we can investigate any possible relationship between province with sentiment."
   ]
  },
  {
   "cell_type": "code",
   "execution_count": 130,
   "id": "1ab194f2-39d6-4d97-85c7-30ed64087975",
   "metadata": {
    "tags": []
   },
   "outputs": [
    {
     "data": {
      "text/plain": [
       "Text(0, 0.5, 'Count')"
      ]
     },
     "execution_count": 130,
     "metadata": {},
     "output_type": "execute_result"
    },
    {
     "data": {
      "image/png": "[encoded data removed]",
      "text/plain": [
       "<Figure size 640x480 with 1 Axes>"
      ]
     },
     "metadata": {},
     "output_type": "display_data"
    }
   ],
   "source": [
    "#plot province and sentiment\n",
    "sns.countplot(data=df_joined, y='province', hue='Sentiment', palette=['red', 'blue'])\n",
    "plt.title(\"Provincial Sentiment\")\n",
    "plt.xlabel(\"Province\")\n",
    "plt.ylabel(\"Count\")"
   ]
  },
  {
   "cell_type": "markdown",
   "id": "c9900222-6201-42ab-8e44-77458aadeb02",
   "metadata": {},
   "source": [
    "Seems like Alberta, Manitoba and Saskatchewan had more negative sentiment, while the rest of the provinces had a positive sentiment. Interestingly enough, of the top 3 provinces that had more negative sentiment, all 3 of them happened to be Conservative, while 2 of them (Alberta and Saskatchewan) were among the top 3 CO2 producers in all of Canada."
   ]
  },
  {
   "cell_type": "markdown",
   "id": "cc9eccd4-671d-47c2-abc6-93ba84d6d457",
   "metadata": {},
   "source": [
    "<h1>Modeling</h1>"
   ]
  },
  {
   "cell_type": "markdown",
   "id": "f930113e-f0b0-4fae-9580-0a3a30b69083",
   "metadata": {},
   "source": [
    "Here are some insights found within the data:<br>\n",
    "1) Alberta, Manitoba and Saskatchewan all had negative sentiments, while the other provinces had positive sentiments\n",
    "2) Alberta and Saskatchewan were in the top 3 CO2 producers\n",
    "3) The Conservative party had more negative sentiment, while the other parties had more positive sentiment<br>\n",
    "\n",
    "From this, we can try to build a model that takes into account the party, the province and the 'sentiment ratio' (positive/negative) to try and predict CO2 emissions for a particular province in a particular year."
   ]
  },
  {
   "cell_type": "code",
   "execution_count": 131,
   "id": "297ea750-88a8-463f-b98a-8f930bc4a213",
   "metadata": {
    "tags": []
   },
   "outputs": [
    {
     "name": "stdout",
     "output_type": "stream",
     "text": [
      "<class 'pandas.core.frame.DataFrame'>\n",
      "Index: 3236 entries, 0 to 3244\n",
      "Data columns (total 5 columns):\n",
      " #   Column        Non-Null Count  Dtype  \n",
      "---  ------        --------------  -----  \n",
      " 0   speakerparty  3236 non-null   object \n",
      " 1   Sentiment     3236 non-null   object \n",
      " 2   Year          3236 non-null   int64  \n",
      " 3   province      3236 non-null   object \n",
      " 4   co2_tonnes    3236 non-null   float64\n",
      "dtypes: float64(1), int64(1), object(3)\n",
      "memory usage: 151.7+ KB\n"
     ]
    }
   ],
   "source": [
    "df_joined.info()"
   ]
  },
  {
   "cell_type": "code",
   "execution_count": 141,
   "id": "173830f0-5039-4376-a39a-464d66437aea",
   "metadata": {
    "tags": []
   },
   "outputs": [
    {
     "data": {
      "text/html": [
       "<div>\n",
       "<style scoped>\n",
       "    .dataframe tbody tr th:only-of-type {\n",
       "        vertical-align: middle;\n",
       "    }\n",
       "\n",
       "    .dataframe tbody tr th {\n",
       "        vertical-align: top;\n",
       "    }\n",
       "\n",
       "    .dataframe thead th {\n",
       "        text-align: right;\n",
       "    }\n",
       "</style>\n",
       "<table border=\"1\" class=\"dataframe\">\n",
       "  <thead>\n",
       "    <tr style=\"text-align: right;\">\n",
       "      <th></th>\n",
       "      <th>province</th>\n",
       "      <th>speakerparty</th>\n",
       "      <th>p_sent</th>\n",
       "      <th>n_sent</th>\n",
       "    </tr>\n",
       "  </thead>\n",
       "  <tbody>\n",
       "    <tr>\n",
       "      <th>0</th>\n",
       "      <td>Alberta</td>\n",
       "      <td>Conservative</td>\n",
       "      <td>445</td>\n",
       "      <td>497.0</td>\n",
       "    </tr>\n",
       "    <tr>\n",
       "      <th>1</th>\n",
       "      <td>British Columbia</td>\n",
       "      <td>Liberal</td>\n",
       "      <td>20</td>\n",
       "      <td>3.0</td>\n",
       "    </tr>\n",
       "    <tr>\n",
       "      <th>2</th>\n",
       "      <td>Manitoba</td>\n",
       "      <td>Conservative</td>\n",
       "      <td>445</td>\n",
       "      <td>497.0</td>\n",
       "    </tr>\n",
       "    <tr>\n",
       "      <th>3</th>\n",
       "      <td>New Brunswick</td>\n",
       "      <td>Conservative</td>\n",
       "      <td>80</td>\n",
       "      <td>84.0</td>\n",
       "    </tr>\n",
       "    <tr>\n",
       "      <th>4</th>\n",
       "      <td>New Brunswick</td>\n",
       "      <td>Liberal</td>\n",
       "      <td>20</td>\n",
       "      <td>2.0</td>\n",
       "    </tr>\n",
       "  </tbody>\n",
       "</table>\n",
       "</div>"
      ],
      "text/plain": [
       "           province  speakerparty  p_sent  n_sent\n",
       "0           Alberta  Conservative     445   497.0\n",
       "1  British Columbia       Liberal      20     3.0\n",
       "2          Manitoba  Conservative     445   497.0\n",
       "3     New Brunswick  Conservative      80    84.0\n",
       "4     New Brunswick       Liberal      20     2.0"
      ]
     },
     "execution_count": 141,
     "metadata": {},
     "output_type": "execute_result"
    }
   ],
   "source": [
    "#need to split the dataset on sentiment so that we can calculate a ratio\n",
    "df_positive = df_joined.loc[df_joined.Sentiment=='Positive',:]\n",
    "df_negative = df_joined.loc[df_joined.Sentiment=='Negative',:]\n",
    "\n",
    "#get counts of each type of sentiment based on province and party\n",
    "a = df_positive.groupby(['province', 'speakerparty']).agg({'Sentiment': 'count'})\n",
    "b = df_negative.groupby(['province', 'speakerparty']).agg({'Sentiment': 'count'})\n",
    "\n",
    "#reset index to turn multi-index into columns\n",
    "a.reset_index(inplace=True)\n",
    "b.reset_index(inplace=True)\n",
    "\n",
    "#rename columns so that there is no confusion after join\n",
    "a.rename(columns={'Sentiment': 'p_sent'}, inplace=True)\n",
    "b.rename(columns={'Sentiment': 'n_sent'}, inplace=True)\n",
    "\n",
    "df_ratio = a.merge(b, on=['province', 'speakerparty'], how='outer')\n",
    "df_ratio.head()"
   ]
  },
  {
   "cell_type": "code",
   "execution_count": 145,
   "id": "d2a7704f-5f95-4dbb-b8e5-8406d8b13f9e",
   "metadata": {
    "tags": []
   },
   "outputs": [
    {
     "data": {
      "text/html": [
       "<div>\n",
       "<style scoped>\n",
       "    .dataframe tbody tr th:only-of-type {\n",
       "        vertical-align: middle;\n",
       "    }\n",
       "\n",
       "    .dataframe tbody tr th {\n",
       "        vertical-align: top;\n",
       "    }\n",
       "\n",
       "    .dataframe thead th {\n",
       "        text-align: right;\n",
       "    }\n",
       "</style>\n",
       "<table border=\"1\" class=\"dataframe\">\n",
       "  <thead>\n",
       "    <tr style=\"text-align: right;\">\n",
       "      <th></th>\n",
       "      <th>province</th>\n",
       "      <th>speakerparty</th>\n",
       "      <th>p_sent</th>\n",
       "      <th>n_sent</th>\n",
       "    </tr>\n",
       "  </thead>\n",
       "  <tbody>\n",
       "    <tr>\n",
       "      <th>0</th>\n",
       "      <td>Alberta</td>\n",
       "      <td>Conservative</td>\n",
       "      <td>445</td>\n",
       "      <td>497.0</td>\n",
       "    </tr>\n",
       "    <tr>\n",
       "      <th>1</th>\n",
       "      <td>British Columbia</td>\n",
       "      <td>Liberal</td>\n",
       "      <td>20</td>\n",
       "      <td>3.0</td>\n",
       "    </tr>\n",
       "    <tr>\n",
       "      <th>2</th>\n",
       "      <td>Manitoba</td>\n",
       "      <td>Conservative</td>\n",
       "      <td>445</td>\n",
       "      <td>497.0</td>\n",
       "    </tr>\n",
       "    <tr>\n",
       "      <th>3</th>\n",
       "      <td>New Brunswick</td>\n",
       "      <td>Conservative</td>\n",
       "      <td>80</td>\n",
       "      <td>84.0</td>\n",
       "    </tr>\n",
       "    <tr>\n",
       "      <th>4</th>\n",
       "      <td>New Brunswick</td>\n",
       "      <td>Liberal</td>\n",
       "      <td>20</td>\n",
       "      <td>2.0</td>\n",
       "    </tr>\n",
       "    <tr>\n",
       "      <th>5</th>\n",
       "      <td>Newfoundland and Labrador</td>\n",
       "      <td>Liberal</td>\n",
       "      <td>20</td>\n",
       "      <td>3.0</td>\n",
       "    </tr>\n",
       "    <tr>\n",
       "      <th>6</th>\n",
       "      <td>Northwest Territories</td>\n",
       "      <td>Liberal</td>\n",
       "      <td>20</td>\n",
       "      <td>3.0</td>\n",
       "    </tr>\n",
       "    <tr>\n",
       "      <th>7</th>\n",
       "      <td>Nova Scotia</td>\n",
       "      <td>Liberal</td>\n",
       "      <td>20</td>\n",
       "      <td>3.0</td>\n",
       "    </tr>\n",
       "    <tr>\n",
       "      <th>8</th>\n",
       "      <td>Nunavut</td>\n",
       "      <td>NDP</td>\n",
       "      <td>33</td>\n",
       "      <td>7.0</td>\n",
       "    </tr>\n",
       "    <tr>\n",
       "      <th>9</th>\n",
       "      <td>Ontario</td>\n",
       "      <td>Liberal</td>\n",
       "      <td>20</td>\n",
       "      <td>3.0</td>\n",
       "    </tr>\n",
       "    <tr>\n",
       "      <th>10</th>\n",
       "      <td>Prince Edward Island</td>\n",
       "      <td>Liberal</td>\n",
       "      <td>20</td>\n",
       "      <td>3.0</td>\n",
       "    </tr>\n",
       "    <tr>\n",
       "      <th>11</th>\n",
       "      <td>Quebec</td>\n",
       "      <td>Bloc</td>\n",
       "      <td>1</td>\n",
       "      <td>NaN</td>\n",
       "    </tr>\n",
       "    <tr>\n",
       "      <th>12</th>\n",
       "      <td>Quebec</td>\n",
       "      <td>Liberal</td>\n",
       "      <td>20</td>\n",
       "      <td>2.0</td>\n",
       "    </tr>\n",
       "    <tr>\n",
       "      <th>13</th>\n",
       "      <td>Saskatchewan</td>\n",
       "      <td>Conservative</td>\n",
       "      <td>445</td>\n",
       "      <td>497.0</td>\n",
       "    </tr>\n",
       "    <tr>\n",
       "      <th>14</th>\n",
       "      <td>Yukon</td>\n",
       "      <td>Liberal</td>\n",
       "      <td>20</td>\n",
       "      <td>3.0</td>\n",
       "    </tr>\n",
       "  </tbody>\n",
       "</table>\n",
       "</div>"
      ],
      "text/plain": [
       "                     province  speakerparty  p_sent  n_sent\n",
       "0                     Alberta  Conservative     445   497.0\n",
       "1            British Columbia       Liberal      20     3.0\n",
       "2                    Manitoba  Conservative     445   497.0\n",
       "3               New Brunswick  Conservative      80    84.0\n",
       "4               New Brunswick       Liberal      20     2.0\n",
       "5   Newfoundland and Labrador       Liberal      20     3.0\n",
       "6       Northwest Territories       Liberal      20     3.0\n",
       "7                 Nova Scotia       Liberal      20     3.0\n",
       "8                     Nunavut           NDP      33     7.0\n",
       "9                     Ontario       Liberal      20     3.0\n",
       "10       Prince Edward Island       Liberal      20     3.0\n",
       "11                     Quebec          Bloc       1     NaN\n",
       "12                     Quebec       Liberal      20     2.0\n",
       "13               Saskatchewan  Conservative     445   497.0\n",
       "14                      Yukon       Liberal      20     3.0"
      ]
     },
     "execution_count": 145,
     "metadata": {},
     "output_type": "execute_result"
    }
   ],
   "source": [
    "df_ratio"
   ]
  },
  {
   "cell_type": "code",
   "execution_count": null,
   "id": "97a2617d-8404-434a-a509-b3bb0e789d85",
   "metadata": {},
   "outputs": [],
   "source": []
  }
 ],
 "metadata": {
  "kernelspec": {
   "display_name": "Python 3 (ipykernel)",
   "language": "python",
   "name": "python3"
  },
  "language_info": {
   "codemirror_mode": {
    "name": "ipython",
    "version": 3
   },
   "file_extension": ".py",
   "mimetype": "text/x-python",
   "name": "python",
   "nbconvert_exporter": "python",
   "pygments_lexer": "ipython3",
   "version": "3.11.5"
  }
 },
 "nbformat": 4,
 "nbformat_minor": 5
}
